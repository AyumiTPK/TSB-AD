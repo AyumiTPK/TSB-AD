{
 "cells": [
  {
   "metadata": {
    "ExecuteTime": {
     "end_time": "2025-06-18T14:29:16.896672Z",
     "start_time": "2025-06-18T14:29:14.399144Z"
    }
   },
   "cell_type": "code",
   "source": "!pip install -r requirements.txt",
   "id": "a2ff3a17142231a9",
   "outputs": [
    {
     "name": "stdout",
     "output_type": "stream",
     "text": [
      "Requirement already satisfied: tqdm in /home/ayumi/.pyenv/versions/3.10.18/lib/python3.10/site-packages (from -r requirements.txt (line 1)) (4.67.1)\r\n",
      "Requirement already satisfied: torchinfo in /home/ayumi/.pyenv/versions/3.10.18/lib/python3.10/site-packages (from -r requirements.txt (line 2)) (1.8.0)\r\n",
      "Requirement already satisfied: h5py in /home/ayumi/.pyenv/versions/3.10.18/lib/python3.10/site-packages (from -r requirements.txt (line 3)) (3.14.0)\r\n",
      "Requirement already satisfied: einops in /home/ayumi/.pyenv/versions/3.10.18/lib/python3.10/site-packages (from -r requirements.txt (line 4)) (0.8.1)\r\n",
      "Requirement already satisfied: numpy<2.0,>=1.24.3 in /home/ayumi/.pyenv/versions/3.10.18/lib/python3.10/site-packages (from -r requirements.txt (line 5)) (1.26.4)\r\n",
      "Requirement already satisfied: matplotlib>=3.7.5 in /home/ayumi/.pyenv/versions/3.10.18/lib/python3.10/site-packages (from -r requirements.txt (line 6)) (3.7.5)\r\n",
      "Requirement already satisfied: pandas>=2.0.3 in /home/ayumi/.pyenv/versions/3.10.18/lib/python3.10/site-packages (from -r requirements.txt (line 7)) (2.3.0)\r\n",
      "Requirement already satisfied: arch>=5.3.1 in /home/ayumi/.pyenv/versions/3.10.18/lib/python3.10/site-packages (from -r requirements.txt (line 8)) (5.3.1)\r\n",
      "Requirement already satisfied: hurst>=0.0.5 in /home/ayumi/.pyenv/versions/3.10.18/lib/python3.10/site-packages (from -r requirements.txt (line 9)) (0.0.5)\r\n",
      "Requirement already satisfied: tslearn>=0.6.3 in /home/ayumi/.pyenv/versions/3.10.18/lib/python3.10/site-packages (from -r requirements.txt (line 10)) (0.6.3)\r\n",
      "Requirement already satisfied: cython>=3.0.10 in /home/ayumi/.pyenv/versions/3.10.18/lib/python3.10/site-packages (from -r requirements.txt (line 11)) (3.0.10)\r\n",
      "Requirement already satisfied: scikit-learn>=1.3.2 in /home/ayumi/.pyenv/versions/3.10.18/lib/python3.10/site-packages (from -r requirements.txt (line 12)) (1.3.2)\r\n",
      "Requirement already satisfied: stumpy>=1.12.0 in /home/ayumi/.pyenv/versions/3.10.18/lib/python3.10/site-packages (from -r requirements.txt (line 13)) (1.12.0)\r\n",
      "Requirement already satisfied: networkx>=3.1 in /home/ayumi/.pyenv/versions/3.10.18/lib/python3.10/site-packages (from -r requirements.txt (line 14)) (3.1)\r\n",
      "Requirement already satisfied: transformers>=4.38.0 in /home/ayumi/.pyenv/versions/3.10.18/lib/python3.10/site-packages (from -r requirements.txt (line 15)) (4.38.0)\r\n",
      "Requirement already satisfied: torch==2.3.0 in /home/ayumi/.pyenv/versions/3.10.18/lib/python3.10/site-packages (from -r requirements.txt (line 16)) (2.3.0+cu121)\r\n",
      "Requirement already satisfied: filelock in /home/ayumi/.pyenv/versions/3.10.18/lib/python3.10/site-packages (from torch==2.3.0->-r requirements.txt (line 16)) (3.18.0)\r\n",
      "Requirement already satisfied: typing-extensions>=4.8.0 in /home/ayumi/.pyenv/versions/3.10.18/lib/python3.10/site-packages (from torch==2.3.0->-r requirements.txt (line 16)) (4.14.0)\r\n",
      "Requirement already satisfied: sympy in /home/ayumi/.pyenv/versions/3.10.18/lib/python3.10/site-packages (from torch==2.3.0->-r requirements.txt (line 16)) (1.14.0)\r\n",
      "Requirement already satisfied: jinja2 in /home/ayumi/.pyenv/versions/3.10.18/lib/python3.10/site-packages (from torch==2.3.0->-r requirements.txt (line 16)) (3.1.6)\r\n",
      "Requirement already satisfied: fsspec in /home/ayumi/.pyenv/versions/3.10.18/lib/python3.10/site-packages (from torch==2.3.0->-r requirements.txt (line 16)) (2025.3.0)\r\n",
      "Requirement already satisfied: nvidia-cuda-nvrtc-cu12==12.1.105 in /home/ayumi/.pyenv/versions/3.10.18/lib/python3.10/site-packages (from torch==2.3.0->-r requirements.txt (line 16)) (12.1.105)\r\n",
      "Requirement already satisfied: nvidia-cuda-runtime-cu12==12.1.105 in /home/ayumi/.pyenv/versions/3.10.18/lib/python3.10/site-packages (from torch==2.3.0->-r requirements.txt (line 16)) (12.1.105)\r\n",
      "Requirement already satisfied: nvidia-cuda-cupti-cu12==12.1.105 in /home/ayumi/.pyenv/versions/3.10.18/lib/python3.10/site-packages (from torch==2.3.0->-r requirements.txt (line 16)) (12.1.105)\r\n",
      "Requirement already satisfied: nvidia-cudnn-cu12==8.9.2.26 in /home/ayumi/.pyenv/versions/3.10.18/lib/python3.10/site-packages (from torch==2.3.0->-r requirements.txt (line 16)) (8.9.2.26)\r\n",
      "Requirement already satisfied: nvidia-cublas-cu12==12.1.3.1 in /home/ayumi/.pyenv/versions/3.10.18/lib/python3.10/site-packages (from torch==2.3.0->-r requirements.txt (line 16)) (12.1.3.1)\r\n",
      "Requirement already satisfied: nvidia-cufft-cu12==11.0.2.54 in /home/ayumi/.pyenv/versions/3.10.18/lib/python3.10/site-packages (from torch==2.3.0->-r requirements.txt (line 16)) (11.0.2.54)\r\n",
      "Requirement already satisfied: nvidia-curand-cu12==10.3.2.106 in /home/ayumi/.pyenv/versions/3.10.18/lib/python3.10/site-packages (from torch==2.3.0->-r requirements.txt (line 16)) (10.3.2.106)\r\n",
      "Requirement already satisfied: nvidia-cusolver-cu12==11.4.5.107 in /home/ayumi/.pyenv/versions/3.10.18/lib/python3.10/site-packages (from torch==2.3.0->-r requirements.txt (line 16)) (11.4.5.107)\r\n",
      "Requirement already satisfied: nvidia-cusparse-cu12==12.1.0.106 in /home/ayumi/.pyenv/versions/3.10.18/lib/python3.10/site-packages (from torch==2.3.0->-r requirements.txt (line 16)) (12.1.0.106)\r\n",
      "Requirement already satisfied: nvidia-nccl-cu12==2.20.5 in /home/ayumi/.pyenv/versions/3.10.18/lib/python3.10/site-packages (from torch==2.3.0->-r requirements.txt (line 16)) (2.20.5)\r\n",
      "Requirement already satisfied: nvidia-nvtx-cu12==12.1.105 in /home/ayumi/.pyenv/versions/3.10.18/lib/python3.10/site-packages (from torch==2.3.0->-r requirements.txt (line 16)) (12.1.105)\r\n",
      "Requirement already satisfied: triton==2.3.0 in /home/ayumi/.pyenv/versions/3.10.18/lib/python3.10/site-packages (from torch==2.3.0->-r requirements.txt (line 16)) (2.3.0)\r\n",
      "Requirement already satisfied: nvidia-nvjitlink-cu12 in /home/ayumi/.pyenv/versions/3.10.18/lib/python3.10/site-packages (from nvidia-cusolver-cu12==11.4.5.107->torch==2.3.0->-r requirements.txt (line 16)) (12.6.85)\r\n",
      "Requirement already satisfied: contourpy>=1.0.1 in /home/ayumi/.pyenv/versions/3.10.18/lib/python3.10/site-packages (from matplotlib>=3.7.5->-r requirements.txt (line 6)) (1.3.2)\r\n",
      "Requirement already satisfied: cycler>=0.10 in /home/ayumi/.pyenv/versions/3.10.18/lib/python3.10/site-packages (from matplotlib>=3.7.5->-r requirements.txt (line 6)) (0.12.1)\r\n",
      "Requirement already satisfied: fonttools>=4.22.0 in /home/ayumi/.pyenv/versions/3.10.18/lib/python3.10/site-packages (from matplotlib>=3.7.5->-r requirements.txt (line 6)) (4.58.3)\r\n",
      "Requirement already satisfied: kiwisolver>=1.0.1 in /home/ayumi/.pyenv/versions/3.10.18/lib/python3.10/site-packages (from matplotlib>=3.7.5->-r requirements.txt (line 6)) (1.4.8)\r\n",
      "Requirement already satisfied: packaging>=20.0 in /home/ayumi/.pyenv/versions/3.10.18/lib/python3.10/site-packages (from matplotlib>=3.7.5->-r requirements.txt (line 6)) (25.0)\r\n",
      "Requirement already satisfied: pillow>=6.2.0 in /home/ayumi/.pyenv/versions/3.10.18/lib/python3.10/site-packages (from matplotlib>=3.7.5->-r requirements.txt (line 6)) (11.2.1)\r\n",
      "Requirement already satisfied: pyparsing>=2.3.1 in /home/ayumi/.pyenv/versions/3.10.18/lib/python3.10/site-packages (from matplotlib>=3.7.5->-r requirements.txt (line 6)) (3.2.3)\r\n",
      "Requirement already satisfied: python-dateutil>=2.7 in /home/ayumi/.pyenv/versions/3.10.18/lib/python3.10/site-packages (from matplotlib>=3.7.5->-r requirements.txt (line 6)) (2.9.0.post0)\r\n",
      "Requirement already satisfied: pytz>=2020.1 in /home/ayumi/.pyenv/versions/3.10.18/lib/python3.10/site-packages (from pandas>=2.0.3->-r requirements.txt (line 7)) (2025.2)\r\n",
      "Requirement already satisfied: tzdata>=2022.7 in /home/ayumi/.pyenv/versions/3.10.18/lib/python3.10/site-packages (from pandas>=2.0.3->-r requirements.txt (line 7)) (2025.2)\r\n",
      "Requirement already satisfied: scipy>=1.3 in /home/ayumi/.pyenv/versions/3.10.18/lib/python3.10/site-packages (from arch>=5.3.1->-r requirements.txt (line 8)) (1.15.3)\r\n",
      "Requirement already satisfied: statsmodels>=0.11 in /home/ayumi/.pyenv/versions/3.10.18/lib/python3.10/site-packages (from arch>=5.3.1->-r requirements.txt (line 8)) (0.14.4)\r\n",
      "Requirement already satisfied: property-cached>=1.6.4 in /home/ayumi/.pyenv/versions/3.10.18/lib/python3.10/site-packages (from arch>=5.3.1->-r requirements.txt (line 8)) (1.6.4)\r\n",
      "Requirement already satisfied: numba in /home/ayumi/.pyenv/versions/3.10.18/lib/python3.10/site-packages (from tslearn>=0.6.3->-r requirements.txt (line 10)) (0.61.2)\r\n",
      "Requirement already satisfied: joblib in /home/ayumi/.pyenv/versions/3.10.18/lib/python3.10/site-packages (from tslearn>=0.6.3->-r requirements.txt (line 10)) (1.5.1)\r\n",
      "Requirement already satisfied: threadpoolctl>=2.0.0 in /home/ayumi/.pyenv/versions/3.10.18/lib/python3.10/site-packages (from scikit-learn>=1.3.2->-r requirements.txt (line 12)) (3.6.0)\r\n",
      "Requirement already satisfied: huggingface-hub<1.0,>=0.19.3 in /home/ayumi/.pyenv/versions/3.10.18/lib/python3.10/site-packages (from transformers>=4.38.0->-r requirements.txt (line 15)) (0.33.0)\r\n",
      "Requirement already satisfied: pyyaml>=5.1 in /home/ayumi/.pyenv/versions/3.10.18/lib/python3.10/site-packages (from transformers>=4.38.0->-r requirements.txt (line 15)) (6.0.2)\r\n",
      "Requirement already satisfied: regex!=2019.12.17 in /home/ayumi/.pyenv/versions/3.10.18/lib/python3.10/site-packages (from transformers>=4.38.0->-r requirements.txt (line 15)) (2024.11.6)\r\n",
      "Requirement already satisfied: requests in /home/ayumi/.pyenv/versions/3.10.18/lib/python3.10/site-packages (from transformers>=4.38.0->-r requirements.txt (line 15)) (2.32.4)\r\n",
      "Requirement already satisfied: tokenizers<0.19,>=0.14 in /home/ayumi/.pyenv/versions/3.10.18/lib/python3.10/site-packages (from transformers>=4.38.0->-r requirements.txt (line 15)) (0.15.2)\r\n",
      "Requirement already satisfied: safetensors>=0.4.1 in /home/ayumi/.pyenv/versions/3.10.18/lib/python3.10/site-packages (from transformers>=4.38.0->-r requirements.txt (line 15)) (0.5.3)\r\n",
      "Requirement already satisfied: hf-xet<2.0.0,>=1.1.2 in /home/ayumi/.pyenv/versions/3.10.18/lib/python3.10/site-packages (from huggingface-hub<1.0,>=0.19.3->transformers>=4.38.0->-r requirements.txt (line 15)) (1.1.3)\r\n",
      "Requirement already satisfied: llvmlite<0.45,>=0.44.0dev0 in /home/ayumi/.pyenv/versions/3.10.18/lib/python3.10/site-packages (from numba->tslearn>=0.6.3->-r requirements.txt (line 10)) (0.44.0)\r\n",
      "Requirement already satisfied: six>=1.5 in /home/ayumi/.pyenv/versions/3.10.18/lib/python3.10/site-packages (from python-dateutil>=2.7->matplotlib>=3.7.5->-r requirements.txt (line 6)) (1.17.0)\r\n",
      "Requirement already satisfied: patsy>=0.5.6 in /home/ayumi/.pyenv/versions/3.10.18/lib/python3.10/site-packages (from statsmodels>=0.11->arch>=5.3.1->-r requirements.txt (line 8)) (1.0.1)\r\n",
      "Requirement already satisfied: MarkupSafe>=2.0 in /home/ayumi/.pyenv/versions/3.10.18/lib/python3.10/site-packages (from jinja2->torch==2.3.0->-r requirements.txt (line 16)) (3.0.2)\r\n",
      "Requirement already satisfied: charset_normalizer<4,>=2 in /home/ayumi/.pyenv/versions/3.10.18/lib/python3.10/site-packages (from requests->transformers>=4.38.0->-r requirements.txt (line 15)) (3.4.2)\r\n",
      "Requirement already satisfied: idna<4,>=2.5 in /home/ayumi/.pyenv/versions/3.10.18/lib/python3.10/site-packages (from requests->transformers>=4.38.0->-r requirements.txt (line 15)) (3.10)\r\n",
      "Requirement already satisfied: urllib3<3,>=1.21.1 in /home/ayumi/.pyenv/versions/3.10.18/lib/python3.10/site-packages (from requests->transformers>=4.38.0->-r requirements.txt (line 15)) (1.26.20)\r\n",
      "Requirement already satisfied: certifi>=2017.4.17 in /home/ayumi/.pyenv/versions/3.10.18/lib/python3.10/site-packages (from requests->transformers>=4.38.0->-r requirements.txt (line 15)) (2025.4.26)\r\n",
      "Requirement already satisfied: mpmath<1.4,>=1.1.0 in /home/ayumi/.pyenv/versions/3.10.18/lib/python3.10/site-packages (from sympy->torch==2.3.0->-r requirements.txt (line 16)) (1.3.0)\r\n",
      "\r\n",
      "\u001B[1m[\u001B[0m\u001B[34;49mnotice\u001B[0m\u001B[1;39;49m]\u001B[0m\u001B[39;49m A new release of pip is available: \u001B[0m\u001B[31;49m24.3.1\u001B[0m\u001B[39;49m -> \u001B[0m\u001B[32;49m25.1.1\u001B[0m\r\n",
      "\u001B[1m[\u001B[0m\u001B[34;49mnotice\u001B[0m\u001B[1;39;49m]\u001B[0m\u001B[39;49m To update, run: \u001B[0m\u001B[32;49mpip install --upgrade pip\u001B[0m\r\n"
     ]
    }
   ],
   "execution_count": 3
  },
  {
   "metadata": {
    "ExecuteTime": {
     "end_time": "2025-06-18T14:29:40.577462Z",
     "start_time": "2025-06-18T14:29:28.719389Z"
    }
   },
   "cell_type": "code",
   "source": [
    "# Install ibm/tsfm\n",
    "! pip install \"granite-tsfm[notebooks] @ git+https://github.com/ibm-granite/granite-tsfm.git@v0.2.22\""
   ],
   "id": "d48601b53f5f3501",
   "outputs": [
    {
     "name": "stdout",
     "output_type": "stream",
     "text": [
      "Collecting granite-tsfm@ git+https://github.com/ibm-granite/granite-tsfm.git@v0.2.22 (from granite-tsfm[notebooks]@ git+https://github.com/ibm-granite/granite-tsfm.git@v0.2.22)\r\n",
      "  Cloning https://github.com/ibm-granite/granite-tsfm.git (to revision v0.2.22) to /tmp/pip-install-l25hxxaa/granite-tsfm_e9b040ab003e4620985692f972fdddcf\r\n",
      "  Running command git clone --filter=blob:none --quiet https://github.com/ibm-granite/granite-tsfm.git /tmp/pip-install-l25hxxaa/granite-tsfm_e9b040ab003e4620985692f972fdddcf\r\n",
      "  Running command git checkout -q 216850d0cb073e31689049c1334f701fe11bc2c3\r\n",
      "  Resolved https://github.com/ibm-granite/granite-tsfm.git to commit 216850d0cb073e31689049c1334f701fe11bc2c3\r\n",
      "  Installing build dependencies ... \u001B[?25ldone\r\n",
      "\u001B[?25h  Getting requirements to build wheel ... \u001B[?25ldone\r\n",
      "\u001B[?25h  Preparing metadata (pyproject.toml) ... \u001B[?25ldone\r\n",
      "\u001B[?25hRequirement already satisfied: pandas>=2.2.0 in /home/ayumi/.pyenv/versions/3.10.18/lib/python3.10/site-packages (from granite-tsfm@ git+https://github.com/ibm-granite/granite-tsfm.git@v0.2.22->granite-tsfm[notebooks]@ git+https://github.com/ibm-granite/granite-tsfm.git@v0.2.22) (2.3.0)\r\n",
      "Requirement already satisfied: scikit-learn in /home/ayumi/.pyenv/versions/3.10.18/lib/python3.10/site-packages (from granite-tsfm@ git+https://github.com/ibm-granite/granite-tsfm.git@v0.2.22->granite-tsfm[notebooks]@ git+https://github.com/ibm-granite/granite-tsfm.git@v0.2.22) (1.3.2)\r\n",
      "Requirement already satisfied: transformers>=4.38.0 in /home/ayumi/.pyenv/versions/3.10.18/lib/python3.10/site-packages (from transformers[torch]>=4.38.0->granite-tsfm@ git+https://github.com/ibm-granite/granite-tsfm.git@v0.2.22->granite-tsfm[notebooks]@ git+https://github.com/ibm-granite/granite-tsfm.git@v0.2.22) (4.38.0)\r\n",
      "Requirement already satisfied: datasets in /home/ayumi/.pyenv/versions/3.10.18/lib/python3.10/site-packages (from granite-tsfm@ git+https://github.com/ibm-granite/granite-tsfm.git@v0.2.22->granite-tsfm[notebooks]@ git+https://github.com/ibm-granite/granite-tsfm.git@v0.2.22) (3.6.0)\r\n",
      "Requirement already satisfied: deprecated in /home/ayumi/.pyenv/versions/3.10.18/lib/python3.10/site-packages (from granite-tsfm@ git+https://github.com/ibm-granite/granite-tsfm.git@v0.2.22->granite-tsfm[notebooks]@ git+https://github.com/ibm-granite/granite-tsfm.git@v0.2.22) (1.2.18)\r\n",
      "Requirement already satisfied: urllib3<2,>=1.26.19 in /home/ayumi/.pyenv/versions/3.10.18/lib/python3.10/site-packages (from granite-tsfm@ git+https://github.com/ibm-granite/granite-tsfm.git@v0.2.22->granite-tsfm[notebooks]@ git+https://github.com/ibm-granite/granite-tsfm.git@v0.2.22) (1.26.20)\r\n",
      "Requirement already satisfied: numpy<2 in /home/ayumi/.pyenv/versions/3.10.18/lib/python3.10/site-packages (from granite-tsfm@ git+https://github.com/ibm-granite/granite-tsfm.git@v0.2.22->granite-tsfm[notebooks]@ git+https://github.com/ibm-granite/granite-tsfm.git@v0.2.22) (1.26.4)\r\n",
      "Requirement already satisfied: jupyter in /home/ayumi/.pyenv/versions/3.10.18/lib/python3.10/site-packages (from granite-tsfm@ git+https://github.com/ibm-granite/granite-tsfm.git@v0.2.22->granite-tsfm[notebooks]@ git+https://github.com/ibm-granite/granite-tsfm.git@v0.2.22) (1.1.1)\r\n",
      "Requirement already satisfied: matplotlib in /home/ayumi/.pyenv/versions/3.10.18/lib/python3.10/site-packages (from granite-tsfm@ git+https://github.com/ibm-granite/granite-tsfm.git@v0.2.22->granite-tsfm[notebooks]@ git+https://github.com/ibm-granite/granite-tsfm.git@v0.2.22) (3.7.5)\r\n",
      "Requirement already satisfied: ipywidgets in /home/ayumi/.pyenv/versions/3.10.18/lib/python3.10/site-packages (from granite-tsfm@ git+https://github.com/ibm-granite/granite-tsfm.git@v0.2.22->granite-tsfm[notebooks]@ git+https://github.com/ibm-granite/granite-tsfm.git@v0.2.22) (8.1.7)\r\n",
      "Requirement already satisfied: plotly in /home/ayumi/.pyenv/versions/3.10.18/lib/python3.10/site-packages (from granite-tsfm@ git+https://github.com/ibm-granite/granite-tsfm.git@v0.2.22->granite-tsfm[notebooks]@ git+https://github.com/ibm-granite/granite-tsfm.git@v0.2.22) (6.1.2)\r\n",
      "Requirement already satisfied: kaleido in /home/ayumi/.pyenv/versions/3.10.18/lib/python3.10/site-packages (from granite-tsfm@ git+https://github.com/ibm-granite/granite-tsfm.git@v0.2.22->granite-tsfm[notebooks]@ git+https://github.com/ibm-granite/granite-tsfm.git@v0.2.22) (0.2.1)\r\n",
      "Requirement already satisfied: tensorboard in /home/ayumi/.pyenv/versions/3.10.18/lib/python3.10/site-packages (from granite-tsfm@ git+https://github.com/ibm-granite/granite-tsfm.git@v0.2.22->granite-tsfm[notebooks]@ git+https://github.com/ibm-granite/granite-tsfm.git@v0.2.22) (2.19.0)\r\n",
      "Requirement already satisfied: python-dateutil>=2.8.2 in /home/ayumi/.pyenv/versions/3.10.18/lib/python3.10/site-packages (from pandas>=2.2.0->granite-tsfm@ git+https://github.com/ibm-granite/granite-tsfm.git@v0.2.22->granite-tsfm[notebooks]@ git+https://github.com/ibm-granite/granite-tsfm.git@v0.2.22) (2.9.0.post0)\r\n",
      "Requirement already satisfied: pytz>=2020.1 in /home/ayumi/.pyenv/versions/3.10.18/lib/python3.10/site-packages (from pandas>=2.2.0->granite-tsfm@ git+https://github.com/ibm-granite/granite-tsfm.git@v0.2.22->granite-tsfm[notebooks]@ git+https://github.com/ibm-granite/granite-tsfm.git@v0.2.22) (2025.2)\r\n",
      "Requirement already satisfied: tzdata>=2022.7 in /home/ayumi/.pyenv/versions/3.10.18/lib/python3.10/site-packages (from pandas>=2.2.0->granite-tsfm@ git+https://github.com/ibm-granite/granite-tsfm.git@v0.2.22->granite-tsfm[notebooks]@ git+https://github.com/ibm-granite/granite-tsfm.git@v0.2.22) (2025.2)\r\n",
      "Requirement already satisfied: filelock in /home/ayumi/.pyenv/versions/3.10.18/lib/python3.10/site-packages (from transformers>=4.38.0->transformers[torch]>=4.38.0->granite-tsfm@ git+https://github.com/ibm-granite/granite-tsfm.git@v0.2.22->granite-tsfm[notebooks]@ git+https://github.com/ibm-granite/granite-tsfm.git@v0.2.22) (3.18.0)\r\n",
      "Requirement already satisfied: huggingface-hub<1.0,>=0.19.3 in /home/ayumi/.pyenv/versions/3.10.18/lib/python3.10/site-packages (from transformers>=4.38.0->transformers[torch]>=4.38.0->granite-tsfm@ git+https://github.com/ibm-granite/granite-tsfm.git@v0.2.22->granite-tsfm[notebooks]@ git+https://github.com/ibm-granite/granite-tsfm.git@v0.2.22) (0.33.0)\r\n",
      "Requirement already satisfied: packaging>=20.0 in /home/ayumi/.pyenv/versions/3.10.18/lib/python3.10/site-packages (from transformers>=4.38.0->transformers[torch]>=4.38.0->granite-tsfm@ git+https://github.com/ibm-granite/granite-tsfm.git@v0.2.22->granite-tsfm[notebooks]@ git+https://github.com/ibm-granite/granite-tsfm.git@v0.2.22) (25.0)\r\n",
      "Requirement already satisfied: pyyaml>=5.1 in /home/ayumi/.pyenv/versions/3.10.18/lib/python3.10/site-packages (from transformers>=4.38.0->transformers[torch]>=4.38.0->granite-tsfm@ git+https://github.com/ibm-granite/granite-tsfm.git@v0.2.22->granite-tsfm[notebooks]@ git+https://github.com/ibm-granite/granite-tsfm.git@v0.2.22) (6.0.2)\r\n",
      "Requirement already satisfied: regex!=2019.12.17 in /home/ayumi/.pyenv/versions/3.10.18/lib/python3.10/site-packages (from transformers>=4.38.0->transformers[torch]>=4.38.0->granite-tsfm@ git+https://github.com/ibm-granite/granite-tsfm.git@v0.2.22->granite-tsfm[notebooks]@ git+https://github.com/ibm-granite/granite-tsfm.git@v0.2.22) (2024.11.6)\r\n",
      "Requirement already satisfied: requests in /home/ayumi/.pyenv/versions/3.10.18/lib/python3.10/site-packages (from transformers>=4.38.0->transformers[torch]>=4.38.0->granite-tsfm@ git+https://github.com/ibm-granite/granite-tsfm.git@v0.2.22->granite-tsfm[notebooks]@ git+https://github.com/ibm-granite/granite-tsfm.git@v0.2.22) (2.32.4)\r\n",
      "Requirement already satisfied: tokenizers<0.19,>=0.14 in /home/ayumi/.pyenv/versions/3.10.18/lib/python3.10/site-packages (from transformers>=4.38.0->transformers[torch]>=4.38.0->granite-tsfm@ git+https://github.com/ibm-granite/granite-tsfm.git@v0.2.22->granite-tsfm[notebooks]@ git+https://github.com/ibm-granite/granite-tsfm.git@v0.2.22) (0.15.2)\r\n",
      "Requirement already satisfied: safetensors>=0.4.1 in /home/ayumi/.pyenv/versions/3.10.18/lib/python3.10/site-packages (from transformers>=4.38.0->transformers[torch]>=4.38.0->granite-tsfm@ git+https://github.com/ibm-granite/granite-tsfm.git@v0.2.22->granite-tsfm[notebooks]@ git+https://github.com/ibm-granite/granite-tsfm.git@v0.2.22) (0.5.3)\r\n",
      "Requirement already satisfied: tqdm>=4.27 in /home/ayumi/.pyenv/versions/3.10.18/lib/python3.10/site-packages (from transformers>=4.38.0->transformers[torch]>=4.38.0->granite-tsfm@ git+https://github.com/ibm-granite/granite-tsfm.git@v0.2.22->granite-tsfm[notebooks]@ git+https://github.com/ibm-granite/granite-tsfm.git@v0.2.22) (4.67.1)\r\n",
      "Requirement already satisfied: torch in /home/ayumi/.pyenv/versions/3.10.18/lib/python3.10/site-packages (from transformers[torch]>=4.38.0->granite-tsfm@ git+https://github.com/ibm-granite/granite-tsfm.git@v0.2.22->granite-tsfm[notebooks]@ git+https://github.com/ibm-granite/granite-tsfm.git@v0.2.22) (2.3.0+cu121)\r\n",
      "Requirement already satisfied: accelerate>=0.21.0 in /home/ayumi/.pyenv/versions/3.10.18/lib/python3.10/site-packages (from transformers[torch]>=4.38.0->granite-tsfm@ git+https://github.com/ibm-granite/granite-tsfm.git@v0.2.22->granite-tsfm[notebooks]@ git+https://github.com/ibm-granite/granite-tsfm.git@v0.2.22) (0.34.2)\r\n",
      "Requirement already satisfied: pyarrow>=15.0.0 in /home/ayumi/.pyenv/versions/3.10.18/lib/python3.10/site-packages (from datasets->granite-tsfm@ git+https://github.com/ibm-granite/granite-tsfm.git@v0.2.22->granite-tsfm[notebooks]@ git+https://github.com/ibm-granite/granite-tsfm.git@v0.2.22) (20.0.0)\r\n",
      "Requirement already satisfied: dill<0.3.9,>=0.3.0 in /home/ayumi/.pyenv/versions/3.10.18/lib/python3.10/site-packages (from datasets->granite-tsfm@ git+https://github.com/ibm-granite/granite-tsfm.git@v0.2.22->granite-tsfm[notebooks]@ git+https://github.com/ibm-granite/granite-tsfm.git@v0.2.22) (0.3.8)\r\n",
      "Requirement already satisfied: xxhash in /home/ayumi/.pyenv/versions/3.10.18/lib/python3.10/site-packages (from datasets->granite-tsfm@ git+https://github.com/ibm-granite/granite-tsfm.git@v0.2.22->granite-tsfm[notebooks]@ git+https://github.com/ibm-granite/granite-tsfm.git@v0.2.22) (3.5.0)\r\n",
      "Requirement already satisfied: multiprocess<0.70.17 in /home/ayumi/.pyenv/versions/3.10.18/lib/python3.10/site-packages (from datasets->granite-tsfm@ git+https://github.com/ibm-granite/granite-tsfm.git@v0.2.22->granite-tsfm[notebooks]@ git+https://github.com/ibm-granite/granite-tsfm.git@v0.2.22) (0.70.16)\r\n",
      "Requirement already satisfied: fsspec<=2025.3.0,>=2023.1.0 in /home/ayumi/.pyenv/versions/3.10.18/lib/python3.10/site-packages (from fsspec[http]<=2025.3.0,>=2023.1.0->datasets->granite-tsfm@ git+https://github.com/ibm-granite/granite-tsfm.git@v0.2.22->granite-tsfm[notebooks]@ git+https://github.com/ibm-granite/granite-tsfm.git@v0.2.22) (2025.3.0)\r\n",
      "Requirement already satisfied: wrapt<2,>=1.10 in /home/ayumi/.pyenv/versions/3.10.18/lib/python3.10/site-packages (from deprecated->granite-tsfm@ git+https://github.com/ibm-granite/granite-tsfm.git@v0.2.22->granite-tsfm[notebooks]@ git+https://github.com/ibm-granite/granite-tsfm.git@v0.2.22) (1.17.2)\r\n",
      "Requirement already satisfied: comm>=0.1.3 in /home/ayumi/.pyenv/versions/3.10.18/lib/python3.10/site-packages (from ipywidgets->granite-tsfm@ git+https://github.com/ibm-granite/granite-tsfm.git@v0.2.22->granite-tsfm[notebooks]@ git+https://github.com/ibm-granite/granite-tsfm.git@v0.2.22) (0.2.2)\r\n",
      "Requirement already satisfied: ipython>=6.1.0 in /home/ayumi/.pyenv/versions/3.10.18/lib/python3.10/site-packages (from ipywidgets->granite-tsfm@ git+https://github.com/ibm-granite/granite-tsfm.git@v0.2.22->granite-tsfm[notebooks]@ git+https://github.com/ibm-granite/granite-tsfm.git@v0.2.22) (8.37.0)\r\n",
      "Requirement already satisfied: traitlets>=4.3.1 in /home/ayumi/.pyenv/versions/3.10.18/lib/python3.10/site-packages (from ipywidgets->granite-tsfm@ git+https://github.com/ibm-granite/granite-tsfm.git@v0.2.22->granite-tsfm[notebooks]@ git+https://github.com/ibm-granite/granite-tsfm.git@v0.2.22) (5.14.3)\r\n",
      "Requirement already satisfied: widgetsnbextension~=4.0.14 in /home/ayumi/.pyenv/versions/3.10.18/lib/python3.10/site-packages (from ipywidgets->granite-tsfm@ git+https://github.com/ibm-granite/granite-tsfm.git@v0.2.22->granite-tsfm[notebooks]@ git+https://github.com/ibm-granite/granite-tsfm.git@v0.2.22) (4.0.14)\r\n",
      "Requirement already satisfied: jupyterlab_widgets~=3.0.15 in /home/ayumi/.pyenv/versions/3.10.18/lib/python3.10/site-packages (from ipywidgets->granite-tsfm@ git+https://github.com/ibm-granite/granite-tsfm.git@v0.2.22->granite-tsfm[notebooks]@ git+https://github.com/ibm-granite/granite-tsfm.git@v0.2.22) (3.0.15)\r\n",
      "Requirement already satisfied: notebook in /home/ayumi/.pyenv/versions/3.10.18/lib/python3.10/site-packages (from jupyter->granite-tsfm@ git+https://github.com/ibm-granite/granite-tsfm.git@v0.2.22->granite-tsfm[notebooks]@ git+https://github.com/ibm-granite/granite-tsfm.git@v0.2.22) (7.4.3)\r\n",
      "Requirement already satisfied: jupyter-console in /home/ayumi/.pyenv/versions/3.10.18/lib/python3.10/site-packages (from jupyter->granite-tsfm@ git+https://github.com/ibm-granite/granite-tsfm.git@v0.2.22->granite-tsfm[notebooks]@ git+https://github.com/ibm-granite/granite-tsfm.git@v0.2.22) (6.6.3)\r\n",
      "Requirement already satisfied: nbconvert in /home/ayumi/.pyenv/versions/3.10.18/lib/python3.10/site-packages (from jupyter->granite-tsfm@ git+https://github.com/ibm-granite/granite-tsfm.git@v0.2.22->granite-tsfm[notebooks]@ git+https://github.com/ibm-granite/granite-tsfm.git@v0.2.22) (7.16.6)\r\n",
      "Requirement already satisfied: ipykernel in /home/ayumi/.pyenv/versions/3.10.18/lib/python3.10/site-packages (from jupyter->granite-tsfm@ git+https://github.com/ibm-granite/granite-tsfm.git@v0.2.22->granite-tsfm[notebooks]@ git+https://github.com/ibm-granite/granite-tsfm.git@v0.2.22) (6.29.5)\r\n",
      "Requirement already satisfied: jupyterlab in /home/ayumi/.pyenv/versions/3.10.18/lib/python3.10/site-packages (from jupyter->granite-tsfm@ git+https://github.com/ibm-granite/granite-tsfm.git@v0.2.22->granite-tsfm[notebooks]@ git+https://github.com/ibm-granite/granite-tsfm.git@v0.2.22) (4.4.3)\r\n",
      "Requirement already satisfied: contourpy>=1.0.1 in /home/ayumi/.pyenv/versions/3.10.18/lib/python3.10/site-packages (from matplotlib->granite-tsfm@ git+https://github.com/ibm-granite/granite-tsfm.git@v0.2.22->granite-tsfm[notebooks]@ git+https://github.com/ibm-granite/granite-tsfm.git@v0.2.22) (1.3.2)\r\n",
      "Requirement already satisfied: cycler>=0.10 in /home/ayumi/.pyenv/versions/3.10.18/lib/python3.10/site-packages (from matplotlib->granite-tsfm@ git+https://github.com/ibm-granite/granite-tsfm.git@v0.2.22->granite-tsfm[notebooks]@ git+https://github.com/ibm-granite/granite-tsfm.git@v0.2.22) (0.12.1)\r\n",
      "Requirement already satisfied: fonttools>=4.22.0 in /home/ayumi/.pyenv/versions/3.10.18/lib/python3.10/site-packages (from matplotlib->granite-tsfm@ git+https://github.com/ibm-granite/granite-tsfm.git@v0.2.22->granite-tsfm[notebooks]@ git+https://github.com/ibm-granite/granite-tsfm.git@v0.2.22) (4.58.3)\r\n",
      "Requirement already satisfied: kiwisolver>=1.0.1 in /home/ayumi/.pyenv/versions/3.10.18/lib/python3.10/site-packages (from matplotlib->granite-tsfm@ git+https://github.com/ibm-granite/granite-tsfm.git@v0.2.22->granite-tsfm[notebooks]@ git+https://github.com/ibm-granite/granite-tsfm.git@v0.2.22) (1.4.8)\r\n",
      "Requirement already satisfied: pillow>=6.2.0 in /home/ayumi/.pyenv/versions/3.10.18/lib/python3.10/site-packages (from matplotlib->granite-tsfm@ git+https://github.com/ibm-granite/granite-tsfm.git@v0.2.22->granite-tsfm[notebooks]@ git+https://github.com/ibm-granite/granite-tsfm.git@v0.2.22) (11.2.1)\r\n",
      "Requirement already satisfied: pyparsing>=2.3.1 in /home/ayumi/.pyenv/versions/3.10.18/lib/python3.10/site-packages (from matplotlib->granite-tsfm@ git+https://github.com/ibm-granite/granite-tsfm.git@v0.2.22->granite-tsfm[notebooks]@ git+https://github.com/ibm-granite/granite-tsfm.git@v0.2.22) (3.2.3)\r\n",
      "Requirement already satisfied: narwhals>=1.15.1 in /home/ayumi/.pyenv/versions/3.10.18/lib/python3.10/site-packages (from plotly->granite-tsfm@ git+https://github.com/ibm-granite/granite-tsfm.git@v0.2.22->granite-tsfm[notebooks]@ git+https://github.com/ibm-granite/granite-tsfm.git@v0.2.22) (1.42.1)\r\n",
      "Requirement already satisfied: scipy>=1.5.0 in /home/ayumi/.pyenv/versions/3.10.18/lib/python3.10/site-packages (from scikit-learn->granite-tsfm@ git+https://github.com/ibm-granite/granite-tsfm.git@v0.2.22->granite-tsfm[notebooks]@ git+https://github.com/ibm-granite/granite-tsfm.git@v0.2.22) (1.15.3)\r\n",
      "Requirement already satisfied: joblib>=1.1.1 in /home/ayumi/.pyenv/versions/3.10.18/lib/python3.10/site-packages (from scikit-learn->granite-tsfm@ git+https://github.com/ibm-granite/granite-tsfm.git@v0.2.22->granite-tsfm[notebooks]@ git+https://github.com/ibm-granite/granite-tsfm.git@v0.2.22) (1.5.1)\r\n",
      "Requirement already satisfied: threadpoolctl>=2.0.0 in /home/ayumi/.pyenv/versions/3.10.18/lib/python3.10/site-packages (from scikit-learn->granite-tsfm@ git+https://github.com/ibm-granite/granite-tsfm.git@v0.2.22->granite-tsfm[notebooks]@ git+https://github.com/ibm-granite/granite-tsfm.git@v0.2.22) (3.6.0)\r\n",
      "Requirement already satisfied: absl-py>=0.4 in /home/ayumi/.pyenv/versions/3.10.18/lib/python3.10/site-packages (from tensorboard->granite-tsfm@ git+https://github.com/ibm-granite/granite-tsfm.git@v0.2.22->granite-tsfm[notebooks]@ git+https://github.com/ibm-granite/granite-tsfm.git@v0.2.22) (2.3.0)\r\n",
      "Requirement already satisfied: grpcio>=1.48.2 in /home/ayumi/.pyenv/versions/3.10.18/lib/python3.10/site-packages (from tensorboard->granite-tsfm@ git+https://github.com/ibm-granite/granite-tsfm.git@v0.2.22->granite-tsfm[notebooks]@ git+https://github.com/ibm-granite/granite-tsfm.git@v0.2.22) (1.73.0)\r\n",
      "Requirement already satisfied: markdown>=2.6.8 in /home/ayumi/.pyenv/versions/3.10.18/lib/python3.10/site-packages (from tensorboard->granite-tsfm@ git+https://github.com/ibm-granite/granite-tsfm.git@v0.2.22->granite-tsfm[notebooks]@ git+https://github.com/ibm-granite/granite-tsfm.git@v0.2.22) (3.8)\r\n",
      "Requirement already satisfied: protobuf!=4.24.0,>=3.19.6 in /home/ayumi/.pyenv/versions/3.10.18/lib/python3.10/site-packages (from tensorboard->granite-tsfm@ git+https://github.com/ibm-granite/granite-tsfm.git@v0.2.22->granite-tsfm[notebooks]@ git+https://github.com/ibm-granite/granite-tsfm.git@v0.2.22) (6.31.1)\r\n",
      "Requirement already satisfied: setuptools>=41.0.0 in /home/ayumi/.pyenv/versions/3.10.18/lib/python3.10/site-packages (from tensorboard->granite-tsfm@ git+https://github.com/ibm-granite/granite-tsfm.git@v0.2.22->granite-tsfm[notebooks]@ git+https://github.com/ibm-granite/granite-tsfm.git@v0.2.22) (44.1.1)\r\n",
      "Requirement already satisfied: six>1.9 in /home/ayumi/.pyenv/versions/3.10.18/lib/python3.10/site-packages (from tensorboard->granite-tsfm@ git+https://github.com/ibm-granite/granite-tsfm.git@v0.2.22->granite-tsfm[notebooks]@ git+https://github.com/ibm-granite/granite-tsfm.git@v0.2.22) (1.17.0)\r\n",
      "Requirement already satisfied: tensorboard-data-server<0.8.0,>=0.7.0 in /home/ayumi/.pyenv/versions/3.10.18/lib/python3.10/site-packages (from tensorboard->granite-tsfm@ git+https://github.com/ibm-granite/granite-tsfm.git@v0.2.22->granite-tsfm[notebooks]@ git+https://github.com/ibm-granite/granite-tsfm.git@v0.2.22) (0.7.2)\r\n",
      "Requirement already satisfied: werkzeug>=1.0.1 in /home/ayumi/.pyenv/versions/3.10.18/lib/python3.10/site-packages (from tensorboard->granite-tsfm@ git+https://github.com/ibm-granite/granite-tsfm.git@v0.2.22->granite-tsfm[notebooks]@ git+https://github.com/ibm-granite/granite-tsfm.git@v0.2.22) (3.1.3)\r\n",
      "Requirement already satisfied: psutil in /home/ayumi/.pyenv/versions/3.10.18/lib/python3.10/site-packages (from accelerate>=0.21.0->transformers[torch]>=4.38.0->granite-tsfm@ git+https://github.com/ibm-granite/granite-tsfm.git@v0.2.22->granite-tsfm[notebooks]@ git+https://github.com/ibm-granite/granite-tsfm.git@v0.2.22) (7.0.0)\r\n",
      "Requirement already satisfied: aiohttp!=4.0.0a0,!=4.0.0a1 in /home/ayumi/.pyenv/versions/3.10.18/lib/python3.10/site-packages (from fsspec[http]<=2025.3.0,>=2023.1.0->datasets->granite-tsfm@ git+https://github.com/ibm-granite/granite-tsfm.git@v0.2.22->granite-tsfm[notebooks]@ git+https://github.com/ibm-granite/granite-tsfm.git@v0.2.22) (3.12.12)\r\n",
      "Requirement already satisfied: typing-extensions>=3.7.4.3 in /home/ayumi/.pyenv/versions/3.10.18/lib/python3.10/site-packages (from huggingface-hub<1.0,>=0.19.3->transformers>=4.38.0->transformers[torch]>=4.38.0->granite-tsfm@ git+https://github.com/ibm-granite/granite-tsfm.git@v0.2.22->granite-tsfm[notebooks]@ git+https://github.com/ibm-granite/granite-tsfm.git@v0.2.22) (4.14.0)\r\n",
      "Requirement already satisfied: hf-xet<2.0.0,>=1.1.2 in /home/ayumi/.pyenv/versions/3.10.18/lib/python3.10/site-packages (from huggingface-hub<1.0,>=0.19.3->transformers>=4.38.0->transformers[torch]>=4.38.0->granite-tsfm@ git+https://github.com/ibm-granite/granite-tsfm.git@v0.2.22->granite-tsfm[notebooks]@ git+https://github.com/ibm-granite/granite-tsfm.git@v0.2.22) (1.1.3)\r\n",
      "Requirement already satisfied: decorator in /home/ayumi/.pyenv/versions/3.10.18/lib/python3.10/site-packages (from ipython>=6.1.0->ipywidgets->granite-tsfm@ git+https://github.com/ibm-granite/granite-tsfm.git@v0.2.22->granite-tsfm[notebooks]@ git+https://github.com/ibm-granite/granite-tsfm.git@v0.2.22) (5.2.1)\r\n",
      "Requirement already satisfied: exceptiongroup in /home/ayumi/.pyenv/versions/3.10.18/lib/python3.10/site-packages (from ipython>=6.1.0->ipywidgets->granite-tsfm@ git+https://github.com/ibm-granite/granite-tsfm.git@v0.2.22->granite-tsfm[notebooks]@ git+https://github.com/ibm-granite/granite-tsfm.git@v0.2.22) (1.3.0)\r\n",
      "Requirement already satisfied: jedi>=0.16 in /home/ayumi/.pyenv/versions/3.10.18/lib/python3.10/site-packages (from ipython>=6.1.0->ipywidgets->granite-tsfm@ git+https://github.com/ibm-granite/granite-tsfm.git@v0.2.22->granite-tsfm[notebooks]@ git+https://github.com/ibm-granite/granite-tsfm.git@v0.2.22) (0.19.2)\r\n",
      "Requirement already satisfied: matplotlib-inline in /home/ayumi/.pyenv/versions/3.10.18/lib/python3.10/site-packages (from ipython>=6.1.0->ipywidgets->granite-tsfm@ git+https://github.com/ibm-granite/granite-tsfm.git@v0.2.22->granite-tsfm[notebooks]@ git+https://github.com/ibm-granite/granite-tsfm.git@v0.2.22) (0.1.7)\r\n",
      "Requirement already satisfied: pexpect>4.3 in /home/ayumi/.pyenv/versions/3.10.18/lib/python3.10/site-packages (from ipython>=6.1.0->ipywidgets->granite-tsfm@ git+https://github.com/ibm-granite/granite-tsfm.git@v0.2.22->granite-tsfm[notebooks]@ git+https://github.com/ibm-granite/granite-tsfm.git@v0.2.22) (4.9.0)\r\n",
      "Requirement already satisfied: prompt_toolkit<3.1.0,>=3.0.41 in /home/ayumi/.pyenv/versions/3.10.18/lib/python3.10/site-packages (from ipython>=6.1.0->ipywidgets->granite-tsfm@ git+https://github.com/ibm-granite/granite-tsfm.git@v0.2.22->granite-tsfm[notebooks]@ git+https://github.com/ibm-granite/granite-tsfm.git@v0.2.22) (3.0.51)\r\n",
      "Requirement already satisfied: pygments>=2.4.0 in /home/ayumi/.pyenv/versions/3.10.18/lib/python3.10/site-packages (from ipython>=6.1.0->ipywidgets->granite-tsfm@ git+https://github.com/ibm-granite/granite-tsfm.git@v0.2.22->granite-tsfm[notebooks]@ git+https://github.com/ibm-granite/granite-tsfm.git@v0.2.22) (2.19.1)\r\n",
      "Requirement already satisfied: stack_data in /home/ayumi/.pyenv/versions/3.10.18/lib/python3.10/site-packages (from ipython>=6.1.0->ipywidgets->granite-tsfm@ git+https://github.com/ibm-granite/granite-tsfm.git@v0.2.22->granite-tsfm[notebooks]@ git+https://github.com/ibm-granite/granite-tsfm.git@v0.2.22) (0.6.3)\r\n",
      "Requirement already satisfied: charset_normalizer<4,>=2 in /home/ayumi/.pyenv/versions/3.10.18/lib/python3.10/site-packages (from requests->transformers>=4.38.0->transformers[torch]>=4.38.0->granite-tsfm@ git+https://github.com/ibm-granite/granite-tsfm.git@v0.2.22->granite-tsfm[notebooks]@ git+https://github.com/ibm-granite/granite-tsfm.git@v0.2.22) (3.4.2)\r\n",
      "Requirement already satisfied: idna<4,>=2.5 in /home/ayumi/.pyenv/versions/3.10.18/lib/python3.10/site-packages (from requests->transformers>=4.38.0->transformers[torch]>=4.38.0->granite-tsfm@ git+https://github.com/ibm-granite/granite-tsfm.git@v0.2.22->granite-tsfm[notebooks]@ git+https://github.com/ibm-granite/granite-tsfm.git@v0.2.22) (3.10)\r\n",
      "Requirement already satisfied: certifi>=2017.4.17 in /home/ayumi/.pyenv/versions/3.10.18/lib/python3.10/site-packages (from requests->transformers>=4.38.0->transformers[torch]>=4.38.0->granite-tsfm@ git+https://github.com/ibm-granite/granite-tsfm.git@v0.2.22->granite-tsfm[notebooks]@ git+https://github.com/ibm-granite/granite-tsfm.git@v0.2.22) (2025.4.26)\r\n",
      "Requirement already satisfied: sympy in /home/ayumi/.pyenv/versions/3.10.18/lib/python3.10/site-packages (from torch->transformers[torch]>=4.38.0->granite-tsfm@ git+https://github.com/ibm-granite/granite-tsfm.git@v0.2.22->granite-tsfm[notebooks]@ git+https://github.com/ibm-granite/granite-tsfm.git@v0.2.22) (1.14.0)\r\n",
      "Requirement already satisfied: networkx in /home/ayumi/.pyenv/versions/3.10.18/lib/python3.10/site-packages (from torch->transformers[torch]>=4.38.0->granite-tsfm@ git+https://github.com/ibm-granite/granite-tsfm.git@v0.2.22->granite-tsfm[notebooks]@ git+https://github.com/ibm-granite/granite-tsfm.git@v0.2.22) (3.1)\r\n",
      "Requirement already satisfied: jinja2 in /home/ayumi/.pyenv/versions/3.10.18/lib/python3.10/site-packages (from torch->transformers[torch]>=4.38.0->granite-tsfm@ git+https://github.com/ibm-granite/granite-tsfm.git@v0.2.22->granite-tsfm[notebooks]@ git+https://github.com/ibm-granite/granite-tsfm.git@v0.2.22) (3.1.6)\r\n",
      "Requirement already satisfied: nvidia-cuda-nvrtc-cu12==12.1.105 in /home/ayumi/.pyenv/versions/3.10.18/lib/python3.10/site-packages (from torch->transformers[torch]>=4.38.0->granite-tsfm@ git+https://github.com/ibm-granite/granite-tsfm.git@v0.2.22->granite-tsfm[notebooks]@ git+https://github.com/ibm-granite/granite-tsfm.git@v0.2.22) (12.1.105)\r\n",
      "Requirement already satisfied: nvidia-cuda-runtime-cu12==12.1.105 in /home/ayumi/.pyenv/versions/3.10.18/lib/python3.10/site-packages (from torch->transformers[torch]>=4.38.0->granite-tsfm@ git+https://github.com/ibm-granite/granite-tsfm.git@v0.2.22->granite-tsfm[notebooks]@ git+https://github.com/ibm-granite/granite-tsfm.git@v0.2.22) (12.1.105)\r\n",
      "Requirement already satisfied: nvidia-cuda-cupti-cu12==12.1.105 in /home/ayumi/.pyenv/versions/3.10.18/lib/python3.10/site-packages (from torch->transformers[torch]>=4.38.0->granite-tsfm@ git+https://github.com/ibm-granite/granite-tsfm.git@v0.2.22->granite-tsfm[notebooks]@ git+https://github.com/ibm-granite/granite-tsfm.git@v0.2.22) (12.1.105)\r\n",
      "Requirement already satisfied: nvidia-cudnn-cu12==8.9.2.26 in /home/ayumi/.pyenv/versions/3.10.18/lib/python3.10/site-packages (from torch->transformers[torch]>=4.38.0->granite-tsfm@ git+https://github.com/ibm-granite/granite-tsfm.git@v0.2.22->granite-tsfm[notebooks]@ git+https://github.com/ibm-granite/granite-tsfm.git@v0.2.22) (8.9.2.26)\r\n",
      "Requirement already satisfied: nvidia-cublas-cu12==12.1.3.1 in /home/ayumi/.pyenv/versions/3.10.18/lib/python3.10/site-packages (from torch->transformers[torch]>=4.38.0->granite-tsfm@ git+https://github.com/ibm-granite/granite-tsfm.git@v0.2.22->granite-tsfm[notebooks]@ git+https://github.com/ibm-granite/granite-tsfm.git@v0.2.22) (12.1.3.1)\r\n",
      "Requirement already satisfied: nvidia-cufft-cu12==11.0.2.54 in /home/ayumi/.pyenv/versions/3.10.18/lib/python3.10/site-packages (from torch->transformers[torch]>=4.38.0->granite-tsfm@ git+https://github.com/ibm-granite/granite-tsfm.git@v0.2.22->granite-tsfm[notebooks]@ git+https://github.com/ibm-granite/granite-tsfm.git@v0.2.22) (11.0.2.54)\r\n",
      "Requirement already satisfied: nvidia-curand-cu12==10.3.2.106 in /home/ayumi/.pyenv/versions/3.10.18/lib/python3.10/site-packages (from torch->transformers[torch]>=4.38.0->granite-tsfm@ git+https://github.com/ibm-granite/granite-tsfm.git@v0.2.22->granite-tsfm[notebooks]@ git+https://github.com/ibm-granite/granite-tsfm.git@v0.2.22) (10.3.2.106)\r\n",
      "Requirement already satisfied: nvidia-cusolver-cu12==11.4.5.107 in /home/ayumi/.pyenv/versions/3.10.18/lib/python3.10/site-packages (from torch->transformers[torch]>=4.38.0->granite-tsfm@ git+https://github.com/ibm-granite/granite-tsfm.git@v0.2.22->granite-tsfm[notebooks]@ git+https://github.com/ibm-granite/granite-tsfm.git@v0.2.22) (11.4.5.107)\r\n",
      "Requirement already satisfied: nvidia-cusparse-cu12==12.1.0.106 in /home/ayumi/.pyenv/versions/3.10.18/lib/python3.10/site-packages (from torch->transformers[torch]>=4.38.0->granite-tsfm@ git+https://github.com/ibm-granite/granite-tsfm.git@v0.2.22->granite-tsfm[notebooks]@ git+https://github.com/ibm-granite/granite-tsfm.git@v0.2.22) (12.1.0.106)\r\n",
      "Requirement already satisfied: nvidia-nccl-cu12==2.20.5 in /home/ayumi/.pyenv/versions/3.10.18/lib/python3.10/site-packages (from torch->transformers[torch]>=4.38.0->granite-tsfm@ git+https://github.com/ibm-granite/granite-tsfm.git@v0.2.22->granite-tsfm[notebooks]@ git+https://github.com/ibm-granite/granite-tsfm.git@v0.2.22) (2.20.5)\r\n",
      "Requirement already satisfied: nvidia-nvtx-cu12==12.1.105 in /home/ayumi/.pyenv/versions/3.10.18/lib/python3.10/site-packages (from torch->transformers[torch]>=4.38.0->granite-tsfm@ git+https://github.com/ibm-granite/granite-tsfm.git@v0.2.22->granite-tsfm[notebooks]@ git+https://github.com/ibm-granite/granite-tsfm.git@v0.2.22) (12.1.105)\r\n",
      "Requirement already satisfied: triton==2.3.0 in /home/ayumi/.pyenv/versions/3.10.18/lib/python3.10/site-packages (from torch->transformers[torch]>=4.38.0->granite-tsfm@ git+https://github.com/ibm-granite/granite-tsfm.git@v0.2.22->granite-tsfm[notebooks]@ git+https://github.com/ibm-granite/granite-tsfm.git@v0.2.22) (2.3.0)\r\n",
      "Requirement already satisfied: nvidia-nvjitlink-cu12 in /home/ayumi/.pyenv/versions/3.10.18/lib/python3.10/site-packages (from nvidia-cusolver-cu12==11.4.5.107->torch->transformers[torch]>=4.38.0->granite-tsfm@ git+https://github.com/ibm-granite/granite-tsfm.git@v0.2.22->granite-tsfm[notebooks]@ git+https://github.com/ibm-granite/granite-tsfm.git@v0.2.22) (12.6.85)\r\n",
      "Requirement already satisfied: MarkupSafe>=2.1.1 in /home/ayumi/.pyenv/versions/3.10.18/lib/python3.10/site-packages (from werkzeug>=1.0.1->tensorboard->granite-tsfm@ git+https://github.com/ibm-granite/granite-tsfm.git@v0.2.22->granite-tsfm[notebooks]@ git+https://github.com/ibm-granite/granite-tsfm.git@v0.2.22) (3.0.2)\r\n",
      "Requirement already satisfied: debugpy>=1.6.5 in /home/ayumi/.pyenv/versions/3.10.18/lib/python3.10/site-packages (from ipykernel->jupyter->granite-tsfm@ git+https://github.com/ibm-granite/granite-tsfm.git@v0.2.22->granite-tsfm[notebooks]@ git+https://github.com/ibm-granite/granite-tsfm.git@v0.2.22) (1.8.14)\r\n",
      "Requirement already satisfied: jupyter-client>=6.1.12 in /home/ayumi/.pyenv/versions/3.10.18/lib/python3.10/site-packages (from ipykernel->jupyter->granite-tsfm@ git+https://github.com/ibm-granite/granite-tsfm.git@v0.2.22->granite-tsfm[notebooks]@ git+https://github.com/ibm-granite/granite-tsfm.git@v0.2.22) (8.6.3)\r\n",
      "Requirement already satisfied: jupyter-core!=5.0.*,>=4.12 in /home/ayumi/.pyenv/versions/3.10.18/lib/python3.10/site-packages (from ipykernel->jupyter->granite-tsfm@ git+https://github.com/ibm-granite/granite-tsfm.git@v0.2.22->granite-tsfm[notebooks]@ git+https://github.com/ibm-granite/granite-tsfm.git@v0.2.22) (5.8.1)\r\n",
      "Requirement already satisfied: nest-asyncio in /home/ayumi/.pyenv/versions/3.10.18/lib/python3.10/site-packages (from ipykernel->jupyter->granite-tsfm@ git+https://github.com/ibm-granite/granite-tsfm.git@v0.2.22->granite-tsfm[notebooks]@ git+https://github.com/ibm-granite/granite-tsfm.git@v0.2.22) (1.6.0)\r\n",
      "Requirement already satisfied: pyzmq>=24 in /home/ayumi/.pyenv/versions/3.10.18/lib/python3.10/site-packages (from ipykernel->jupyter->granite-tsfm@ git+https://github.com/ibm-granite/granite-tsfm.git@v0.2.22->granite-tsfm[notebooks]@ git+https://github.com/ibm-granite/granite-tsfm.git@v0.2.22) (27.0.0)\r\n",
      "Requirement already satisfied: tornado>=6.1 in /home/ayumi/.pyenv/versions/3.10.18/lib/python3.10/site-packages (from ipykernel->jupyter->granite-tsfm@ git+https://github.com/ibm-granite/granite-tsfm.git@v0.2.22->granite-tsfm[notebooks]@ git+https://github.com/ibm-granite/granite-tsfm.git@v0.2.22) (6.5.1)\r\n",
      "Requirement already satisfied: async-lru>=1.0.0 in /home/ayumi/.pyenv/versions/3.10.18/lib/python3.10/site-packages (from jupyterlab->jupyter->granite-tsfm@ git+https://github.com/ibm-granite/granite-tsfm.git@v0.2.22->granite-tsfm[notebooks]@ git+https://github.com/ibm-granite/granite-tsfm.git@v0.2.22) (2.0.5)\r\n",
      "Requirement already satisfied: httpx>=0.25.0 in /home/ayumi/.pyenv/versions/3.10.18/lib/python3.10/site-packages (from jupyterlab->jupyter->granite-tsfm@ git+https://github.com/ibm-granite/granite-tsfm.git@v0.2.22->granite-tsfm[notebooks]@ git+https://github.com/ibm-granite/granite-tsfm.git@v0.2.22) (0.28.1)\r\n",
      "Requirement already satisfied: jupyter-lsp>=2.0.0 in /home/ayumi/.pyenv/versions/3.10.18/lib/python3.10/site-packages (from jupyterlab->jupyter->granite-tsfm@ git+https://github.com/ibm-granite/granite-tsfm.git@v0.2.22->granite-tsfm[notebooks]@ git+https://github.com/ibm-granite/granite-tsfm.git@v0.2.22) (2.2.5)\r\n",
      "Requirement already satisfied: jupyter-server<3,>=2.4.0 in /home/ayumi/.pyenv/versions/3.10.18/lib/python3.10/site-packages (from jupyterlab->jupyter->granite-tsfm@ git+https://github.com/ibm-granite/granite-tsfm.git@v0.2.22->granite-tsfm[notebooks]@ git+https://github.com/ibm-granite/granite-tsfm.git@v0.2.22) (2.16.0)\r\n",
      "Requirement already satisfied: jupyterlab-server<3,>=2.27.1 in /home/ayumi/.pyenv/versions/3.10.18/lib/python3.10/site-packages (from jupyterlab->jupyter->granite-tsfm@ git+https://github.com/ibm-granite/granite-tsfm.git@v0.2.22->granite-tsfm[notebooks]@ git+https://github.com/ibm-granite/granite-tsfm.git@v0.2.22) (2.27.3)\r\n",
      "Requirement already satisfied: notebook-shim>=0.2 in /home/ayumi/.pyenv/versions/3.10.18/lib/python3.10/site-packages (from jupyterlab->jupyter->granite-tsfm@ git+https://github.com/ibm-granite/granite-tsfm.git@v0.2.22->granite-tsfm[notebooks]@ git+https://github.com/ibm-granite/granite-tsfm.git@v0.2.22) (0.2.4)\r\n",
      "Requirement already satisfied: tomli>=1.2.2 in /home/ayumi/.pyenv/versions/3.10.18/lib/python3.10/site-packages (from jupyterlab->jupyter->granite-tsfm@ git+https://github.com/ibm-granite/granite-tsfm.git@v0.2.22->granite-tsfm[notebooks]@ git+https://github.com/ibm-granite/granite-tsfm.git@v0.2.22) (2.2.1)\r\n",
      "Requirement already satisfied: beautifulsoup4 in /home/ayumi/.pyenv/versions/3.10.18/lib/python3.10/site-packages (from nbconvert->jupyter->granite-tsfm@ git+https://github.com/ibm-granite/granite-tsfm.git@v0.2.22->granite-tsfm[notebooks]@ git+https://github.com/ibm-granite/granite-tsfm.git@v0.2.22) (4.13.4)\r\n",
      "Requirement already satisfied: bleach!=5.0.0 in /home/ayumi/.pyenv/versions/3.10.18/lib/python3.10/site-packages (from bleach[css]!=5.0.0->nbconvert->jupyter->granite-tsfm@ git+https://github.com/ibm-granite/granite-tsfm.git@v0.2.22->granite-tsfm[notebooks]@ git+https://github.com/ibm-granite/granite-tsfm.git@v0.2.22) (6.2.0)\r\n",
      "Requirement already satisfied: defusedxml in /home/ayumi/.pyenv/versions/3.10.18/lib/python3.10/site-packages (from nbconvert->jupyter->granite-tsfm@ git+https://github.com/ibm-granite/granite-tsfm.git@v0.2.22->granite-tsfm[notebooks]@ git+https://github.com/ibm-granite/granite-tsfm.git@v0.2.22) (0.7.1)\r\n",
      "Requirement already satisfied: jupyterlab-pygments in /home/ayumi/.pyenv/versions/3.10.18/lib/python3.10/site-packages (from nbconvert->jupyter->granite-tsfm@ git+https://github.com/ibm-granite/granite-tsfm.git@v0.2.22->granite-tsfm[notebooks]@ git+https://github.com/ibm-granite/granite-tsfm.git@v0.2.22) (0.3.0)\r\n",
      "Requirement already satisfied: mistune<4,>=2.0.3 in /home/ayumi/.pyenv/versions/3.10.18/lib/python3.10/site-packages (from nbconvert->jupyter->granite-tsfm@ git+https://github.com/ibm-granite/granite-tsfm.git@v0.2.22->granite-tsfm[notebooks]@ git+https://github.com/ibm-granite/granite-tsfm.git@v0.2.22) (3.1.3)\r\n",
      "Requirement already satisfied: nbclient>=0.5.0 in /home/ayumi/.pyenv/versions/3.10.18/lib/python3.10/site-packages (from nbconvert->jupyter->granite-tsfm@ git+https://github.com/ibm-granite/granite-tsfm.git@v0.2.22->granite-tsfm[notebooks]@ git+https://github.com/ibm-granite/granite-tsfm.git@v0.2.22) (0.10.2)\r\n",
      "Requirement already satisfied: nbformat>=5.7 in /home/ayumi/.pyenv/versions/3.10.18/lib/python3.10/site-packages (from nbconvert->jupyter->granite-tsfm@ git+https://github.com/ibm-granite/granite-tsfm.git@v0.2.22->granite-tsfm[notebooks]@ git+https://github.com/ibm-granite/granite-tsfm.git@v0.2.22) (5.10.4)\r\n",
      "Requirement already satisfied: pandocfilters>=1.4.1 in /home/ayumi/.pyenv/versions/3.10.18/lib/python3.10/site-packages (from nbconvert->jupyter->granite-tsfm@ git+https://github.com/ibm-granite/granite-tsfm.git@v0.2.22->granite-tsfm[notebooks]@ git+https://github.com/ibm-granite/granite-tsfm.git@v0.2.22) (1.5.1)\r\n",
      "Requirement already satisfied: aiohappyeyeballs>=2.5.0 in /home/ayumi/.pyenv/versions/3.10.18/lib/python3.10/site-packages (from aiohttp!=4.0.0a0,!=4.0.0a1->fsspec[http]<=2025.3.0,>=2023.1.0->datasets->granite-tsfm@ git+https://github.com/ibm-granite/granite-tsfm.git@v0.2.22->granite-tsfm[notebooks]@ git+https://github.com/ibm-granite/granite-tsfm.git@v0.2.22) (2.6.1)\r\n",
      "Requirement already satisfied: aiosignal>=1.1.2 in /home/ayumi/.pyenv/versions/3.10.18/lib/python3.10/site-packages (from aiohttp!=4.0.0a0,!=4.0.0a1->fsspec[http]<=2025.3.0,>=2023.1.0->datasets->granite-tsfm@ git+https://github.com/ibm-granite/granite-tsfm.git@v0.2.22->granite-tsfm[notebooks]@ git+https://github.com/ibm-granite/granite-tsfm.git@v0.2.22) (1.3.2)\r\n",
      "Requirement already satisfied: async-timeout<6.0,>=4.0 in /home/ayumi/.pyenv/versions/3.10.18/lib/python3.10/site-packages (from aiohttp!=4.0.0a0,!=4.0.0a1->fsspec[http]<=2025.3.0,>=2023.1.0->datasets->granite-tsfm@ git+https://github.com/ibm-granite/granite-tsfm.git@v0.2.22->granite-tsfm[notebooks]@ git+https://github.com/ibm-granite/granite-tsfm.git@v0.2.22) (5.0.1)\r\n",
      "Requirement already satisfied: attrs>=17.3.0 in /home/ayumi/.pyenv/versions/3.10.18/lib/python3.10/site-packages (from aiohttp!=4.0.0a0,!=4.0.0a1->fsspec[http]<=2025.3.0,>=2023.1.0->datasets->granite-tsfm@ git+https://github.com/ibm-granite/granite-tsfm.git@v0.2.22->granite-tsfm[notebooks]@ git+https://github.com/ibm-granite/granite-tsfm.git@v0.2.22) (25.3.0)\r\n",
      "Requirement already satisfied: frozenlist>=1.1.1 in /home/ayumi/.pyenv/versions/3.10.18/lib/python3.10/site-packages (from aiohttp!=4.0.0a0,!=4.0.0a1->fsspec[http]<=2025.3.0,>=2023.1.0->datasets->granite-tsfm@ git+https://github.com/ibm-granite/granite-tsfm.git@v0.2.22->granite-tsfm[notebooks]@ git+https://github.com/ibm-granite/granite-tsfm.git@v0.2.22) (1.7.0)\r\n",
      "Requirement already satisfied: multidict<7.0,>=4.5 in /home/ayumi/.pyenv/versions/3.10.18/lib/python3.10/site-packages (from aiohttp!=4.0.0a0,!=4.0.0a1->fsspec[http]<=2025.3.0,>=2023.1.0->datasets->granite-tsfm@ git+https://github.com/ibm-granite/granite-tsfm.git@v0.2.22->granite-tsfm[notebooks]@ git+https://github.com/ibm-granite/granite-tsfm.git@v0.2.22) (6.4.4)\r\n",
      "Requirement already satisfied: propcache>=0.2.0 in /home/ayumi/.pyenv/versions/3.10.18/lib/python3.10/site-packages (from aiohttp!=4.0.0a0,!=4.0.0a1->fsspec[http]<=2025.3.0,>=2023.1.0->datasets->granite-tsfm@ git+https://github.com/ibm-granite/granite-tsfm.git@v0.2.22->granite-tsfm[notebooks]@ git+https://github.com/ibm-granite/granite-tsfm.git@v0.2.22) (0.3.2)\r\n",
      "Requirement already satisfied: yarl<2.0,>=1.17.0 in /home/ayumi/.pyenv/versions/3.10.18/lib/python3.10/site-packages (from aiohttp!=4.0.0a0,!=4.0.0a1->fsspec[http]<=2025.3.0,>=2023.1.0->datasets->granite-tsfm@ git+https://github.com/ibm-granite/granite-tsfm.git@v0.2.22->granite-tsfm[notebooks]@ git+https://github.com/ibm-granite/granite-tsfm.git@v0.2.22) (1.20.1)\r\n",
      "Requirement already satisfied: webencodings in /home/ayumi/.pyenv/versions/3.10.18/lib/python3.10/site-packages (from bleach!=5.0.0->bleach[css]!=5.0.0->nbconvert->jupyter->granite-tsfm@ git+https://github.com/ibm-granite/granite-tsfm.git@v0.2.22->granite-tsfm[notebooks]@ git+https://github.com/ibm-granite/granite-tsfm.git@v0.2.22) (0.5.1)\r\n",
      "Requirement already satisfied: tinycss2<1.5,>=1.1.0 in /home/ayumi/.pyenv/versions/3.10.18/lib/python3.10/site-packages (from bleach[css]!=5.0.0->nbconvert->jupyter->granite-tsfm@ git+https://github.com/ibm-granite/granite-tsfm.git@v0.2.22->granite-tsfm[notebooks]@ git+https://github.com/ibm-granite/granite-tsfm.git@v0.2.22) (1.4.0)\r\n",
      "Requirement already satisfied: anyio in /home/ayumi/.pyenv/versions/3.10.18/lib/python3.10/site-packages (from httpx>=0.25.0->jupyterlab->jupyter->granite-tsfm@ git+https://github.com/ibm-granite/granite-tsfm.git@v0.2.22->granite-tsfm[notebooks]@ git+https://github.com/ibm-granite/granite-tsfm.git@v0.2.22) (4.9.0)\r\n",
      "Requirement already satisfied: httpcore==1.* in /home/ayumi/.pyenv/versions/3.10.18/lib/python3.10/site-packages (from httpx>=0.25.0->jupyterlab->jupyter->granite-tsfm@ git+https://github.com/ibm-granite/granite-tsfm.git@v0.2.22->granite-tsfm[notebooks]@ git+https://github.com/ibm-granite/granite-tsfm.git@v0.2.22) (1.0.9)\r\n",
      "Requirement already satisfied: h11>=0.16 in /home/ayumi/.pyenv/versions/3.10.18/lib/python3.10/site-packages (from httpcore==1.*->httpx>=0.25.0->jupyterlab->jupyter->granite-tsfm@ git+https://github.com/ibm-granite/granite-tsfm.git@v0.2.22->granite-tsfm[notebooks]@ git+https://github.com/ibm-granite/granite-tsfm.git@v0.2.22) (0.16.0)\r\n",
      "Requirement already satisfied: parso<0.9.0,>=0.8.4 in /home/ayumi/.pyenv/versions/3.10.18/lib/python3.10/site-packages (from jedi>=0.16->ipython>=6.1.0->ipywidgets->granite-tsfm@ git+https://github.com/ibm-granite/granite-tsfm.git@v0.2.22->granite-tsfm[notebooks]@ git+https://github.com/ibm-granite/granite-tsfm.git@v0.2.22) (0.8.4)\r\n",
      "Requirement already satisfied: platformdirs>=2.5 in /home/ayumi/.pyenv/versions/3.10.18/lib/python3.10/site-packages (from jupyter-core!=5.0.*,>=4.12->ipykernel->jupyter->granite-tsfm@ git+https://github.com/ibm-granite/granite-tsfm.git@v0.2.22->granite-tsfm[notebooks]@ git+https://github.com/ibm-granite/granite-tsfm.git@v0.2.22) (4.3.8)\r\n",
      "Requirement already satisfied: argon2-cffi>=21.1 in /home/ayumi/.pyenv/versions/3.10.18/lib/python3.10/site-packages (from jupyter-server<3,>=2.4.0->jupyterlab->jupyter->granite-tsfm@ git+https://github.com/ibm-granite/granite-tsfm.git@v0.2.22->granite-tsfm[notebooks]@ git+https://github.com/ibm-granite/granite-tsfm.git@v0.2.22) (25.1.0)\r\n",
      "Requirement already satisfied: jupyter-events>=0.11.0 in /home/ayumi/.pyenv/versions/3.10.18/lib/python3.10/site-packages (from jupyter-server<3,>=2.4.0->jupyterlab->jupyter->granite-tsfm@ git+https://github.com/ibm-granite/granite-tsfm.git@v0.2.22->granite-tsfm[notebooks]@ git+https://github.com/ibm-granite/granite-tsfm.git@v0.2.22) (0.12.0)\r\n",
      "Requirement already satisfied: jupyter-server-terminals>=0.4.4 in /home/ayumi/.pyenv/versions/3.10.18/lib/python3.10/site-packages (from jupyter-server<3,>=2.4.0->jupyterlab->jupyter->granite-tsfm@ git+https://github.com/ibm-granite/granite-tsfm.git@v0.2.22->granite-tsfm[notebooks]@ git+https://github.com/ibm-granite/granite-tsfm.git@v0.2.22) (0.5.3)\r\n",
      "Requirement already satisfied: overrides>=5.0 in /home/ayumi/.pyenv/versions/3.10.18/lib/python3.10/site-packages (from jupyter-server<3,>=2.4.0->jupyterlab->jupyter->granite-tsfm@ git+https://github.com/ibm-granite/granite-tsfm.git@v0.2.22->granite-tsfm[notebooks]@ git+https://github.com/ibm-granite/granite-tsfm.git@v0.2.22) (7.7.0)\r\n",
      "Requirement already satisfied: prometheus-client>=0.9 in /home/ayumi/.pyenv/versions/3.10.18/lib/python3.10/site-packages (from jupyter-server<3,>=2.4.0->jupyterlab->jupyter->granite-tsfm@ git+https://github.com/ibm-granite/granite-tsfm.git@v0.2.22->granite-tsfm[notebooks]@ git+https://github.com/ibm-granite/granite-tsfm.git@v0.2.22) (0.22.1)\r\n",
      "Requirement already satisfied: send2trash>=1.8.2 in /home/ayumi/.pyenv/versions/3.10.18/lib/python3.10/site-packages (from jupyter-server<3,>=2.4.0->jupyterlab->jupyter->granite-tsfm@ git+https://github.com/ibm-granite/granite-tsfm.git@v0.2.22->granite-tsfm[notebooks]@ git+https://github.com/ibm-granite/granite-tsfm.git@v0.2.22) (1.8.3)\r\n",
      "Requirement already satisfied: terminado>=0.8.3 in /home/ayumi/.pyenv/versions/3.10.18/lib/python3.10/site-packages (from jupyter-server<3,>=2.4.0->jupyterlab->jupyter->granite-tsfm@ git+https://github.com/ibm-granite/granite-tsfm.git@v0.2.22->granite-tsfm[notebooks]@ git+https://github.com/ibm-granite/granite-tsfm.git@v0.2.22) (0.18.1)\r\n",
      "Requirement already satisfied: websocket-client>=1.7 in /home/ayumi/.pyenv/versions/3.10.18/lib/python3.10/site-packages (from jupyter-server<3,>=2.4.0->jupyterlab->jupyter->granite-tsfm@ git+https://github.com/ibm-granite/granite-tsfm.git@v0.2.22->granite-tsfm[notebooks]@ git+https://github.com/ibm-granite/granite-tsfm.git@v0.2.22) (1.8.0)\r\n",
      "Requirement already satisfied: babel>=2.10 in /home/ayumi/.pyenv/versions/3.10.18/lib/python3.10/site-packages (from jupyterlab-server<3,>=2.27.1->jupyterlab->jupyter->granite-tsfm@ git+https://github.com/ibm-granite/granite-tsfm.git@v0.2.22->granite-tsfm[notebooks]@ git+https://github.com/ibm-granite/granite-tsfm.git@v0.2.22) (2.17.0)\r\n",
      "Requirement already satisfied: json5>=0.9.0 in /home/ayumi/.pyenv/versions/3.10.18/lib/python3.10/site-packages (from jupyterlab-server<3,>=2.27.1->jupyterlab->jupyter->granite-tsfm@ git+https://github.com/ibm-granite/granite-tsfm.git@v0.2.22->granite-tsfm[notebooks]@ git+https://github.com/ibm-granite/granite-tsfm.git@v0.2.22) (0.12.0)\r\n",
      "Requirement already satisfied: jsonschema>=4.18.0 in /home/ayumi/.pyenv/versions/3.10.18/lib/python3.10/site-packages (from jupyterlab-server<3,>=2.27.1->jupyterlab->jupyter->granite-tsfm@ git+https://github.com/ibm-granite/granite-tsfm.git@v0.2.22->granite-tsfm[notebooks]@ git+https://github.com/ibm-granite/granite-tsfm.git@v0.2.22) (4.24.0)\r\n",
      "Requirement already satisfied: fastjsonschema>=2.15 in /home/ayumi/.pyenv/versions/3.10.18/lib/python3.10/site-packages (from nbformat>=5.7->nbconvert->jupyter->granite-tsfm@ git+https://github.com/ibm-granite/granite-tsfm.git@v0.2.22->granite-tsfm[notebooks]@ git+https://github.com/ibm-granite/granite-tsfm.git@v0.2.22) (2.21.1)\r\n",
      "Requirement already satisfied: ptyprocess>=0.5 in /home/ayumi/.pyenv/versions/3.10.18/lib/python3.10/site-packages (from pexpect>4.3->ipython>=6.1.0->ipywidgets->granite-tsfm@ git+https://github.com/ibm-granite/granite-tsfm.git@v0.2.22->granite-tsfm[notebooks]@ git+https://github.com/ibm-granite/granite-tsfm.git@v0.2.22) (0.7.0)\r\n",
      "Requirement already satisfied: wcwidth in /home/ayumi/.pyenv/versions/3.10.18/lib/python3.10/site-packages (from prompt_toolkit<3.1.0,>=3.0.41->ipython>=6.1.0->ipywidgets->granite-tsfm@ git+https://github.com/ibm-granite/granite-tsfm.git@v0.2.22->granite-tsfm[notebooks]@ git+https://github.com/ibm-granite/granite-tsfm.git@v0.2.22) (0.2.13)\r\n",
      "Requirement already satisfied: soupsieve>1.2 in /home/ayumi/.pyenv/versions/3.10.18/lib/python3.10/site-packages (from beautifulsoup4->nbconvert->jupyter->granite-tsfm@ git+https://github.com/ibm-granite/granite-tsfm.git@v0.2.22->granite-tsfm[notebooks]@ git+https://github.com/ibm-granite/granite-tsfm.git@v0.2.22) (2.7)\r\n",
      "Requirement already satisfied: executing>=1.2.0 in /home/ayumi/.pyenv/versions/3.10.18/lib/python3.10/site-packages (from stack_data->ipython>=6.1.0->ipywidgets->granite-tsfm@ git+https://github.com/ibm-granite/granite-tsfm.git@v0.2.22->granite-tsfm[notebooks]@ git+https://github.com/ibm-granite/granite-tsfm.git@v0.2.22) (2.2.0)\r\n",
      "Requirement already satisfied: asttokens>=2.1.0 in /home/ayumi/.pyenv/versions/3.10.18/lib/python3.10/site-packages (from stack_data->ipython>=6.1.0->ipywidgets->granite-tsfm@ git+https://github.com/ibm-granite/granite-tsfm.git@v0.2.22->granite-tsfm[notebooks]@ git+https://github.com/ibm-granite/granite-tsfm.git@v0.2.22) (3.0.0)\r\n",
      "Requirement already satisfied: pure-eval in /home/ayumi/.pyenv/versions/3.10.18/lib/python3.10/site-packages (from stack_data->ipython>=6.1.0->ipywidgets->granite-tsfm@ git+https://github.com/ibm-granite/granite-tsfm.git@v0.2.22->granite-tsfm[notebooks]@ git+https://github.com/ibm-granite/granite-tsfm.git@v0.2.22) (0.2.3)\r\n",
      "Requirement already satisfied: mpmath<1.4,>=1.1.0 in /home/ayumi/.pyenv/versions/3.10.18/lib/python3.10/site-packages (from sympy->torch->transformers[torch]>=4.38.0->granite-tsfm@ git+https://github.com/ibm-granite/granite-tsfm.git@v0.2.22->granite-tsfm[notebooks]@ git+https://github.com/ibm-granite/granite-tsfm.git@v0.2.22) (1.3.0)\r\n",
      "Requirement already satisfied: sniffio>=1.1 in /home/ayumi/.pyenv/versions/3.10.18/lib/python3.10/site-packages (from anyio->httpx>=0.25.0->jupyterlab->jupyter->granite-tsfm@ git+https://github.com/ibm-granite/granite-tsfm.git@v0.2.22->granite-tsfm[notebooks]@ git+https://github.com/ibm-granite/granite-tsfm.git@v0.2.22) (1.3.1)\r\n",
      "Requirement already satisfied: argon2-cffi-bindings in /home/ayumi/.pyenv/versions/3.10.18/lib/python3.10/site-packages (from argon2-cffi>=21.1->jupyter-server<3,>=2.4.0->jupyterlab->jupyter->granite-tsfm@ git+https://github.com/ibm-granite/granite-tsfm.git@v0.2.22->granite-tsfm[notebooks]@ git+https://github.com/ibm-granite/granite-tsfm.git@v0.2.22) (21.2.0)\r\n",
      "Requirement already satisfied: jsonschema-specifications>=2023.03.6 in /home/ayumi/.pyenv/versions/3.10.18/lib/python3.10/site-packages (from jsonschema>=4.18.0->jupyterlab-server<3,>=2.27.1->jupyterlab->jupyter->granite-tsfm@ git+https://github.com/ibm-granite/granite-tsfm.git@v0.2.22->granite-tsfm[notebooks]@ git+https://github.com/ibm-granite/granite-tsfm.git@v0.2.22) (2025.4.1)\r\n",
      "Requirement already satisfied: referencing>=0.28.4 in /home/ayumi/.pyenv/versions/3.10.18/lib/python3.10/site-packages (from jsonschema>=4.18.0->jupyterlab-server<3,>=2.27.1->jupyterlab->jupyter->granite-tsfm@ git+https://github.com/ibm-granite/granite-tsfm.git@v0.2.22->granite-tsfm[notebooks]@ git+https://github.com/ibm-granite/granite-tsfm.git@v0.2.22) (0.36.2)\r\n",
      "Requirement already satisfied: rpds-py>=0.7.1 in /home/ayumi/.pyenv/versions/3.10.18/lib/python3.10/site-packages (from jsonschema>=4.18.0->jupyterlab-server<3,>=2.27.1->jupyterlab->jupyter->granite-tsfm@ git+https://github.com/ibm-granite/granite-tsfm.git@v0.2.22->granite-tsfm[notebooks]@ git+https://github.com/ibm-granite/granite-tsfm.git@v0.2.22) (0.25.1)\r\n",
      "Requirement already satisfied: python-json-logger>=2.0.4 in /home/ayumi/.pyenv/versions/3.10.18/lib/python3.10/site-packages (from jupyter-events>=0.11.0->jupyter-server<3,>=2.4.0->jupyterlab->jupyter->granite-tsfm@ git+https://github.com/ibm-granite/granite-tsfm.git@v0.2.22->granite-tsfm[notebooks]@ git+https://github.com/ibm-granite/granite-tsfm.git@v0.2.22) (3.3.0)\r\n",
      "Requirement already satisfied: rfc3339-validator in /home/ayumi/.pyenv/versions/3.10.18/lib/python3.10/site-packages (from jupyter-events>=0.11.0->jupyter-server<3,>=2.4.0->jupyterlab->jupyter->granite-tsfm@ git+https://github.com/ibm-granite/granite-tsfm.git@v0.2.22->granite-tsfm[notebooks]@ git+https://github.com/ibm-granite/granite-tsfm.git@v0.2.22) (0.1.4)\r\n",
      "Requirement already satisfied: rfc3986-validator>=0.1.1 in /home/ayumi/.pyenv/versions/3.10.18/lib/python3.10/site-packages (from jupyter-events>=0.11.0->jupyter-server<3,>=2.4.0->jupyterlab->jupyter->granite-tsfm@ git+https://github.com/ibm-granite/granite-tsfm.git@v0.2.22->granite-tsfm[notebooks]@ git+https://github.com/ibm-granite/granite-tsfm.git@v0.2.22) (0.1.1)\r\n",
      "Requirement already satisfied: fqdn in /home/ayumi/.pyenv/versions/3.10.18/lib/python3.10/site-packages (from jsonschema[format-nongpl]>=4.18.0->jupyter-events>=0.11.0->jupyter-server<3,>=2.4.0->jupyterlab->jupyter->granite-tsfm@ git+https://github.com/ibm-granite/granite-tsfm.git@v0.2.22->granite-tsfm[notebooks]@ git+https://github.com/ibm-granite/granite-tsfm.git@v0.2.22) (1.5.1)\r\n",
      "Requirement already satisfied: isoduration in /home/ayumi/.pyenv/versions/3.10.18/lib/python3.10/site-packages (from jsonschema[format-nongpl]>=4.18.0->jupyter-events>=0.11.0->jupyter-server<3,>=2.4.0->jupyterlab->jupyter->granite-tsfm@ git+https://github.com/ibm-granite/granite-tsfm.git@v0.2.22->granite-tsfm[notebooks]@ git+https://github.com/ibm-granite/granite-tsfm.git@v0.2.22) (20.11.0)\r\n",
      "Requirement already satisfied: jsonpointer>1.13 in /home/ayumi/.pyenv/versions/3.10.18/lib/python3.10/site-packages (from jsonschema[format-nongpl]>=4.18.0->jupyter-events>=0.11.0->jupyter-server<3,>=2.4.0->jupyterlab->jupyter->granite-tsfm@ git+https://github.com/ibm-granite/granite-tsfm.git@v0.2.22->granite-tsfm[notebooks]@ git+https://github.com/ibm-granite/granite-tsfm.git@v0.2.22) (3.0.0)\r\n",
      "Requirement already satisfied: uri-template in /home/ayumi/.pyenv/versions/3.10.18/lib/python3.10/site-packages (from jsonschema[format-nongpl]>=4.18.0->jupyter-events>=0.11.0->jupyter-server<3,>=2.4.0->jupyterlab->jupyter->granite-tsfm@ git+https://github.com/ibm-granite/granite-tsfm.git@v0.2.22->granite-tsfm[notebooks]@ git+https://github.com/ibm-granite/granite-tsfm.git@v0.2.22) (1.3.0)\r\n",
      "Requirement already satisfied: webcolors>=24.6.0 in /home/ayumi/.pyenv/versions/3.10.18/lib/python3.10/site-packages (from jsonschema[format-nongpl]>=4.18.0->jupyter-events>=0.11.0->jupyter-server<3,>=2.4.0->jupyterlab->jupyter->granite-tsfm@ git+https://github.com/ibm-granite/granite-tsfm.git@v0.2.22->granite-tsfm[notebooks]@ git+https://github.com/ibm-granite/granite-tsfm.git@v0.2.22) (24.11.1)\r\n",
      "Requirement already satisfied: cffi>=1.0.1 in /home/ayumi/.pyenv/versions/3.10.18/lib/python3.10/site-packages (from argon2-cffi-bindings->argon2-cffi>=21.1->jupyter-server<3,>=2.4.0->jupyterlab->jupyter->granite-tsfm@ git+https://github.com/ibm-granite/granite-tsfm.git@v0.2.22->granite-tsfm[notebooks]@ git+https://github.com/ibm-granite/granite-tsfm.git@v0.2.22) (1.17.1)\r\n",
      "Requirement already satisfied: pycparser in /home/ayumi/.pyenv/versions/3.10.18/lib/python3.10/site-packages (from cffi>=1.0.1->argon2-cffi-bindings->argon2-cffi>=21.1->jupyter-server<3,>=2.4.0->jupyterlab->jupyter->granite-tsfm@ git+https://github.com/ibm-granite/granite-tsfm.git@v0.2.22->granite-tsfm[notebooks]@ git+https://github.com/ibm-granite/granite-tsfm.git@v0.2.22) (2.22)\r\n",
      "Requirement already satisfied: arrow>=0.15.0 in /home/ayumi/.pyenv/versions/3.10.18/lib/python3.10/site-packages (from isoduration->jsonschema[format-nongpl]>=4.18.0->jupyter-events>=0.11.0->jupyter-server<3,>=2.4.0->jupyterlab->jupyter->granite-tsfm@ git+https://github.com/ibm-granite/granite-tsfm.git@v0.2.22->granite-tsfm[notebooks]@ git+https://github.com/ibm-granite/granite-tsfm.git@v0.2.22) (1.3.0)\r\n",
      "Requirement already satisfied: types-python-dateutil>=2.8.10 in /home/ayumi/.pyenv/versions/3.10.18/lib/python3.10/site-packages (from arrow>=0.15.0->isoduration->jsonschema[format-nongpl]>=4.18.0->jupyter-events>=0.11.0->jupyter-server<3,>=2.4.0->jupyterlab->jupyter->granite-tsfm@ git+https://github.com/ibm-granite/granite-tsfm.git@v0.2.22->granite-tsfm[notebooks]@ git+https://github.com/ibm-granite/granite-tsfm.git@v0.2.22) (2.9.0.20250516)\r\n",
      "\r\n",
      "\u001B[1m[\u001B[0m\u001B[34;49mnotice\u001B[0m\u001B[1;39;49m]\u001B[0m\u001B[39;49m A new release of pip is available: \u001B[0m\u001B[31;49m24.3.1\u001B[0m\u001B[39;49m -> \u001B[0m\u001B[32;49m25.1.1\u001B[0m\r\n",
      "\u001B[1m[\u001B[0m\u001B[34;49mnotice\u001B[0m\u001B[1;39;49m]\u001B[0m\u001B[39;49m To update, run: \u001B[0m\u001B[32;49mpip install --upgrade pip\u001B[0m\r\n"
     ]
    }
   ],
   "execution_count": 4
  },
  {
   "metadata": {
    "collapsed": true,
    "ExecuteTime": {
     "end_time": "2025-06-23T07:04:17.819505Z",
     "start_time": "2025-06-23T06:50:44.847897Z"
    }
   },
   "cell_type": "code",
   "source": [
    "import pandas as pd\n",
    "import numpy as np\n",
    "from TSB_AD.model_wrapper import run_Unsupervise_AD\n",
    "from TSB_AD.evaluation.metrics import get_metrics\n",
    "\n",
    "# Specify Anomaly Detector to use and data directory\n",
    "AD_Name = 'TTM_ZS'   # It can be replaced with any anomaly detector available in TSB-AD\n",
    "data_direc = 'Datasets/TSB-AD-M/115_PSM_id_1_Facility_tr_50000_1st_129872.csv'\n",
    "\n",
    "# Loading DataIForest\n",
    "df = pd.read_csv(data_direc).iloc[120001:140000].dropna() \n",
    "data = df.iloc[:, 0:-1].values.astype(float)\n",
    "label = df['Label'].astype(int).to_numpy()\n",
    "\n",
    "# Applying Anomaly Detector\n",
    "output = run_Unsupervise_AD(AD_Name, data)\n",
    "\n",
    "# Choosing anomaly score \n",
    "#score_type = \"timestamp\" #\"timestamp\", \"feature\", \"time-feature\"\n",
    "\n",
    "#if score_type == \"timestamp\":\n",
    "#    score = output.decision_function(data)\n",
    "#elif score_type == \"feature\":\n",
    "#    score = output.feature_importance().mean(axis=1)\n",
    "#elif score_type == \"time-feature\":\n",
    "#    score = output.time_feature().mean(axis=(1, 2))\n",
    "#else:\n",
    "#    raise ValueError(\"Invalid score_type. Choose 'timestamp', 'feature', or 'time-feature'.\")\n",
    "\n",
    "#Evaluation\n",
    "evaluation_US = get_metrics(output, label)"
   ],
   "id": "initial_id",
   "outputs": [
    {
     "name": "stderr",
     "output_type": "stream",
     "text": [
      "INFO:p-3479:t-8613240576:get_model.py:get_model:Loading model from: ibm-granite/granite-timeseries-ttm-r2\n"
     ]
    },
    {
     "name": "stdout",
     "output_type": "stream",
     "text": [
      "[Zero] Reconstructing DataFrame\n",
      "[Zero] Initializing preprocessor\n",
      "[Zero] Loading model\n"
     ]
    },
    {
     "name": "stderr",
     "output_type": "stream",
     "text": [
      "/Users/ayumikatsuya/Documents/TSB-AD/.venv/lib/python3.10/site-packages/huggingface_hub/file_download.py:943: FutureWarning: `resume_download` is deprecated and will be removed in version 1.0.0. Downloads always resume when possible. If you want to force a new download, use `force_download=True`.\n",
      "  warnings.warn(\n",
      "INFO:p-3479:t-8613240576:get_model.py:get_model:Model loaded successfully from ibm-granite/granite-timeseries-ttm-r2, revision = main.\n",
      "INFO:p-3479:t-8613240576:get_model.py:get_model:[TTM] context_length = 512, prediction_length = 96\n"
     ]
    },
    {
     "name": "stdout",
     "output_type": "stream",
     "text": [
      "[Zero] Creating datasets\n",
      "[Zero] Training\n"
     ]
    },
    {
     "name": "stderr",
     "output_type": "stream",
     "text": [
      "/Users/ayumikatsuya/Documents/TSB-AD/.venv/lib/python3.10/site-packages/accelerate/accelerator.py:457: FutureWarning: Passing the following arguments to `Accelerator` is deprecated and will be removed in version 1.0 of Accelerate: dict_keys(['dispatch_batches', 'split_batches', 'even_batches', 'use_seedable_sampler']). Please pass an `accelerate.DataLoaderConfiguration` instead: \n",
      "dataloader_config = DataLoaderConfiguration(dispatch_batches=None, split_batches=False, even_batches=True, use_seedable_sampler=True)\n",
      "  warnings.warn(\n"
     ]
    },
    {
     "name": "stdout",
     "output_type": "stream",
     "text": [
      "++++++++++++++++++++ Test MSE zero-shot ++++++++++++++++++++\n"
     ]
    },
    {
     "data": {
      "text/plain": [
       "<IPython.core.display.HTML object>"
      ],
      "text/html": []
     },
     "metadata": {},
     "output_type": "display_data"
    },
    {
     "name": "stdout",
     "output_type": "stream",
     "text": [
      "{'eval_loss': 0.24712394177913666, 'eval_runtime': 29.0809, 'eval_samples_per_second': 65.507, 'eval_steps_per_second': 65.507}\n",
      "++++++++++++++++++++++++++++++++++++++++++++++++++++++++++++\n",
      "[Zero] Predicting\n",
      "[Zero] Extracting targets\n",
      "[Zero] Calculating mean squared error\n",
      "[Zero] Padding complete\n"
     ]
    }
   ],
   "execution_count": 1
  },
  {
   "metadata": {
    "ExecuteTime": {
     "end_time": "2025-06-23T07:04:38.034894Z",
     "start_time": "2025-06-23T07:04:38.030753Z"
    }
   },
   "cell_type": "code",
   "source": "print(evaluation_US)",
   "id": "4a4cf15b5e969958",
   "outputs": [
    {
     "name": "stdout",
     "output_type": "stream",
     "text": [
      "{'AUC-PR': 0.05865293264663233, 'AUC-ROC': 0.4332837565069585, 'VUS-PR': np.float64(0.08075563842024386), 'VUS-ROC': np.float64(0.4398316586694003), 'Standard-F1': np.float64(0.11080567919762975), 'PA-F1': 0.0, 'Event-based-F1': np.float64(0.0), 'R-based-F1': 0, 'Affiliation-F': 0.032788598390654976}\n"
     ]
    }
   ],
   "execution_count": 2
  },
  {
   "metadata": {
    "ExecuteTime": {
     "end_time": "2025-06-23T12:51:20.547991Z",
     "start_time": "2025-06-23T12:39:24.591933Z"
    }
   },
   "cell_type": "code",
   "source": [
    "import pandas as pd\n",
    "from TSB_AD.model_wrapper import run_Semisupervise_AD\n",
    "from TSB_AD.evaluation.metrics import get_metrics\n",
    "\n",
    "# Specify Anomaly Detector to use and data directory\n",
    "AD_Name ='TTM_FT'\n",
    "data_direc = 'Datasets/TSB-AD-M/115_PSM_id_1_Facility_tr_50000_1st_129872.csv'\n",
    "\n",
    "# Load data\n",
    "df = pd.read_csv(data_direc).iloc[120001:140000].dropna() \n",
    "data = df.iloc[:, 0:-1].values.astype(float)\n",
    "label = df['Label'].astype(int).to_numpy()\n",
    "\n",
    "# Split into few-shot (train) and test sets\n",
    "fewshot_percent = 100\n",
    "n_fewshot = int(len(data) * fewshot_percent / 100)\n",
    "data_train = data[:n_fewshot]\n",
    "#label_train = label[:n_fewshot]\n",
    "#data_test = data\n",
    "#label_test = label\n",
    "\n",
    "# Apply Semi-Supervised Anomaly Detector\n",
    "output = run_Semisupervise_AD(\n",
    "    AD_Name,\n",
    "    data_train,\n",
    "    data\n",
    ")\n",
    "\n",
    "# Evaluation on test set\n",
    "evaluation_SS = get_metrics(output, label)"
   ],
   "id": "abdf81ede8078513",
   "outputs": [
    {
     "name": "stderr",
     "output_type": "stream",
     "text": [
      "INFO:p-11413:t-8613240576:get_model.py:get_model:Loading model from: ibm-granite/granite-timeseries-ttm-r2\n"
     ]
    },
    {
     "name": "stdout",
     "output_type": "stream",
     "text": [
      "[FT] Reconstructing DataFrame\n",
      "[FT] Initializing preprocessor\n",
      "[FT] Loading model\n"
     ]
    },
    {
     "name": "stderr",
     "output_type": "stream",
     "text": [
      "/Users/ayumikatsuya/Documents/TSB-AD/.venv/lib/python3.10/site-packages/huggingface_hub/file_download.py:943: FutureWarning: `resume_download` is deprecated and will be removed in version 1.0.0. Downloads always resume when possible. If you want to force a new download, use `force_download=True`.\n",
      "  warnings.warn(\n",
      "INFO:p-11413:t-8613240576:get_model.py:get_model:Model loaded successfully from ibm-granite/granite-timeseries-ttm-r2, revision = main.\n",
      "INFO:p-11413:t-8613240576:get_model.py:get_model:[TTM] context_length = 512, prediction_length = 96\n"
     ]
    },
    {
     "name": "stdout",
     "output_type": "stream",
     "text": [
      "[FT] Creating datasets\n",
      "[FT] Using provided learning rate: 0.001\n",
      "[FT] Training\n"
     ]
    },
    {
     "name": "stderr",
     "output_type": "stream",
     "text": [
      "/Users/ayumikatsuya/Documents/TSB-AD/.venv/lib/python3.10/site-packages/accelerate/accelerator.py:457: FutureWarning: Passing the following arguments to `Accelerator` is deprecated and will be removed in version 1.0 of Accelerate: dict_keys(['dispatch_batches', 'split_batches', 'even_batches', 'use_seedable_sampler']). Please pass an `accelerate.DataLoaderConfiguration` instead: \n",
      "dataloader_config = DataLoaderConfiguration(dispatch_batches=None, split_batches=False, even_batches=True, use_seedable_sampler=True)\n",
      "  warnings.warn(\n",
      "INFO:p-11420:t-8613240576:config.py:<module>:PyTorch version 2.3.0 available.\n",
      "INFO:p-11422:t-8613240576:config.py:<module>:PyTorch version 2.3.0 available.\n",
      "INFO:p-11423:t-8613240576:config.py:<module>:PyTorch version 2.3.0 available.\n",
      "INFO:p-11424:t-8613240576:config.py:<module>:PyTorch version 2.3.0 available.\n",
      "INFO:p-11425:t-8613240576:config.py:<module>:PyTorch version 2.3.0 available.\n",
      "INFO:p-11426:t-8613240576:config.py:<module>:PyTorch version 2.3.0 available.\n",
      "INFO:p-11428:t-8613240576:config.py:<module>:PyTorch version 2.3.0 available.\n",
      "INFO:p-11430:t-8613240576:config.py:<module>:PyTorch version 2.3.0 available.\n"
     ]
    },
    {
     "data": {
      "text/plain": [
       "<IPython.core.display.HTML object>"
      ],
      "text/html": [
       "\n",
       "    <div>\n",
       "      \n",
       "      <progress value='679' max='679' style='width:300px; height:20px; vertical-align: middle;'></progress>\n",
       "      [679/679 02:51, Epoch 1/1]\n",
       "    </div>\n",
       "    <table border=\"1\" class=\"dataframe\">\n",
       "  <thead>\n",
       " <tr style=\"text-align: left;\">\n",
       "      <th>Epoch</th>\n",
       "      <th>Training Loss</th>\n",
       "      <th>Validation Loss</th>\n",
       "    </tr>\n",
       "  </thead>\n",
       "  <tbody>\n",
       "    <tr>\n",
       "      <td>1</td>\n",
       "      <td>0.275400</td>\n",
       "      <td>3.332738</td>\n",
       "    </tr>\n",
       "  </tbody>\n",
       "</table><p>"
      ]
     },
     "metadata": {},
     "output_type": "display_data"
    },
    {
     "name": "stderr",
     "output_type": "stream",
     "text": [
      "INFO:p-11458:t-8613240576:config.py:<module>:PyTorch version 2.3.0 available.\n",
      "INFO:p-11459:t-8613240576:config.py:<module>:PyTorch version 2.3.0 available.\n",
      "INFO:p-11460:t-8613240576:config.py:<module>:PyTorch version 2.3.0 available.\n",
      "INFO:p-11461:t-8613240576:config.py:<module>:PyTorch version 2.3.0 available.\n",
      "INFO:p-11462:t-8613240576:config.py:<module>:PyTorch version 2.3.0 available.\n",
      "INFO:p-11463:t-8613240576:config.py:<module>:PyTorch version 2.3.0 available.\n",
      "INFO:p-11465:t-8613240576:config.py:<module>:PyTorch version 2.3.0 available.\n",
      "INFO:p-11466:t-8613240576:config.py:<module>:PyTorch version 2.3.0 available.\n"
     ]
    },
    {
     "name": "stdout",
     "output_type": "stream",
     "text": [
      "[TrackingCallback] Mean Epoch Time = 101.91207599639893 seconds, Total Train Time = 187.66098403930664\n",
      "++++++++++++++++++++ Test loss after fine-tuning ++++++++++++++++++++\n"
     ]
    },
    {
     "name": "stderr",
     "output_type": "stream",
     "text": [
      "INFO:p-11485:t-8613240576:config.py:<module>:PyTorch version 2.3.0 available.\n",
      "INFO:p-11486:t-8613240576:config.py:<module>:PyTorch version 2.3.0 available.\n",
      "INFO:p-11488:t-8613240576:config.py:<module>:PyTorch version 2.3.0 available.\n",
      "INFO:p-11489:t-8613240576:config.py:<module>:PyTorch version 2.3.0 available.\n",
      "INFO:p-11490:t-8613240576:config.py:<module>:PyTorch version 2.3.0 available.\n",
      "INFO:p-11492:t-8613240576:config.py:<module>:PyTorch version 2.3.0 available.\n",
      "INFO:p-11493:t-8613240576:config.py:<module>:PyTorch version 2.3.0 available.\n",
      "INFO:p-11494:t-8613240576:config.py:<module>:PyTorch version 2.3.0 available.\n"
     ]
    },
    {
     "data": {
      "text/plain": [
       "<IPython.core.display.HTML object>"
      ],
      "text/html": []
     },
     "metadata": {},
     "output_type": "display_data"
    },
    {
     "name": "stdout",
     "output_type": "stream",
     "text": [
      "{'eval_loss': 0.3101675510406494, 'eval_runtime': 78.8885, 'eval_samples_per_second': 24.148, 'eval_steps_per_second': 24.148, 'epoch': 1.0}\n",
      "++++++++++++++++++++++++++++++++++++++++++++++++++++++++++++\n",
      "[FT] Predicting\n"
     ]
    },
    {
     "name": "stderr",
     "output_type": "stream",
     "text": [
      "INFO:p-11512:t-8613240576:config.py:<module>:PyTorch version 2.3.0 available.\n",
      "INFO:p-11513:t-8613240576:config.py:<module>:PyTorch version 2.3.0 available.\n",
      "INFO:p-11514:t-8613240576:config.py:<module>:PyTorch version 2.3.0 available.\n",
      "INFO:p-11516:t-8613240576:config.py:<module>:PyTorch version 2.3.0 available.\n",
      "INFO:p-11517:t-8613240576:config.py:<module>:PyTorch version 2.3.0 available.\n",
      "INFO:p-11518:t-8613240576:config.py:<module>:PyTorch version 2.3.0 available.\n",
      "INFO:p-11519:t-8613240576:config.py:<module>:PyTorch version 2.3.0 available.\n",
      "INFO:p-11520:t-8613240576:config.py:<module>:PyTorch version 2.3.0 available.\n"
     ]
    },
    {
     "name": "stdout",
     "output_type": "stream",
     "text": [
      "[FT] Extracting targets\n",
      "[FT] Calculating mean squared error\n",
      "[DEBUG] data.shape: (19999, 25)\n",
      "[DEBUG] preds.shape: (1905, 96, 25)\n",
      "[DEBUG] targets.shape: (1905, 96, 25)\n",
      "[DEBUG] scores.shape: (1905, 96, 25)\n",
      "[DEBUG] per_timestamp_score.shape: (1905,)\n",
      "[DEBUG] pad_start: 607\n",
      "[DEBUG] len(per_timestamp_score) + pad_start: 2512\n",
      "[DEBUG] len(data): 19999\n",
      "[DEBUG] padded_timestamp_score.shape: (19999,)\n",
      "[DEBUG] padded_feature_score.shape: (19999, 25)\n",
      "[DEBUG] padded_time_feature_score.shape: (19999, 96, 25)\n",
      "[FT] Padding complete\n"
     ]
    }
   ],
   "execution_count": 1
  },
  {
   "metadata": {
    "ExecuteTime": {
     "end_time": "2025-06-23T12:51:26.716340Z",
     "start_time": "2025-06-23T12:51:26.713510Z"
    }
   },
   "cell_type": "code",
   "source": "print(evaluation_SS)",
   "id": "45c9f7e073f6b970",
   "outputs": [
    {
     "name": "stdout",
     "output_type": "stream",
     "text": [
      "{'AUC-PR': 0.05865293264663233, 'AUC-ROC': 0.4332837565069585, 'VUS-PR': np.float64(0.08075563842024386), 'VUS-ROC': np.float64(0.4398316586694003), 'Standard-F1': np.float64(0.11080567919762975), 'PA-F1': 0.0, 'Event-based-F1': np.float64(0.0), 'R-based-F1': 0, 'Affiliation-F': 0.03251906927371719}\n"
     ]
    }
   ],
   "execution_count": 2
  },
  {
   "metadata": {},
   "cell_type": "code",
   "outputs": [
    {
     "name": "stdout",
     "output_type": "stream",
     "text": [
      "PyTorch version: 2.3.0\n",
      "CUDA available: False\n",
      "CUDA version: None\n",
      "cuDNN version: None\n"
     ]
    }
   ],
   "execution_count": 1,
   "source": [
    "import torch\n",
    "print(\"PyTorch version:\", torch.__version__)\n",
    "print(\"CUDA available:\", torch.cuda.is_available())\n",
    "print(\"CUDA version:\", torch.version.cuda)\n",
    "print(\"cuDNN version:\", torch.backends.cudnn.version())"
   ],
   "id": "51918ab3cd6385e2"
  },
  {
   "metadata": {
    "ExecuteTime": {
     "end_time": "2025-06-18T14:29:04.188516Z",
     "start_time": "2025-06-18T14:29:04.128510Z"
    }
   },
   "cell_type": "code",
   "source": [
    "import torch\n",
    "try:\n",
    "    print(\"CUDA available:\", torch.cuda.is_available())\n",
    "    print(\"Device count:\", torch.cuda.device_count())\n",
    "    print(\"Device name:\", torch.cuda.get_device_name(0))\n",
    "except Exception as e:\n",
    "    print(\"CUDA error:\", e)"
   ],
   "id": "57d0086b044ecfe7",
   "outputs": [
    {
     "name": "stdout",
     "output_type": "stream",
     "text": [
      "CUDA available: True\n",
      "Device count: 1\n",
      "Device name: NVIDIA RTX 2000 Ada Generation Laptop GPU\n"
     ]
    }
   ],
   "execution_count": 2
  },
  {
   "metadata": {},
   "cell_type": "code",
   "outputs": [],
   "execution_count": null,
   "source": "",
   "id": "60b6d29be9f2924f"
  },
  {
   "metadata": {},
   "cell_type": "code",
   "outputs": [],
   "execution_count": null,
   "source": "",
   "id": "201316ec077804a6"
  }
 ],
 "metadata": {
  "kernelspec": {
   "display_name": "Python 3",
   "language": "python",
   "name": "python3"
  },
  "language_info": {
   "codemirror_mode": {
    "name": "ipython",
    "version": 2
   },
   "file_extension": ".py",
   "mimetype": "text/x-python",
   "name": "python",
   "nbconvert_exporter": "python",
   "pygments_lexer": "ipython2",
   "version": "2.7.6"
  }
 },
 "nbformat": 4,
 "nbformat_minor": 5
}
