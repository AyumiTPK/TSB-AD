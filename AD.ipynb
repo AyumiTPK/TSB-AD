{
 "cells": [
  {
   "metadata": {
    "ExecuteTime": {
     "end_time": "2025-06-18T14:29:16.896672Z",
     "start_time": "2025-06-18T14:29:14.399144Z"
    }
   },
   "cell_type": "code",
   "source": "!pip install -r requirements.txt",
   "id": "a2ff3a17142231a9",
   "outputs": [
    {
     "name": "stdout",
     "output_type": "stream",
     "text": [
      "Requirement already satisfied: tqdm in /home/ayumi/.pyenv/versions/3.10.18/lib/python3.10/site-packages (from -r requirements.txt (line 1)) (4.67.1)\r\n",
      "Requirement already satisfied: torchinfo in /home/ayumi/.pyenv/versions/3.10.18/lib/python3.10/site-packages (from -r requirements.txt (line 2)) (1.8.0)\r\n",
      "Requirement already satisfied: h5py in /home/ayumi/.pyenv/versions/3.10.18/lib/python3.10/site-packages (from -r requirements.txt (line 3)) (3.14.0)\r\n",
      "Requirement already satisfied: einops in /home/ayumi/.pyenv/versions/3.10.18/lib/python3.10/site-packages (from -r requirements.txt (line 4)) (0.8.1)\r\n",
      "Requirement already satisfied: numpy<2.0,>=1.24.3 in /home/ayumi/.pyenv/versions/3.10.18/lib/python3.10/site-packages (from -r requirements.txt (line 5)) (1.26.4)\r\n",
      "Requirement already satisfied: matplotlib>=3.7.5 in /home/ayumi/.pyenv/versions/3.10.18/lib/python3.10/site-packages (from -r requirements.txt (line 6)) (3.7.5)\r\n",
      "Requirement already satisfied: pandas>=2.0.3 in /home/ayumi/.pyenv/versions/3.10.18/lib/python3.10/site-packages (from -r requirements.txt (line 7)) (2.3.0)\r\n",
      "Requirement already satisfied: arch>=5.3.1 in /home/ayumi/.pyenv/versions/3.10.18/lib/python3.10/site-packages (from -r requirements.txt (line 8)) (5.3.1)\r\n",
      "Requirement already satisfied: hurst>=0.0.5 in /home/ayumi/.pyenv/versions/3.10.18/lib/python3.10/site-packages (from -r requirements.txt (line 9)) (0.0.5)\r\n",
      "Requirement already satisfied: tslearn>=0.6.3 in /home/ayumi/.pyenv/versions/3.10.18/lib/python3.10/site-packages (from -r requirements.txt (line 10)) (0.6.3)\r\n",
      "Requirement already satisfied: cython>=3.0.10 in /home/ayumi/.pyenv/versions/3.10.18/lib/python3.10/site-packages (from -r requirements.txt (line 11)) (3.0.10)\r\n",
      "Requirement already satisfied: scikit-learn>=1.3.2 in /home/ayumi/.pyenv/versions/3.10.18/lib/python3.10/site-packages (from -r requirements.txt (line 12)) (1.3.2)\r\n",
      "Requirement already satisfied: stumpy>=1.12.0 in /home/ayumi/.pyenv/versions/3.10.18/lib/python3.10/site-packages (from -r requirements.txt (line 13)) (1.12.0)\r\n",
      "Requirement already satisfied: networkx>=3.1 in /home/ayumi/.pyenv/versions/3.10.18/lib/python3.10/site-packages (from -r requirements.txt (line 14)) (3.1)\r\n",
      "Requirement already satisfied: transformers>=4.38.0 in /home/ayumi/.pyenv/versions/3.10.18/lib/python3.10/site-packages (from -r requirements.txt (line 15)) (4.38.0)\r\n",
      "Requirement already satisfied: torch==2.3.0 in /home/ayumi/.pyenv/versions/3.10.18/lib/python3.10/site-packages (from -r requirements.txt (line 16)) (2.3.0+cu121)\r\n",
      "Requirement already satisfied: filelock in /home/ayumi/.pyenv/versions/3.10.18/lib/python3.10/site-packages (from torch==2.3.0->-r requirements.txt (line 16)) (3.18.0)\r\n",
      "Requirement already satisfied: typing-extensions>=4.8.0 in /home/ayumi/.pyenv/versions/3.10.18/lib/python3.10/site-packages (from torch==2.3.0->-r requirements.txt (line 16)) (4.14.0)\r\n",
      "Requirement already satisfied: sympy in /home/ayumi/.pyenv/versions/3.10.18/lib/python3.10/site-packages (from torch==2.3.0->-r requirements.txt (line 16)) (1.14.0)\r\n",
      "Requirement already satisfied: jinja2 in /home/ayumi/.pyenv/versions/3.10.18/lib/python3.10/site-packages (from torch==2.3.0->-r requirements.txt (line 16)) (3.1.6)\r\n",
      "Requirement already satisfied: fsspec in /home/ayumi/.pyenv/versions/3.10.18/lib/python3.10/site-packages (from torch==2.3.0->-r requirements.txt (line 16)) (2025.3.0)\r\n",
      "Requirement already satisfied: nvidia-cuda-nvrtc-cu12==12.1.105 in /home/ayumi/.pyenv/versions/3.10.18/lib/python3.10/site-packages (from torch==2.3.0->-r requirements.txt (line 16)) (12.1.105)\r\n",
      "Requirement already satisfied: nvidia-cuda-runtime-cu12==12.1.105 in /home/ayumi/.pyenv/versions/3.10.18/lib/python3.10/site-packages (from torch==2.3.0->-r requirements.txt (line 16)) (12.1.105)\r\n",
      "Requirement already satisfied: nvidia-cuda-cupti-cu12==12.1.105 in /home/ayumi/.pyenv/versions/3.10.18/lib/python3.10/site-packages (from torch==2.3.0->-r requirements.txt (line 16)) (12.1.105)\r\n",
      "Requirement already satisfied: nvidia-cudnn-cu12==8.9.2.26 in /home/ayumi/.pyenv/versions/3.10.18/lib/python3.10/site-packages (from torch==2.3.0->-r requirements.txt (line 16)) (8.9.2.26)\r\n",
      "Requirement already satisfied: nvidia-cublas-cu12==12.1.3.1 in /home/ayumi/.pyenv/versions/3.10.18/lib/python3.10/site-packages (from torch==2.3.0->-r requirements.txt (line 16)) (12.1.3.1)\r\n",
      "Requirement already satisfied: nvidia-cufft-cu12==11.0.2.54 in /home/ayumi/.pyenv/versions/3.10.18/lib/python3.10/site-packages (from torch==2.3.0->-r requirements.txt (line 16)) (11.0.2.54)\r\n",
      "Requirement already satisfied: nvidia-curand-cu12==10.3.2.106 in /home/ayumi/.pyenv/versions/3.10.18/lib/python3.10/site-packages (from torch==2.3.0->-r requirements.txt (line 16)) (10.3.2.106)\r\n",
      "Requirement already satisfied: nvidia-cusolver-cu12==11.4.5.107 in /home/ayumi/.pyenv/versions/3.10.18/lib/python3.10/site-packages (from torch==2.3.0->-r requirements.txt (line 16)) (11.4.5.107)\r\n",
      "Requirement already satisfied: nvidia-cusparse-cu12==12.1.0.106 in /home/ayumi/.pyenv/versions/3.10.18/lib/python3.10/site-packages (from torch==2.3.0->-r requirements.txt (line 16)) (12.1.0.106)\r\n",
      "Requirement already satisfied: nvidia-nccl-cu12==2.20.5 in /home/ayumi/.pyenv/versions/3.10.18/lib/python3.10/site-packages (from torch==2.3.0->-r requirements.txt (line 16)) (2.20.5)\r\n",
      "Requirement already satisfied: nvidia-nvtx-cu12==12.1.105 in /home/ayumi/.pyenv/versions/3.10.18/lib/python3.10/site-packages (from torch==2.3.0->-r requirements.txt (line 16)) (12.1.105)\r\n",
      "Requirement already satisfied: triton==2.3.0 in /home/ayumi/.pyenv/versions/3.10.18/lib/python3.10/site-packages (from torch==2.3.0->-r requirements.txt (line 16)) (2.3.0)\r\n",
      "Requirement already satisfied: nvidia-nvjitlink-cu12 in /home/ayumi/.pyenv/versions/3.10.18/lib/python3.10/site-packages (from nvidia-cusolver-cu12==11.4.5.107->torch==2.3.0->-r requirements.txt (line 16)) (12.6.85)\r\n",
      "Requirement already satisfied: contourpy>=1.0.1 in /home/ayumi/.pyenv/versions/3.10.18/lib/python3.10/site-packages (from matplotlib>=3.7.5->-r requirements.txt (line 6)) (1.3.2)\r\n",
      "Requirement already satisfied: cycler>=0.10 in /home/ayumi/.pyenv/versions/3.10.18/lib/python3.10/site-packages (from matplotlib>=3.7.5->-r requirements.txt (line 6)) (0.12.1)\r\n",
      "Requirement already satisfied: fonttools>=4.22.0 in /home/ayumi/.pyenv/versions/3.10.18/lib/python3.10/site-packages (from matplotlib>=3.7.5->-r requirements.txt (line 6)) (4.58.3)\r\n",
      "Requirement already satisfied: kiwisolver>=1.0.1 in /home/ayumi/.pyenv/versions/3.10.18/lib/python3.10/site-packages (from matplotlib>=3.7.5->-r requirements.txt (line 6)) (1.4.8)\r\n",
      "Requirement already satisfied: packaging>=20.0 in /home/ayumi/.pyenv/versions/3.10.18/lib/python3.10/site-packages (from matplotlib>=3.7.5->-r requirements.txt (line 6)) (25.0)\r\n",
      "Requirement already satisfied: pillow>=6.2.0 in /home/ayumi/.pyenv/versions/3.10.18/lib/python3.10/site-packages (from matplotlib>=3.7.5->-r requirements.txt (line 6)) (11.2.1)\r\n",
      "Requirement already satisfied: pyparsing>=2.3.1 in /home/ayumi/.pyenv/versions/3.10.18/lib/python3.10/site-packages (from matplotlib>=3.7.5->-r requirements.txt (line 6)) (3.2.3)\r\n",
      "Requirement already satisfied: python-dateutil>=2.7 in /home/ayumi/.pyenv/versions/3.10.18/lib/python3.10/site-packages (from matplotlib>=3.7.5->-r requirements.txt (line 6)) (2.9.0.post0)\r\n",
      "Requirement already satisfied: pytz>=2020.1 in /home/ayumi/.pyenv/versions/3.10.18/lib/python3.10/site-packages (from pandas>=2.0.3->-r requirements.txt (line 7)) (2025.2)\r\n",
      "Requirement already satisfied: tzdata>=2022.7 in /home/ayumi/.pyenv/versions/3.10.18/lib/python3.10/site-packages (from pandas>=2.0.3->-r requirements.txt (line 7)) (2025.2)\r\n",
      "Requirement already satisfied: scipy>=1.3 in /home/ayumi/.pyenv/versions/3.10.18/lib/python3.10/site-packages (from arch>=5.3.1->-r requirements.txt (line 8)) (1.15.3)\r\n",
      "Requirement already satisfied: statsmodels>=0.11 in /home/ayumi/.pyenv/versions/3.10.18/lib/python3.10/site-packages (from arch>=5.3.1->-r requirements.txt (line 8)) (0.14.4)\r\n",
      "Requirement already satisfied: property-cached>=1.6.4 in /home/ayumi/.pyenv/versions/3.10.18/lib/python3.10/site-packages (from arch>=5.3.1->-r requirements.txt (line 8)) (1.6.4)\r\n",
      "Requirement already satisfied: numba in /home/ayumi/.pyenv/versions/3.10.18/lib/python3.10/site-packages (from tslearn>=0.6.3->-r requirements.txt (line 10)) (0.61.2)\r\n",
      "Requirement already satisfied: joblib in /home/ayumi/.pyenv/versions/3.10.18/lib/python3.10/site-packages (from tslearn>=0.6.3->-r requirements.txt (line 10)) (1.5.1)\r\n",
      "Requirement already satisfied: threadpoolctl>=2.0.0 in /home/ayumi/.pyenv/versions/3.10.18/lib/python3.10/site-packages (from scikit-learn>=1.3.2->-r requirements.txt (line 12)) (3.6.0)\r\n",
      "Requirement already satisfied: huggingface-hub<1.0,>=0.19.3 in /home/ayumi/.pyenv/versions/3.10.18/lib/python3.10/site-packages (from transformers>=4.38.0->-r requirements.txt (line 15)) (0.33.0)\r\n",
      "Requirement already satisfied: pyyaml>=5.1 in /home/ayumi/.pyenv/versions/3.10.18/lib/python3.10/site-packages (from transformers>=4.38.0->-r requirements.txt (line 15)) (6.0.2)\r\n",
      "Requirement already satisfied: regex!=2019.12.17 in /home/ayumi/.pyenv/versions/3.10.18/lib/python3.10/site-packages (from transformers>=4.38.0->-r requirements.txt (line 15)) (2024.11.6)\r\n",
      "Requirement already satisfied: requests in /home/ayumi/.pyenv/versions/3.10.18/lib/python3.10/site-packages (from transformers>=4.38.0->-r requirements.txt (line 15)) (2.32.4)\r\n",
      "Requirement already satisfied: tokenizers<0.19,>=0.14 in /home/ayumi/.pyenv/versions/3.10.18/lib/python3.10/site-packages (from transformers>=4.38.0->-r requirements.txt (line 15)) (0.15.2)\r\n",
      "Requirement already satisfied: safetensors>=0.4.1 in /home/ayumi/.pyenv/versions/3.10.18/lib/python3.10/site-packages (from transformers>=4.38.0->-r requirements.txt (line 15)) (0.5.3)\r\n",
      "Requirement already satisfied: hf-xet<2.0.0,>=1.1.2 in /home/ayumi/.pyenv/versions/3.10.18/lib/python3.10/site-packages (from huggingface-hub<1.0,>=0.19.3->transformers>=4.38.0->-r requirements.txt (line 15)) (1.1.3)\r\n",
      "Requirement already satisfied: llvmlite<0.45,>=0.44.0dev0 in /home/ayumi/.pyenv/versions/3.10.18/lib/python3.10/site-packages (from numba->tslearn>=0.6.3->-r requirements.txt (line 10)) (0.44.0)\r\n",
      "Requirement already satisfied: six>=1.5 in /home/ayumi/.pyenv/versions/3.10.18/lib/python3.10/site-packages (from python-dateutil>=2.7->matplotlib>=3.7.5->-r requirements.txt (line 6)) (1.17.0)\r\n",
      "Requirement already satisfied: patsy>=0.5.6 in /home/ayumi/.pyenv/versions/3.10.18/lib/python3.10/site-packages (from statsmodels>=0.11->arch>=5.3.1->-r requirements.txt (line 8)) (1.0.1)\r\n",
      "Requirement already satisfied: MarkupSafe>=2.0 in /home/ayumi/.pyenv/versions/3.10.18/lib/python3.10/site-packages (from jinja2->torch==2.3.0->-r requirements.txt (line 16)) (3.0.2)\r\n",
      "Requirement already satisfied: charset_normalizer<4,>=2 in /home/ayumi/.pyenv/versions/3.10.18/lib/python3.10/site-packages (from requests->transformers>=4.38.0->-r requirements.txt (line 15)) (3.4.2)\r\n",
      "Requirement already satisfied: idna<4,>=2.5 in /home/ayumi/.pyenv/versions/3.10.18/lib/python3.10/site-packages (from requests->transformers>=4.38.0->-r requirements.txt (line 15)) (3.10)\r\n",
      "Requirement already satisfied: urllib3<3,>=1.21.1 in /home/ayumi/.pyenv/versions/3.10.18/lib/python3.10/site-packages (from requests->transformers>=4.38.0->-r requirements.txt (line 15)) (1.26.20)\r\n",
      "Requirement already satisfied: certifi>=2017.4.17 in /home/ayumi/.pyenv/versions/3.10.18/lib/python3.10/site-packages (from requests->transformers>=4.38.0->-r requirements.txt (line 15)) (2025.4.26)\r\n",
      "Requirement already satisfied: mpmath<1.4,>=1.1.0 in /home/ayumi/.pyenv/versions/3.10.18/lib/python3.10/site-packages (from sympy->torch==2.3.0->-r requirements.txt (line 16)) (1.3.0)\r\n",
      "\r\n",
      "\u001B[1m[\u001B[0m\u001B[34;49mnotice\u001B[0m\u001B[1;39;49m]\u001B[0m\u001B[39;49m A new release of pip is available: \u001B[0m\u001B[31;49m24.3.1\u001B[0m\u001B[39;49m -> \u001B[0m\u001B[32;49m25.1.1\u001B[0m\r\n",
      "\u001B[1m[\u001B[0m\u001B[34;49mnotice\u001B[0m\u001B[1;39;49m]\u001B[0m\u001B[39;49m To update, run: \u001B[0m\u001B[32;49mpip install --upgrade pip\u001B[0m\r\n"
     ]
    }
   ],
   "execution_count": 3
  },
  {
   "metadata": {
    "ExecuteTime": {
     "end_time": "2025-06-18T14:29:40.577462Z",
     "start_time": "2025-06-18T14:29:28.719389Z"
    }
   },
   "cell_type": "code",
   "source": [
    "# Install ibm/tsfm\n",
    "! pip install \"granite-tsfm[notebooks] @ git+https://github.com/ibm-granite/granite-tsfm.git@v0.2.22\""
   ],
   "id": "d48601b53f5f3501",
   "outputs": [
    {
     "name": "stdout",
     "output_type": "stream",
     "text": [
      "Collecting granite-tsfm@ git+https://github.com/ibm-granite/granite-tsfm.git@v0.2.22 (from granite-tsfm[notebooks]@ git+https://github.com/ibm-granite/granite-tsfm.git@v0.2.22)\r\n",
      "  Cloning https://github.com/ibm-granite/granite-tsfm.git (to revision v0.2.22) to /tmp/pip-install-l25hxxaa/granite-tsfm_e9b040ab003e4620985692f972fdddcf\r\n",
      "  Running command git clone --filter=blob:none --quiet https://github.com/ibm-granite/granite-tsfm.git /tmp/pip-install-l25hxxaa/granite-tsfm_e9b040ab003e4620985692f972fdddcf\r\n",
      "  Running command git checkout -q 216850d0cb073e31689049c1334f701fe11bc2c3\r\n",
      "  Resolved https://github.com/ibm-granite/granite-tsfm.git to commit 216850d0cb073e31689049c1334f701fe11bc2c3\r\n",
      "  Installing build dependencies ... \u001B[?25ldone\r\n",
      "\u001B[?25h  Getting requirements to build wheel ... \u001B[?25ldone\r\n",
      "\u001B[?25h  Preparing metadata (pyproject.toml) ... \u001B[?25ldone\r\n",
      "\u001B[?25hRequirement already satisfied: pandas>=2.2.0 in /home/ayumi/.pyenv/versions/3.10.18/lib/python3.10/site-packages (from granite-tsfm@ git+https://github.com/ibm-granite/granite-tsfm.git@v0.2.22->granite-tsfm[notebooks]@ git+https://github.com/ibm-granite/granite-tsfm.git@v0.2.22) (2.3.0)\r\n",
      "Requirement already satisfied: scikit-learn in /home/ayumi/.pyenv/versions/3.10.18/lib/python3.10/site-packages (from granite-tsfm@ git+https://github.com/ibm-granite/granite-tsfm.git@v0.2.22->granite-tsfm[notebooks]@ git+https://github.com/ibm-granite/granite-tsfm.git@v0.2.22) (1.3.2)\r\n",
      "Requirement already satisfied: transformers>=4.38.0 in /home/ayumi/.pyenv/versions/3.10.18/lib/python3.10/site-packages (from transformers[torch]>=4.38.0->granite-tsfm@ git+https://github.com/ibm-granite/granite-tsfm.git@v0.2.22->granite-tsfm[notebooks]@ git+https://github.com/ibm-granite/granite-tsfm.git@v0.2.22) (4.38.0)\r\n",
      "Requirement already satisfied: datasets in /home/ayumi/.pyenv/versions/3.10.18/lib/python3.10/site-packages (from granite-tsfm@ git+https://github.com/ibm-granite/granite-tsfm.git@v0.2.22->granite-tsfm[notebooks]@ git+https://github.com/ibm-granite/granite-tsfm.git@v0.2.22) (3.6.0)\r\n",
      "Requirement already satisfied: deprecated in /home/ayumi/.pyenv/versions/3.10.18/lib/python3.10/site-packages (from granite-tsfm@ git+https://github.com/ibm-granite/granite-tsfm.git@v0.2.22->granite-tsfm[notebooks]@ git+https://github.com/ibm-granite/granite-tsfm.git@v0.2.22) (1.2.18)\r\n",
      "Requirement already satisfied: urllib3<2,>=1.26.19 in /home/ayumi/.pyenv/versions/3.10.18/lib/python3.10/site-packages (from granite-tsfm@ git+https://github.com/ibm-granite/granite-tsfm.git@v0.2.22->granite-tsfm[notebooks]@ git+https://github.com/ibm-granite/granite-tsfm.git@v0.2.22) (1.26.20)\r\n",
      "Requirement already satisfied: numpy<2 in /home/ayumi/.pyenv/versions/3.10.18/lib/python3.10/site-packages (from granite-tsfm@ git+https://github.com/ibm-granite/granite-tsfm.git@v0.2.22->granite-tsfm[notebooks]@ git+https://github.com/ibm-granite/granite-tsfm.git@v0.2.22) (1.26.4)\r\n",
      "Requirement already satisfied: jupyter in /home/ayumi/.pyenv/versions/3.10.18/lib/python3.10/site-packages (from granite-tsfm@ git+https://github.com/ibm-granite/granite-tsfm.git@v0.2.22->granite-tsfm[notebooks]@ git+https://github.com/ibm-granite/granite-tsfm.git@v0.2.22) (1.1.1)\r\n",
      "Requirement already satisfied: matplotlib in /home/ayumi/.pyenv/versions/3.10.18/lib/python3.10/site-packages (from granite-tsfm@ git+https://github.com/ibm-granite/granite-tsfm.git@v0.2.22->granite-tsfm[notebooks]@ git+https://github.com/ibm-granite/granite-tsfm.git@v0.2.22) (3.7.5)\r\n",
      "Requirement already satisfied: ipywidgets in /home/ayumi/.pyenv/versions/3.10.18/lib/python3.10/site-packages (from granite-tsfm@ git+https://github.com/ibm-granite/granite-tsfm.git@v0.2.22->granite-tsfm[notebooks]@ git+https://github.com/ibm-granite/granite-tsfm.git@v0.2.22) (8.1.7)\r\n",
      "Requirement already satisfied: plotly in /home/ayumi/.pyenv/versions/3.10.18/lib/python3.10/site-packages (from granite-tsfm@ git+https://github.com/ibm-granite/granite-tsfm.git@v0.2.22->granite-tsfm[notebooks]@ git+https://github.com/ibm-granite/granite-tsfm.git@v0.2.22) (6.1.2)\r\n",
      "Requirement already satisfied: kaleido in /home/ayumi/.pyenv/versions/3.10.18/lib/python3.10/site-packages (from granite-tsfm@ git+https://github.com/ibm-granite/granite-tsfm.git@v0.2.22->granite-tsfm[notebooks]@ git+https://github.com/ibm-granite/granite-tsfm.git@v0.2.22) (0.2.1)\r\n",
      "Requirement already satisfied: tensorboard in /home/ayumi/.pyenv/versions/3.10.18/lib/python3.10/site-packages (from granite-tsfm@ git+https://github.com/ibm-granite/granite-tsfm.git@v0.2.22->granite-tsfm[notebooks]@ git+https://github.com/ibm-granite/granite-tsfm.git@v0.2.22) (2.19.0)\r\n",
      "Requirement already satisfied: python-dateutil>=2.8.2 in /home/ayumi/.pyenv/versions/3.10.18/lib/python3.10/site-packages (from pandas>=2.2.0->granite-tsfm@ git+https://github.com/ibm-granite/granite-tsfm.git@v0.2.22->granite-tsfm[notebooks]@ git+https://github.com/ibm-granite/granite-tsfm.git@v0.2.22) (2.9.0.post0)\r\n",
      "Requirement already satisfied: pytz>=2020.1 in /home/ayumi/.pyenv/versions/3.10.18/lib/python3.10/site-packages (from pandas>=2.2.0->granite-tsfm@ git+https://github.com/ibm-granite/granite-tsfm.git@v0.2.22->granite-tsfm[notebooks]@ git+https://github.com/ibm-granite/granite-tsfm.git@v0.2.22) (2025.2)\r\n",
      "Requirement already satisfied: tzdata>=2022.7 in /home/ayumi/.pyenv/versions/3.10.18/lib/python3.10/site-packages (from pandas>=2.2.0->granite-tsfm@ git+https://github.com/ibm-granite/granite-tsfm.git@v0.2.22->granite-tsfm[notebooks]@ git+https://github.com/ibm-granite/granite-tsfm.git@v0.2.22) (2025.2)\r\n",
      "Requirement already satisfied: filelock in /home/ayumi/.pyenv/versions/3.10.18/lib/python3.10/site-packages (from transformers>=4.38.0->transformers[torch]>=4.38.0->granite-tsfm@ git+https://github.com/ibm-granite/granite-tsfm.git@v0.2.22->granite-tsfm[notebooks]@ git+https://github.com/ibm-granite/granite-tsfm.git@v0.2.22) (3.18.0)\r\n",
      "Requirement already satisfied: huggingface-hub<1.0,>=0.19.3 in /home/ayumi/.pyenv/versions/3.10.18/lib/python3.10/site-packages (from transformers>=4.38.0->transformers[torch]>=4.38.0->granite-tsfm@ git+https://github.com/ibm-granite/granite-tsfm.git@v0.2.22->granite-tsfm[notebooks]@ git+https://github.com/ibm-granite/granite-tsfm.git@v0.2.22) (0.33.0)\r\n",
      "Requirement already satisfied: packaging>=20.0 in /home/ayumi/.pyenv/versions/3.10.18/lib/python3.10/site-packages (from transformers>=4.38.0->transformers[torch]>=4.38.0->granite-tsfm@ git+https://github.com/ibm-granite/granite-tsfm.git@v0.2.22->granite-tsfm[notebooks]@ git+https://github.com/ibm-granite/granite-tsfm.git@v0.2.22) (25.0)\r\n",
      "Requirement already satisfied: pyyaml>=5.1 in /home/ayumi/.pyenv/versions/3.10.18/lib/python3.10/site-packages (from transformers>=4.38.0->transformers[torch]>=4.38.0->granite-tsfm@ git+https://github.com/ibm-granite/granite-tsfm.git@v0.2.22->granite-tsfm[notebooks]@ git+https://github.com/ibm-granite/granite-tsfm.git@v0.2.22) (6.0.2)\r\n",
      "Requirement already satisfied: regex!=2019.12.17 in /home/ayumi/.pyenv/versions/3.10.18/lib/python3.10/site-packages (from transformers>=4.38.0->transformers[torch]>=4.38.0->granite-tsfm@ git+https://github.com/ibm-granite/granite-tsfm.git@v0.2.22->granite-tsfm[notebooks]@ git+https://github.com/ibm-granite/granite-tsfm.git@v0.2.22) (2024.11.6)\r\n",
      "Requirement already satisfied: requests in /home/ayumi/.pyenv/versions/3.10.18/lib/python3.10/site-packages (from transformers>=4.38.0->transformers[torch]>=4.38.0->granite-tsfm@ git+https://github.com/ibm-granite/granite-tsfm.git@v0.2.22->granite-tsfm[notebooks]@ git+https://github.com/ibm-granite/granite-tsfm.git@v0.2.22) (2.32.4)\r\n",
      "Requirement already satisfied: tokenizers<0.19,>=0.14 in /home/ayumi/.pyenv/versions/3.10.18/lib/python3.10/site-packages (from transformers>=4.38.0->transformers[torch]>=4.38.0->granite-tsfm@ git+https://github.com/ibm-granite/granite-tsfm.git@v0.2.22->granite-tsfm[notebooks]@ git+https://github.com/ibm-granite/granite-tsfm.git@v0.2.22) (0.15.2)\r\n",
      "Requirement already satisfied: safetensors>=0.4.1 in /home/ayumi/.pyenv/versions/3.10.18/lib/python3.10/site-packages (from transformers>=4.38.0->transformers[torch]>=4.38.0->granite-tsfm@ git+https://github.com/ibm-granite/granite-tsfm.git@v0.2.22->granite-tsfm[notebooks]@ git+https://github.com/ibm-granite/granite-tsfm.git@v0.2.22) (0.5.3)\r\n",
      "Requirement already satisfied: tqdm>=4.27 in /home/ayumi/.pyenv/versions/3.10.18/lib/python3.10/site-packages (from transformers>=4.38.0->transformers[torch]>=4.38.0->granite-tsfm@ git+https://github.com/ibm-granite/granite-tsfm.git@v0.2.22->granite-tsfm[notebooks]@ git+https://github.com/ibm-granite/granite-tsfm.git@v0.2.22) (4.67.1)\r\n",
      "Requirement already satisfied: torch in /home/ayumi/.pyenv/versions/3.10.18/lib/python3.10/site-packages (from transformers[torch]>=4.38.0->granite-tsfm@ git+https://github.com/ibm-granite/granite-tsfm.git@v0.2.22->granite-tsfm[notebooks]@ git+https://github.com/ibm-granite/granite-tsfm.git@v0.2.22) (2.3.0+cu121)\r\n",
      "Requirement already satisfied: accelerate>=0.21.0 in /home/ayumi/.pyenv/versions/3.10.18/lib/python3.10/site-packages (from transformers[torch]>=4.38.0->granite-tsfm@ git+https://github.com/ibm-granite/granite-tsfm.git@v0.2.22->granite-tsfm[notebooks]@ git+https://github.com/ibm-granite/granite-tsfm.git@v0.2.22) (0.34.2)\r\n",
      "Requirement already satisfied: pyarrow>=15.0.0 in /home/ayumi/.pyenv/versions/3.10.18/lib/python3.10/site-packages (from datasets->granite-tsfm@ git+https://github.com/ibm-granite/granite-tsfm.git@v0.2.22->granite-tsfm[notebooks]@ git+https://github.com/ibm-granite/granite-tsfm.git@v0.2.22) (20.0.0)\r\n",
      "Requirement already satisfied: dill<0.3.9,>=0.3.0 in /home/ayumi/.pyenv/versions/3.10.18/lib/python3.10/site-packages (from datasets->granite-tsfm@ git+https://github.com/ibm-granite/granite-tsfm.git@v0.2.22->granite-tsfm[notebooks]@ git+https://github.com/ibm-granite/granite-tsfm.git@v0.2.22) (0.3.8)\r\n",
      "Requirement already satisfied: xxhash in /home/ayumi/.pyenv/versions/3.10.18/lib/python3.10/site-packages (from datasets->granite-tsfm@ git+https://github.com/ibm-granite/granite-tsfm.git@v0.2.22->granite-tsfm[notebooks]@ git+https://github.com/ibm-granite/granite-tsfm.git@v0.2.22) (3.5.0)\r\n",
      "Requirement already satisfied: multiprocess<0.70.17 in /home/ayumi/.pyenv/versions/3.10.18/lib/python3.10/site-packages (from datasets->granite-tsfm@ git+https://github.com/ibm-granite/granite-tsfm.git@v0.2.22->granite-tsfm[notebooks]@ git+https://github.com/ibm-granite/granite-tsfm.git@v0.2.22) (0.70.16)\r\n",
      "Requirement already satisfied: fsspec<=2025.3.0,>=2023.1.0 in /home/ayumi/.pyenv/versions/3.10.18/lib/python3.10/site-packages (from fsspec[http]<=2025.3.0,>=2023.1.0->datasets->granite-tsfm@ git+https://github.com/ibm-granite/granite-tsfm.git@v0.2.22->granite-tsfm[notebooks]@ git+https://github.com/ibm-granite/granite-tsfm.git@v0.2.22) (2025.3.0)\r\n",
      "Requirement already satisfied: wrapt<2,>=1.10 in /home/ayumi/.pyenv/versions/3.10.18/lib/python3.10/site-packages (from deprecated->granite-tsfm@ git+https://github.com/ibm-granite/granite-tsfm.git@v0.2.22->granite-tsfm[notebooks]@ git+https://github.com/ibm-granite/granite-tsfm.git@v0.2.22) (1.17.2)\r\n",
      "Requirement already satisfied: comm>=0.1.3 in /home/ayumi/.pyenv/versions/3.10.18/lib/python3.10/site-packages (from ipywidgets->granite-tsfm@ git+https://github.com/ibm-granite/granite-tsfm.git@v0.2.22->granite-tsfm[notebooks]@ git+https://github.com/ibm-granite/granite-tsfm.git@v0.2.22) (0.2.2)\r\n",
      "Requirement already satisfied: ipython>=6.1.0 in /home/ayumi/.pyenv/versions/3.10.18/lib/python3.10/site-packages (from ipywidgets->granite-tsfm@ git+https://github.com/ibm-granite/granite-tsfm.git@v0.2.22->granite-tsfm[notebooks]@ git+https://github.com/ibm-granite/granite-tsfm.git@v0.2.22) (8.37.0)\r\n",
      "Requirement already satisfied: traitlets>=4.3.1 in /home/ayumi/.pyenv/versions/3.10.18/lib/python3.10/site-packages (from ipywidgets->granite-tsfm@ git+https://github.com/ibm-granite/granite-tsfm.git@v0.2.22->granite-tsfm[notebooks]@ git+https://github.com/ibm-granite/granite-tsfm.git@v0.2.22) (5.14.3)\r\n",
      "Requirement already satisfied: widgetsnbextension~=4.0.14 in /home/ayumi/.pyenv/versions/3.10.18/lib/python3.10/site-packages (from ipywidgets->granite-tsfm@ git+https://github.com/ibm-granite/granite-tsfm.git@v0.2.22->granite-tsfm[notebooks]@ git+https://github.com/ibm-granite/granite-tsfm.git@v0.2.22) (4.0.14)\r\n",
      "Requirement already satisfied: jupyterlab_widgets~=3.0.15 in /home/ayumi/.pyenv/versions/3.10.18/lib/python3.10/site-packages (from ipywidgets->granite-tsfm@ git+https://github.com/ibm-granite/granite-tsfm.git@v0.2.22->granite-tsfm[notebooks]@ git+https://github.com/ibm-granite/granite-tsfm.git@v0.2.22) (3.0.15)\r\n",
      "Requirement already satisfied: notebook in /home/ayumi/.pyenv/versions/3.10.18/lib/python3.10/site-packages (from jupyter->granite-tsfm@ git+https://github.com/ibm-granite/granite-tsfm.git@v0.2.22->granite-tsfm[notebooks]@ git+https://github.com/ibm-granite/granite-tsfm.git@v0.2.22) (7.4.3)\r\n",
      "Requirement already satisfied: jupyter-console in /home/ayumi/.pyenv/versions/3.10.18/lib/python3.10/site-packages (from jupyter->granite-tsfm@ git+https://github.com/ibm-granite/granite-tsfm.git@v0.2.22->granite-tsfm[notebooks]@ git+https://github.com/ibm-granite/granite-tsfm.git@v0.2.22) (6.6.3)\r\n",
      "Requirement already satisfied: nbconvert in /home/ayumi/.pyenv/versions/3.10.18/lib/python3.10/site-packages (from jupyter->granite-tsfm@ git+https://github.com/ibm-granite/granite-tsfm.git@v0.2.22->granite-tsfm[notebooks]@ git+https://github.com/ibm-granite/granite-tsfm.git@v0.2.22) (7.16.6)\r\n",
      "Requirement already satisfied: ipykernel in /home/ayumi/.pyenv/versions/3.10.18/lib/python3.10/site-packages (from jupyter->granite-tsfm@ git+https://github.com/ibm-granite/granite-tsfm.git@v0.2.22->granite-tsfm[notebooks]@ git+https://github.com/ibm-granite/granite-tsfm.git@v0.2.22) (6.29.5)\r\n",
      "Requirement already satisfied: jupyterlab in /home/ayumi/.pyenv/versions/3.10.18/lib/python3.10/site-packages (from jupyter->granite-tsfm@ git+https://github.com/ibm-granite/granite-tsfm.git@v0.2.22->granite-tsfm[notebooks]@ git+https://github.com/ibm-granite/granite-tsfm.git@v0.2.22) (4.4.3)\r\n",
      "Requirement already satisfied: contourpy>=1.0.1 in /home/ayumi/.pyenv/versions/3.10.18/lib/python3.10/site-packages (from matplotlib->granite-tsfm@ git+https://github.com/ibm-granite/granite-tsfm.git@v0.2.22->granite-tsfm[notebooks]@ git+https://github.com/ibm-granite/granite-tsfm.git@v0.2.22) (1.3.2)\r\n",
      "Requirement already satisfied: cycler>=0.10 in /home/ayumi/.pyenv/versions/3.10.18/lib/python3.10/site-packages (from matplotlib->granite-tsfm@ git+https://github.com/ibm-granite/granite-tsfm.git@v0.2.22->granite-tsfm[notebooks]@ git+https://github.com/ibm-granite/granite-tsfm.git@v0.2.22) (0.12.1)\r\n",
      "Requirement already satisfied: fonttools>=4.22.0 in /home/ayumi/.pyenv/versions/3.10.18/lib/python3.10/site-packages (from matplotlib->granite-tsfm@ git+https://github.com/ibm-granite/granite-tsfm.git@v0.2.22->granite-tsfm[notebooks]@ git+https://github.com/ibm-granite/granite-tsfm.git@v0.2.22) (4.58.3)\r\n",
      "Requirement already satisfied: kiwisolver>=1.0.1 in /home/ayumi/.pyenv/versions/3.10.18/lib/python3.10/site-packages (from matplotlib->granite-tsfm@ git+https://github.com/ibm-granite/granite-tsfm.git@v0.2.22->granite-tsfm[notebooks]@ git+https://github.com/ibm-granite/granite-tsfm.git@v0.2.22) (1.4.8)\r\n",
      "Requirement already satisfied: pillow>=6.2.0 in /home/ayumi/.pyenv/versions/3.10.18/lib/python3.10/site-packages (from matplotlib->granite-tsfm@ git+https://github.com/ibm-granite/granite-tsfm.git@v0.2.22->granite-tsfm[notebooks]@ git+https://github.com/ibm-granite/granite-tsfm.git@v0.2.22) (11.2.1)\r\n",
      "Requirement already satisfied: pyparsing>=2.3.1 in /home/ayumi/.pyenv/versions/3.10.18/lib/python3.10/site-packages (from matplotlib->granite-tsfm@ git+https://github.com/ibm-granite/granite-tsfm.git@v0.2.22->granite-tsfm[notebooks]@ git+https://github.com/ibm-granite/granite-tsfm.git@v0.2.22) (3.2.3)\r\n",
      "Requirement already satisfied: narwhals>=1.15.1 in /home/ayumi/.pyenv/versions/3.10.18/lib/python3.10/site-packages (from plotly->granite-tsfm@ git+https://github.com/ibm-granite/granite-tsfm.git@v0.2.22->granite-tsfm[notebooks]@ git+https://github.com/ibm-granite/granite-tsfm.git@v0.2.22) (1.42.1)\r\n",
      "Requirement already satisfied: scipy>=1.5.0 in /home/ayumi/.pyenv/versions/3.10.18/lib/python3.10/site-packages (from scikit-learn->granite-tsfm@ git+https://github.com/ibm-granite/granite-tsfm.git@v0.2.22->granite-tsfm[notebooks]@ git+https://github.com/ibm-granite/granite-tsfm.git@v0.2.22) (1.15.3)\r\n",
      "Requirement already satisfied: joblib>=1.1.1 in /home/ayumi/.pyenv/versions/3.10.18/lib/python3.10/site-packages (from scikit-learn->granite-tsfm@ git+https://github.com/ibm-granite/granite-tsfm.git@v0.2.22->granite-tsfm[notebooks]@ git+https://github.com/ibm-granite/granite-tsfm.git@v0.2.22) (1.5.1)\r\n",
      "Requirement already satisfied: threadpoolctl>=2.0.0 in /home/ayumi/.pyenv/versions/3.10.18/lib/python3.10/site-packages (from scikit-learn->granite-tsfm@ git+https://github.com/ibm-granite/granite-tsfm.git@v0.2.22->granite-tsfm[notebooks]@ git+https://github.com/ibm-granite/granite-tsfm.git@v0.2.22) (3.6.0)\r\n",
      "Requirement already satisfied: absl-py>=0.4 in /home/ayumi/.pyenv/versions/3.10.18/lib/python3.10/site-packages (from tensorboard->granite-tsfm@ git+https://github.com/ibm-granite/granite-tsfm.git@v0.2.22->granite-tsfm[notebooks]@ git+https://github.com/ibm-granite/granite-tsfm.git@v0.2.22) (2.3.0)\r\n",
      "Requirement already satisfied: grpcio>=1.48.2 in /home/ayumi/.pyenv/versions/3.10.18/lib/python3.10/site-packages (from tensorboard->granite-tsfm@ git+https://github.com/ibm-granite/granite-tsfm.git@v0.2.22->granite-tsfm[notebooks]@ git+https://github.com/ibm-granite/granite-tsfm.git@v0.2.22) (1.73.0)\r\n",
      "Requirement already satisfied: markdown>=2.6.8 in /home/ayumi/.pyenv/versions/3.10.18/lib/python3.10/site-packages (from tensorboard->granite-tsfm@ git+https://github.com/ibm-granite/granite-tsfm.git@v0.2.22->granite-tsfm[notebooks]@ git+https://github.com/ibm-granite/granite-tsfm.git@v0.2.22) (3.8)\r\n",
      "Requirement already satisfied: protobuf!=4.24.0,>=3.19.6 in /home/ayumi/.pyenv/versions/3.10.18/lib/python3.10/site-packages (from tensorboard->granite-tsfm@ git+https://github.com/ibm-granite/granite-tsfm.git@v0.2.22->granite-tsfm[notebooks]@ git+https://github.com/ibm-granite/granite-tsfm.git@v0.2.22) (6.31.1)\r\n",
      "Requirement already satisfied: setuptools>=41.0.0 in /home/ayumi/.pyenv/versions/3.10.18/lib/python3.10/site-packages (from tensorboard->granite-tsfm@ git+https://github.com/ibm-granite/granite-tsfm.git@v0.2.22->granite-tsfm[notebooks]@ git+https://github.com/ibm-granite/granite-tsfm.git@v0.2.22) (44.1.1)\r\n",
      "Requirement already satisfied: six>1.9 in /home/ayumi/.pyenv/versions/3.10.18/lib/python3.10/site-packages (from tensorboard->granite-tsfm@ git+https://github.com/ibm-granite/granite-tsfm.git@v0.2.22->granite-tsfm[notebooks]@ git+https://github.com/ibm-granite/granite-tsfm.git@v0.2.22) (1.17.0)\r\n",
      "Requirement already satisfied: tensorboard-data-server<0.8.0,>=0.7.0 in /home/ayumi/.pyenv/versions/3.10.18/lib/python3.10/site-packages (from tensorboard->granite-tsfm@ git+https://github.com/ibm-granite/granite-tsfm.git@v0.2.22->granite-tsfm[notebooks]@ git+https://github.com/ibm-granite/granite-tsfm.git@v0.2.22) (0.7.2)\r\n",
      "Requirement already satisfied: werkzeug>=1.0.1 in /home/ayumi/.pyenv/versions/3.10.18/lib/python3.10/site-packages (from tensorboard->granite-tsfm@ git+https://github.com/ibm-granite/granite-tsfm.git@v0.2.22->granite-tsfm[notebooks]@ git+https://github.com/ibm-granite/granite-tsfm.git@v0.2.22) (3.1.3)\r\n",
      "Requirement already satisfied: psutil in /home/ayumi/.pyenv/versions/3.10.18/lib/python3.10/site-packages (from accelerate>=0.21.0->transformers[torch]>=4.38.0->granite-tsfm@ git+https://github.com/ibm-granite/granite-tsfm.git@v0.2.22->granite-tsfm[notebooks]@ git+https://github.com/ibm-granite/granite-tsfm.git@v0.2.22) (7.0.0)\r\n",
      "Requirement already satisfied: aiohttp!=4.0.0a0,!=4.0.0a1 in /home/ayumi/.pyenv/versions/3.10.18/lib/python3.10/site-packages (from fsspec[http]<=2025.3.0,>=2023.1.0->datasets->granite-tsfm@ git+https://github.com/ibm-granite/granite-tsfm.git@v0.2.22->granite-tsfm[notebooks]@ git+https://github.com/ibm-granite/granite-tsfm.git@v0.2.22) (3.12.12)\r\n",
      "Requirement already satisfied: typing-extensions>=3.7.4.3 in /home/ayumi/.pyenv/versions/3.10.18/lib/python3.10/site-packages (from huggingface-hub<1.0,>=0.19.3->transformers>=4.38.0->transformers[torch]>=4.38.0->granite-tsfm@ git+https://github.com/ibm-granite/granite-tsfm.git@v0.2.22->granite-tsfm[notebooks]@ git+https://github.com/ibm-granite/granite-tsfm.git@v0.2.22) (4.14.0)\r\n",
      "Requirement already satisfied: hf-xet<2.0.0,>=1.1.2 in /home/ayumi/.pyenv/versions/3.10.18/lib/python3.10/site-packages (from huggingface-hub<1.0,>=0.19.3->transformers>=4.38.0->transformers[torch]>=4.38.0->granite-tsfm@ git+https://github.com/ibm-granite/granite-tsfm.git@v0.2.22->granite-tsfm[notebooks]@ git+https://github.com/ibm-granite/granite-tsfm.git@v0.2.22) (1.1.3)\r\n",
      "Requirement already satisfied: decorator in /home/ayumi/.pyenv/versions/3.10.18/lib/python3.10/site-packages (from ipython>=6.1.0->ipywidgets->granite-tsfm@ git+https://github.com/ibm-granite/granite-tsfm.git@v0.2.22->granite-tsfm[notebooks]@ git+https://github.com/ibm-granite/granite-tsfm.git@v0.2.22) (5.2.1)\r\n",
      "Requirement already satisfied: exceptiongroup in /home/ayumi/.pyenv/versions/3.10.18/lib/python3.10/site-packages (from ipython>=6.1.0->ipywidgets->granite-tsfm@ git+https://github.com/ibm-granite/granite-tsfm.git@v0.2.22->granite-tsfm[notebooks]@ git+https://github.com/ibm-granite/granite-tsfm.git@v0.2.22) (1.3.0)\r\n",
      "Requirement already satisfied: jedi>=0.16 in /home/ayumi/.pyenv/versions/3.10.18/lib/python3.10/site-packages (from ipython>=6.1.0->ipywidgets->granite-tsfm@ git+https://github.com/ibm-granite/granite-tsfm.git@v0.2.22->granite-tsfm[notebooks]@ git+https://github.com/ibm-granite/granite-tsfm.git@v0.2.22) (0.19.2)\r\n",
      "Requirement already satisfied: matplotlib-inline in /home/ayumi/.pyenv/versions/3.10.18/lib/python3.10/site-packages (from ipython>=6.1.0->ipywidgets->granite-tsfm@ git+https://github.com/ibm-granite/granite-tsfm.git@v0.2.22->granite-tsfm[notebooks]@ git+https://github.com/ibm-granite/granite-tsfm.git@v0.2.22) (0.1.7)\r\n",
      "Requirement already satisfied: pexpect>4.3 in /home/ayumi/.pyenv/versions/3.10.18/lib/python3.10/site-packages (from ipython>=6.1.0->ipywidgets->granite-tsfm@ git+https://github.com/ibm-granite/granite-tsfm.git@v0.2.22->granite-tsfm[notebooks]@ git+https://github.com/ibm-granite/granite-tsfm.git@v0.2.22) (4.9.0)\r\n",
      "Requirement already satisfied: prompt_toolkit<3.1.0,>=3.0.41 in /home/ayumi/.pyenv/versions/3.10.18/lib/python3.10/site-packages (from ipython>=6.1.0->ipywidgets->granite-tsfm@ git+https://github.com/ibm-granite/granite-tsfm.git@v0.2.22->granite-tsfm[notebooks]@ git+https://github.com/ibm-granite/granite-tsfm.git@v0.2.22) (3.0.51)\r\n",
      "Requirement already satisfied: pygments>=2.4.0 in /home/ayumi/.pyenv/versions/3.10.18/lib/python3.10/site-packages (from ipython>=6.1.0->ipywidgets->granite-tsfm@ git+https://github.com/ibm-granite/granite-tsfm.git@v0.2.22->granite-tsfm[notebooks]@ git+https://github.com/ibm-granite/granite-tsfm.git@v0.2.22) (2.19.1)\r\n",
      "Requirement already satisfied: stack_data in /home/ayumi/.pyenv/versions/3.10.18/lib/python3.10/site-packages (from ipython>=6.1.0->ipywidgets->granite-tsfm@ git+https://github.com/ibm-granite/granite-tsfm.git@v0.2.22->granite-tsfm[notebooks]@ git+https://github.com/ibm-granite/granite-tsfm.git@v0.2.22) (0.6.3)\r\n",
      "Requirement already satisfied: charset_normalizer<4,>=2 in /home/ayumi/.pyenv/versions/3.10.18/lib/python3.10/site-packages (from requests->transformers>=4.38.0->transformers[torch]>=4.38.0->granite-tsfm@ git+https://github.com/ibm-granite/granite-tsfm.git@v0.2.22->granite-tsfm[notebooks]@ git+https://github.com/ibm-granite/granite-tsfm.git@v0.2.22) (3.4.2)\r\n",
      "Requirement already satisfied: idna<4,>=2.5 in /home/ayumi/.pyenv/versions/3.10.18/lib/python3.10/site-packages (from requests->transformers>=4.38.0->transformers[torch]>=4.38.0->granite-tsfm@ git+https://github.com/ibm-granite/granite-tsfm.git@v0.2.22->granite-tsfm[notebooks]@ git+https://github.com/ibm-granite/granite-tsfm.git@v0.2.22) (3.10)\r\n",
      "Requirement already satisfied: certifi>=2017.4.17 in /home/ayumi/.pyenv/versions/3.10.18/lib/python3.10/site-packages (from requests->transformers>=4.38.0->transformers[torch]>=4.38.0->granite-tsfm@ git+https://github.com/ibm-granite/granite-tsfm.git@v0.2.22->granite-tsfm[notebooks]@ git+https://github.com/ibm-granite/granite-tsfm.git@v0.2.22) (2025.4.26)\r\n",
      "Requirement already satisfied: sympy in /home/ayumi/.pyenv/versions/3.10.18/lib/python3.10/site-packages (from torch->transformers[torch]>=4.38.0->granite-tsfm@ git+https://github.com/ibm-granite/granite-tsfm.git@v0.2.22->granite-tsfm[notebooks]@ git+https://github.com/ibm-granite/granite-tsfm.git@v0.2.22) (1.14.0)\r\n",
      "Requirement already satisfied: networkx in /home/ayumi/.pyenv/versions/3.10.18/lib/python3.10/site-packages (from torch->transformers[torch]>=4.38.0->granite-tsfm@ git+https://github.com/ibm-granite/granite-tsfm.git@v0.2.22->granite-tsfm[notebooks]@ git+https://github.com/ibm-granite/granite-tsfm.git@v0.2.22) (3.1)\r\n",
      "Requirement already satisfied: jinja2 in /home/ayumi/.pyenv/versions/3.10.18/lib/python3.10/site-packages (from torch->transformers[torch]>=4.38.0->granite-tsfm@ git+https://github.com/ibm-granite/granite-tsfm.git@v0.2.22->granite-tsfm[notebooks]@ git+https://github.com/ibm-granite/granite-tsfm.git@v0.2.22) (3.1.6)\r\n",
      "Requirement already satisfied: nvidia-cuda-nvrtc-cu12==12.1.105 in /home/ayumi/.pyenv/versions/3.10.18/lib/python3.10/site-packages (from torch->transformers[torch]>=4.38.0->granite-tsfm@ git+https://github.com/ibm-granite/granite-tsfm.git@v0.2.22->granite-tsfm[notebooks]@ git+https://github.com/ibm-granite/granite-tsfm.git@v0.2.22) (12.1.105)\r\n",
      "Requirement already satisfied: nvidia-cuda-runtime-cu12==12.1.105 in /home/ayumi/.pyenv/versions/3.10.18/lib/python3.10/site-packages (from torch->transformers[torch]>=4.38.0->granite-tsfm@ git+https://github.com/ibm-granite/granite-tsfm.git@v0.2.22->granite-tsfm[notebooks]@ git+https://github.com/ibm-granite/granite-tsfm.git@v0.2.22) (12.1.105)\r\n",
      "Requirement already satisfied: nvidia-cuda-cupti-cu12==12.1.105 in /home/ayumi/.pyenv/versions/3.10.18/lib/python3.10/site-packages (from torch->transformers[torch]>=4.38.0->granite-tsfm@ git+https://github.com/ibm-granite/granite-tsfm.git@v0.2.22->granite-tsfm[notebooks]@ git+https://github.com/ibm-granite/granite-tsfm.git@v0.2.22) (12.1.105)\r\n",
      "Requirement already satisfied: nvidia-cudnn-cu12==8.9.2.26 in /home/ayumi/.pyenv/versions/3.10.18/lib/python3.10/site-packages (from torch->transformers[torch]>=4.38.0->granite-tsfm@ git+https://github.com/ibm-granite/granite-tsfm.git@v0.2.22->granite-tsfm[notebooks]@ git+https://github.com/ibm-granite/granite-tsfm.git@v0.2.22) (8.9.2.26)\r\n",
      "Requirement already satisfied: nvidia-cublas-cu12==12.1.3.1 in /home/ayumi/.pyenv/versions/3.10.18/lib/python3.10/site-packages (from torch->transformers[torch]>=4.38.0->granite-tsfm@ git+https://github.com/ibm-granite/granite-tsfm.git@v0.2.22->granite-tsfm[notebooks]@ git+https://github.com/ibm-granite/granite-tsfm.git@v0.2.22) (12.1.3.1)\r\n",
      "Requirement already satisfied: nvidia-cufft-cu12==11.0.2.54 in /home/ayumi/.pyenv/versions/3.10.18/lib/python3.10/site-packages (from torch->transformers[torch]>=4.38.0->granite-tsfm@ git+https://github.com/ibm-granite/granite-tsfm.git@v0.2.22->granite-tsfm[notebooks]@ git+https://github.com/ibm-granite/granite-tsfm.git@v0.2.22) (11.0.2.54)\r\n",
      "Requirement already satisfied: nvidia-curand-cu12==10.3.2.106 in /home/ayumi/.pyenv/versions/3.10.18/lib/python3.10/site-packages (from torch->transformers[torch]>=4.38.0->granite-tsfm@ git+https://github.com/ibm-granite/granite-tsfm.git@v0.2.22->granite-tsfm[notebooks]@ git+https://github.com/ibm-granite/granite-tsfm.git@v0.2.22) (10.3.2.106)\r\n",
      "Requirement already satisfied: nvidia-cusolver-cu12==11.4.5.107 in /home/ayumi/.pyenv/versions/3.10.18/lib/python3.10/site-packages (from torch->transformers[torch]>=4.38.0->granite-tsfm@ git+https://github.com/ibm-granite/granite-tsfm.git@v0.2.22->granite-tsfm[notebooks]@ git+https://github.com/ibm-granite/granite-tsfm.git@v0.2.22) (11.4.5.107)\r\n",
      "Requirement already satisfied: nvidia-cusparse-cu12==12.1.0.106 in /home/ayumi/.pyenv/versions/3.10.18/lib/python3.10/site-packages (from torch->transformers[torch]>=4.38.0->granite-tsfm@ git+https://github.com/ibm-granite/granite-tsfm.git@v0.2.22->granite-tsfm[notebooks]@ git+https://github.com/ibm-granite/granite-tsfm.git@v0.2.22) (12.1.0.106)\r\n",
      "Requirement already satisfied: nvidia-nccl-cu12==2.20.5 in /home/ayumi/.pyenv/versions/3.10.18/lib/python3.10/site-packages (from torch->transformers[torch]>=4.38.0->granite-tsfm@ git+https://github.com/ibm-granite/granite-tsfm.git@v0.2.22->granite-tsfm[notebooks]@ git+https://github.com/ibm-granite/granite-tsfm.git@v0.2.22) (2.20.5)\r\n",
      "Requirement already satisfied: nvidia-nvtx-cu12==12.1.105 in /home/ayumi/.pyenv/versions/3.10.18/lib/python3.10/site-packages (from torch->transformers[torch]>=4.38.0->granite-tsfm@ git+https://github.com/ibm-granite/granite-tsfm.git@v0.2.22->granite-tsfm[notebooks]@ git+https://github.com/ibm-granite/granite-tsfm.git@v0.2.22) (12.1.105)\r\n",
      "Requirement already satisfied: triton==2.3.0 in /home/ayumi/.pyenv/versions/3.10.18/lib/python3.10/site-packages (from torch->transformers[torch]>=4.38.0->granite-tsfm@ git+https://github.com/ibm-granite/granite-tsfm.git@v0.2.22->granite-tsfm[notebooks]@ git+https://github.com/ibm-granite/granite-tsfm.git@v0.2.22) (2.3.0)\r\n",
      "Requirement already satisfied: nvidia-nvjitlink-cu12 in /home/ayumi/.pyenv/versions/3.10.18/lib/python3.10/site-packages (from nvidia-cusolver-cu12==11.4.5.107->torch->transformers[torch]>=4.38.0->granite-tsfm@ git+https://github.com/ibm-granite/granite-tsfm.git@v0.2.22->granite-tsfm[notebooks]@ git+https://github.com/ibm-granite/granite-tsfm.git@v0.2.22) (12.6.85)\r\n",
      "Requirement already satisfied: MarkupSafe>=2.1.1 in /home/ayumi/.pyenv/versions/3.10.18/lib/python3.10/site-packages (from werkzeug>=1.0.1->tensorboard->granite-tsfm@ git+https://github.com/ibm-granite/granite-tsfm.git@v0.2.22->granite-tsfm[notebooks]@ git+https://github.com/ibm-granite/granite-tsfm.git@v0.2.22) (3.0.2)\r\n",
      "Requirement already satisfied: debugpy>=1.6.5 in /home/ayumi/.pyenv/versions/3.10.18/lib/python3.10/site-packages (from ipykernel->jupyter->granite-tsfm@ git+https://github.com/ibm-granite/granite-tsfm.git@v0.2.22->granite-tsfm[notebooks]@ git+https://github.com/ibm-granite/granite-tsfm.git@v0.2.22) (1.8.14)\r\n",
      "Requirement already satisfied: jupyter-client>=6.1.12 in /home/ayumi/.pyenv/versions/3.10.18/lib/python3.10/site-packages (from ipykernel->jupyter->granite-tsfm@ git+https://github.com/ibm-granite/granite-tsfm.git@v0.2.22->granite-tsfm[notebooks]@ git+https://github.com/ibm-granite/granite-tsfm.git@v0.2.22) (8.6.3)\r\n",
      "Requirement already satisfied: jupyter-core!=5.0.*,>=4.12 in /home/ayumi/.pyenv/versions/3.10.18/lib/python3.10/site-packages (from ipykernel->jupyter->granite-tsfm@ git+https://github.com/ibm-granite/granite-tsfm.git@v0.2.22->granite-tsfm[notebooks]@ git+https://github.com/ibm-granite/granite-tsfm.git@v0.2.22) (5.8.1)\r\n",
      "Requirement already satisfied: nest-asyncio in /home/ayumi/.pyenv/versions/3.10.18/lib/python3.10/site-packages (from ipykernel->jupyter->granite-tsfm@ git+https://github.com/ibm-granite/granite-tsfm.git@v0.2.22->granite-tsfm[notebooks]@ git+https://github.com/ibm-granite/granite-tsfm.git@v0.2.22) (1.6.0)\r\n",
      "Requirement already satisfied: pyzmq>=24 in /home/ayumi/.pyenv/versions/3.10.18/lib/python3.10/site-packages (from ipykernel->jupyter->granite-tsfm@ git+https://github.com/ibm-granite/granite-tsfm.git@v0.2.22->granite-tsfm[notebooks]@ git+https://github.com/ibm-granite/granite-tsfm.git@v0.2.22) (27.0.0)\r\n",
      "Requirement already satisfied: tornado>=6.1 in /home/ayumi/.pyenv/versions/3.10.18/lib/python3.10/site-packages (from ipykernel->jupyter->granite-tsfm@ git+https://github.com/ibm-granite/granite-tsfm.git@v0.2.22->granite-tsfm[notebooks]@ git+https://github.com/ibm-granite/granite-tsfm.git@v0.2.22) (6.5.1)\r\n",
      "Requirement already satisfied: async-lru>=1.0.0 in /home/ayumi/.pyenv/versions/3.10.18/lib/python3.10/site-packages (from jupyterlab->jupyter->granite-tsfm@ git+https://github.com/ibm-granite/granite-tsfm.git@v0.2.22->granite-tsfm[notebooks]@ git+https://github.com/ibm-granite/granite-tsfm.git@v0.2.22) (2.0.5)\r\n",
      "Requirement already satisfied: httpx>=0.25.0 in /home/ayumi/.pyenv/versions/3.10.18/lib/python3.10/site-packages (from jupyterlab->jupyter->granite-tsfm@ git+https://github.com/ibm-granite/granite-tsfm.git@v0.2.22->granite-tsfm[notebooks]@ git+https://github.com/ibm-granite/granite-tsfm.git@v0.2.22) (0.28.1)\r\n",
      "Requirement already satisfied: jupyter-lsp>=2.0.0 in /home/ayumi/.pyenv/versions/3.10.18/lib/python3.10/site-packages (from jupyterlab->jupyter->granite-tsfm@ git+https://github.com/ibm-granite/granite-tsfm.git@v0.2.22->granite-tsfm[notebooks]@ git+https://github.com/ibm-granite/granite-tsfm.git@v0.2.22) (2.2.5)\r\n",
      "Requirement already satisfied: jupyter-server<3,>=2.4.0 in /home/ayumi/.pyenv/versions/3.10.18/lib/python3.10/site-packages (from jupyterlab->jupyter->granite-tsfm@ git+https://github.com/ibm-granite/granite-tsfm.git@v0.2.22->granite-tsfm[notebooks]@ git+https://github.com/ibm-granite/granite-tsfm.git@v0.2.22) (2.16.0)\r\n",
      "Requirement already satisfied: jupyterlab-server<3,>=2.27.1 in /home/ayumi/.pyenv/versions/3.10.18/lib/python3.10/site-packages (from jupyterlab->jupyter->granite-tsfm@ git+https://github.com/ibm-granite/granite-tsfm.git@v0.2.22->granite-tsfm[notebooks]@ git+https://github.com/ibm-granite/granite-tsfm.git@v0.2.22) (2.27.3)\r\n",
      "Requirement already satisfied: notebook-shim>=0.2 in /home/ayumi/.pyenv/versions/3.10.18/lib/python3.10/site-packages (from jupyterlab->jupyter->granite-tsfm@ git+https://github.com/ibm-granite/granite-tsfm.git@v0.2.22->granite-tsfm[notebooks]@ git+https://github.com/ibm-granite/granite-tsfm.git@v0.2.22) (0.2.4)\r\n",
      "Requirement already satisfied: tomli>=1.2.2 in /home/ayumi/.pyenv/versions/3.10.18/lib/python3.10/site-packages (from jupyterlab->jupyter->granite-tsfm@ git+https://github.com/ibm-granite/granite-tsfm.git@v0.2.22->granite-tsfm[notebooks]@ git+https://github.com/ibm-granite/granite-tsfm.git@v0.2.22) (2.2.1)\r\n",
      "Requirement already satisfied: beautifulsoup4 in /home/ayumi/.pyenv/versions/3.10.18/lib/python3.10/site-packages (from nbconvert->jupyter->granite-tsfm@ git+https://github.com/ibm-granite/granite-tsfm.git@v0.2.22->granite-tsfm[notebooks]@ git+https://github.com/ibm-granite/granite-tsfm.git@v0.2.22) (4.13.4)\r\n",
      "Requirement already satisfied: bleach!=5.0.0 in /home/ayumi/.pyenv/versions/3.10.18/lib/python3.10/site-packages (from bleach[css]!=5.0.0->nbconvert->jupyter->granite-tsfm@ git+https://github.com/ibm-granite/granite-tsfm.git@v0.2.22->granite-tsfm[notebooks]@ git+https://github.com/ibm-granite/granite-tsfm.git@v0.2.22) (6.2.0)\r\n",
      "Requirement already satisfied: defusedxml in /home/ayumi/.pyenv/versions/3.10.18/lib/python3.10/site-packages (from nbconvert->jupyter->granite-tsfm@ git+https://github.com/ibm-granite/granite-tsfm.git@v0.2.22->granite-tsfm[notebooks]@ git+https://github.com/ibm-granite/granite-tsfm.git@v0.2.22) (0.7.1)\r\n",
      "Requirement already satisfied: jupyterlab-pygments in /home/ayumi/.pyenv/versions/3.10.18/lib/python3.10/site-packages (from nbconvert->jupyter->granite-tsfm@ git+https://github.com/ibm-granite/granite-tsfm.git@v0.2.22->granite-tsfm[notebooks]@ git+https://github.com/ibm-granite/granite-tsfm.git@v0.2.22) (0.3.0)\r\n",
      "Requirement already satisfied: mistune<4,>=2.0.3 in /home/ayumi/.pyenv/versions/3.10.18/lib/python3.10/site-packages (from nbconvert->jupyter->granite-tsfm@ git+https://github.com/ibm-granite/granite-tsfm.git@v0.2.22->granite-tsfm[notebooks]@ git+https://github.com/ibm-granite/granite-tsfm.git@v0.2.22) (3.1.3)\r\n",
      "Requirement already satisfied: nbclient>=0.5.0 in /home/ayumi/.pyenv/versions/3.10.18/lib/python3.10/site-packages (from nbconvert->jupyter->granite-tsfm@ git+https://github.com/ibm-granite/granite-tsfm.git@v0.2.22->granite-tsfm[notebooks]@ git+https://github.com/ibm-granite/granite-tsfm.git@v0.2.22) (0.10.2)\r\n",
      "Requirement already satisfied: nbformat>=5.7 in /home/ayumi/.pyenv/versions/3.10.18/lib/python3.10/site-packages (from nbconvert->jupyter->granite-tsfm@ git+https://github.com/ibm-granite/granite-tsfm.git@v0.2.22->granite-tsfm[notebooks]@ git+https://github.com/ibm-granite/granite-tsfm.git@v0.2.22) (5.10.4)\r\n",
      "Requirement already satisfied: pandocfilters>=1.4.1 in /home/ayumi/.pyenv/versions/3.10.18/lib/python3.10/site-packages (from nbconvert->jupyter->granite-tsfm@ git+https://github.com/ibm-granite/granite-tsfm.git@v0.2.22->granite-tsfm[notebooks]@ git+https://github.com/ibm-granite/granite-tsfm.git@v0.2.22) (1.5.1)\r\n",
      "Requirement already satisfied: aiohappyeyeballs>=2.5.0 in /home/ayumi/.pyenv/versions/3.10.18/lib/python3.10/site-packages (from aiohttp!=4.0.0a0,!=4.0.0a1->fsspec[http]<=2025.3.0,>=2023.1.0->datasets->granite-tsfm@ git+https://github.com/ibm-granite/granite-tsfm.git@v0.2.22->granite-tsfm[notebooks]@ git+https://github.com/ibm-granite/granite-tsfm.git@v0.2.22) (2.6.1)\r\n",
      "Requirement already satisfied: aiosignal>=1.1.2 in /home/ayumi/.pyenv/versions/3.10.18/lib/python3.10/site-packages (from aiohttp!=4.0.0a0,!=4.0.0a1->fsspec[http]<=2025.3.0,>=2023.1.0->datasets->granite-tsfm@ git+https://github.com/ibm-granite/granite-tsfm.git@v0.2.22->granite-tsfm[notebooks]@ git+https://github.com/ibm-granite/granite-tsfm.git@v0.2.22) (1.3.2)\r\n",
      "Requirement already satisfied: async-timeout<6.0,>=4.0 in /home/ayumi/.pyenv/versions/3.10.18/lib/python3.10/site-packages (from aiohttp!=4.0.0a0,!=4.0.0a1->fsspec[http]<=2025.3.0,>=2023.1.0->datasets->granite-tsfm@ git+https://github.com/ibm-granite/granite-tsfm.git@v0.2.22->granite-tsfm[notebooks]@ git+https://github.com/ibm-granite/granite-tsfm.git@v0.2.22) (5.0.1)\r\n",
      "Requirement already satisfied: attrs>=17.3.0 in /home/ayumi/.pyenv/versions/3.10.18/lib/python3.10/site-packages (from aiohttp!=4.0.0a0,!=4.0.0a1->fsspec[http]<=2025.3.0,>=2023.1.0->datasets->granite-tsfm@ git+https://github.com/ibm-granite/granite-tsfm.git@v0.2.22->granite-tsfm[notebooks]@ git+https://github.com/ibm-granite/granite-tsfm.git@v0.2.22) (25.3.0)\r\n",
      "Requirement already satisfied: frozenlist>=1.1.1 in /home/ayumi/.pyenv/versions/3.10.18/lib/python3.10/site-packages (from aiohttp!=4.0.0a0,!=4.0.0a1->fsspec[http]<=2025.3.0,>=2023.1.0->datasets->granite-tsfm@ git+https://github.com/ibm-granite/granite-tsfm.git@v0.2.22->granite-tsfm[notebooks]@ git+https://github.com/ibm-granite/granite-tsfm.git@v0.2.22) (1.7.0)\r\n",
      "Requirement already satisfied: multidict<7.0,>=4.5 in /home/ayumi/.pyenv/versions/3.10.18/lib/python3.10/site-packages (from aiohttp!=4.0.0a0,!=4.0.0a1->fsspec[http]<=2025.3.0,>=2023.1.0->datasets->granite-tsfm@ git+https://github.com/ibm-granite/granite-tsfm.git@v0.2.22->granite-tsfm[notebooks]@ git+https://github.com/ibm-granite/granite-tsfm.git@v0.2.22) (6.4.4)\r\n",
      "Requirement already satisfied: propcache>=0.2.0 in /home/ayumi/.pyenv/versions/3.10.18/lib/python3.10/site-packages (from aiohttp!=4.0.0a0,!=4.0.0a1->fsspec[http]<=2025.3.0,>=2023.1.0->datasets->granite-tsfm@ git+https://github.com/ibm-granite/granite-tsfm.git@v0.2.22->granite-tsfm[notebooks]@ git+https://github.com/ibm-granite/granite-tsfm.git@v0.2.22) (0.3.2)\r\n",
      "Requirement already satisfied: yarl<2.0,>=1.17.0 in /home/ayumi/.pyenv/versions/3.10.18/lib/python3.10/site-packages (from aiohttp!=4.0.0a0,!=4.0.0a1->fsspec[http]<=2025.3.0,>=2023.1.0->datasets->granite-tsfm@ git+https://github.com/ibm-granite/granite-tsfm.git@v0.2.22->granite-tsfm[notebooks]@ git+https://github.com/ibm-granite/granite-tsfm.git@v0.2.22) (1.20.1)\r\n",
      "Requirement already satisfied: webencodings in /home/ayumi/.pyenv/versions/3.10.18/lib/python3.10/site-packages (from bleach!=5.0.0->bleach[css]!=5.0.0->nbconvert->jupyter->granite-tsfm@ git+https://github.com/ibm-granite/granite-tsfm.git@v0.2.22->granite-tsfm[notebooks]@ git+https://github.com/ibm-granite/granite-tsfm.git@v0.2.22) (0.5.1)\r\n",
      "Requirement already satisfied: tinycss2<1.5,>=1.1.0 in /home/ayumi/.pyenv/versions/3.10.18/lib/python3.10/site-packages (from bleach[css]!=5.0.0->nbconvert->jupyter->granite-tsfm@ git+https://github.com/ibm-granite/granite-tsfm.git@v0.2.22->granite-tsfm[notebooks]@ git+https://github.com/ibm-granite/granite-tsfm.git@v0.2.22) (1.4.0)\r\n",
      "Requirement already satisfied: anyio in /home/ayumi/.pyenv/versions/3.10.18/lib/python3.10/site-packages (from httpx>=0.25.0->jupyterlab->jupyter->granite-tsfm@ git+https://github.com/ibm-granite/granite-tsfm.git@v0.2.22->granite-tsfm[notebooks]@ git+https://github.com/ibm-granite/granite-tsfm.git@v0.2.22) (4.9.0)\r\n",
      "Requirement already satisfied: httpcore==1.* in /home/ayumi/.pyenv/versions/3.10.18/lib/python3.10/site-packages (from httpx>=0.25.0->jupyterlab->jupyter->granite-tsfm@ git+https://github.com/ibm-granite/granite-tsfm.git@v0.2.22->granite-tsfm[notebooks]@ git+https://github.com/ibm-granite/granite-tsfm.git@v0.2.22) (1.0.9)\r\n",
      "Requirement already satisfied: h11>=0.16 in /home/ayumi/.pyenv/versions/3.10.18/lib/python3.10/site-packages (from httpcore==1.*->httpx>=0.25.0->jupyterlab->jupyter->granite-tsfm@ git+https://github.com/ibm-granite/granite-tsfm.git@v0.2.22->granite-tsfm[notebooks]@ git+https://github.com/ibm-granite/granite-tsfm.git@v0.2.22) (0.16.0)\r\n",
      "Requirement already satisfied: parso<0.9.0,>=0.8.4 in /home/ayumi/.pyenv/versions/3.10.18/lib/python3.10/site-packages (from jedi>=0.16->ipython>=6.1.0->ipywidgets->granite-tsfm@ git+https://github.com/ibm-granite/granite-tsfm.git@v0.2.22->granite-tsfm[notebooks]@ git+https://github.com/ibm-granite/granite-tsfm.git@v0.2.22) (0.8.4)\r\n",
      "Requirement already satisfied: platformdirs>=2.5 in /home/ayumi/.pyenv/versions/3.10.18/lib/python3.10/site-packages (from jupyter-core!=5.0.*,>=4.12->ipykernel->jupyter->granite-tsfm@ git+https://github.com/ibm-granite/granite-tsfm.git@v0.2.22->granite-tsfm[notebooks]@ git+https://github.com/ibm-granite/granite-tsfm.git@v0.2.22) (4.3.8)\r\n",
      "Requirement already satisfied: argon2-cffi>=21.1 in /home/ayumi/.pyenv/versions/3.10.18/lib/python3.10/site-packages (from jupyter-server<3,>=2.4.0->jupyterlab->jupyter->granite-tsfm@ git+https://github.com/ibm-granite/granite-tsfm.git@v0.2.22->granite-tsfm[notebooks]@ git+https://github.com/ibm-granite/granite-tsfm.git@v0.2.22) (25.1.0)\r\n",
      "Requirement already satisfied: jupyter-events>=0.11.0 in /home/ayumi/.pyenv/versions/3.10.18/lib/python3.10/site-packages (from jupyter-server<3,>=2.4.0->jupyterlab->jupyter->granite-tsfm@ git+https://github.com/ibm-granite/granite-tsfm.git@v0.2.22->granite-tsfm[notebooks]@ git+https://github.com/ibm-granite/granite-tsfm.git@v0.2.22) (0.12.0)\r\n",
      "Requirement already satisfied: jupyter-server-terminals>=0.4.4 in /home/ayumi/.pyenv/versions/3.10.18/lib/python3.10/site-packages (from jupyter-server<3,>=2.4.0->jupyterlab->jupyter->granite-tsfm@ git+https://github.com/ibm-granite/granite-tsfm.git@v0.2.22->granite-tsfm[notebooks]@ git+https://github.com/ibm-granite/granite-tsfm.git@v0.2.22) (0.5.3)\r\n",
      "Requirement already satisfied: overrides>=5.0 in /home/ayumi/.pyenv/versions/3.10.18/lib/python3.10/site-packages (from jupyter-server<3,>=2.4.0->jupyterlab->jupyter->granite-tsfm@ git+https://github.com/ibm-granite/granite-tsfm.git@v0.2.22->granite-tsfm[notebooks]@ git+https://github.com/ibm-granite/granite-tsfm.git@v0.2.22) (7.7.0)\r\n",
      "Requirement already satisfied: prometheus-client>=0.9 in /home/ayumi/.pyenv/versions/3.10.18/lib/python3.10/site-packages (from jupyter-server<3,>=2.4.0->jupyterlab->jupyter->granite-tsfm@ git+https://github.com/ibm-granite/granite-tsfm.git@v0.2.22->granite-tsfm[notebooks]@ git+https://github.com/ibm-granite/granite-tsfm.git@v0.2.22) (0.22.1)\r\n",
      "Requirement already satisfied: send2trash>=1.8.2 in /home/ayumi/.pyenv/versions/3.10.18/lib/python3.10/site-packages (from jupyter-server<3,>=2.4.0->jupyterlab->jupyter->granite-tsfm@ git+https://github.com/ibm-granite/granite-tsfm.git@v0.2.22->granite-tsfm[notebooks]@ git+https://github.com/ibm-granite/granite-tsfm.git@v0.2.22) (1.8.3)\r\n",
      "Requirement already satisfied: terminado>=0.8.3 in /home/ayumi/.pyenv/versions/3.10.18/lib/python3.10/site-packages (from jupyter-server<3,>=2.4.0->jupyterlab->jupyter->granite-tsfm@ git+https://github.com/ibm-granite/granite-tsfm.git@v0.2.22->granite-tsfm[notebooks]@ git+https://github.com/ibm-granite/granite-tsfm.git@v0.2.22) (0.18.1)\r\n",
      "Requirement already satisfied: websocket-client>=1.7 in /home/ayumi/.pyenv/versions/3.10.18/lib/python3.10/site-packages (from jupyter-server<3,>=2.4.0->jupyterlab->jupyter->granite-tsfm@ git+https://github.com/ibm-granite/granite-tsfm.git@v0.2.22->granite-tsfm[notebooks]@ git+https://github.com/ibm-granite/granite-tsfm.git@v0.2.22) (1.8.0)\r\n",
      "Requirement already satisfied: babel>=2.10 in /home/ayumi/.pyenv/versions/3.10.18/lib/python3.10/site-packages (from jupyterlab-server<3,>=2.27.1->jupyterlab->jupyter->granite-tsfm@ git+https://github.com/ibm-granite/granite-tsfm.git@v0.2.22->granite-tsfm[notebooks]@ git+https://github.com/ibm-granite/granite-tsfm.git@v0.2.22) (2.17.0)\r\n",
      "Requirement already satisfied: json5>=0.9.0 in /home/ayumi/.pyenv/versions/3.10.18/lib/python3.10/site-packages (from jupyterlab-server<3,>=2.27.1->jupyterlab->jupyter->granite-tsfm@ git+https://github.com/ibm-granite/granite-tsfm.git@v0.2.22->granite-tsfm[notebooks]@ git+https://github.com/ibm-granite/granite-tsfm.git@v0.2.22) (0.12.0)\r\n",
      "Requirement already satisfied: jsonschema>=4.18.0 in /home/ayumi/.pyenv/versions/3.10.18/lib/python3.10/site-packages (from jupyterlab-server<3,>=2.27.1->jupyterlab->jupyter->granite-tsfm@ git+https://github.com/ibm-granite/granite-tsfm.git@v0.2.22->granite-tsfm[notebooks]@ git+https://github.com/ibm-granite/granite-tsfm.git@v0.2.22) (4.24.0)\r\n",
      "Requirement already satisfied: fastjsonschema>=2.15 in /home/ayumi/.pyenv/versions/3.10.18/lib/python3.10/site-packages (from nbformat>=5.7->nbconvert->jupyter->granite-tsfm@ git+https://github.com/ibm-granite/granite-tsfm.git@v0.2.22->granite-tsfm[notebooks]@ git+https://github.com/ibm-granite/granite-tsfm.git@v0.2.22) (2.21.1)\r\n",
      "Requirement already satisfied: ptyprocess>=0.5 in /home/ayumi/.pyenv/versions/3.10.18/lib/python3.10/site-packages (from pexpect>4.3->ipython>=6.1.0->ipywidgets->granite-tsfm@ git+https://github.com/ibm-granite/granite-tsfm.git@v0.2.22->granite-tsfm[notebooks]@ git+https://github.com/ibm-granite/granite-tsfm.git@v0.2.22) (0.7.0)\r\n",
      "Requirement already satisfied: wcwidth in /home/ayumi/.pyenv/versions/3.10.18/lib/python3.10/site-packages (from prompt_toolkit<3.1.0,>=3.0.41->ipython>=6.1.0->ipywidgets->granite-tsfm@ git+https://github.com/ibm-granite/granite-tsfm.git@v0.2.22->granite-tsfm[notebooks]@ git+https://github.com/ibm-granite/granite-tsfm.git@v0.2.22) (0.2.13)\r\n",
      "Requirement already satisfied: soupsieve>1.2 in /home/ayumi/.pyenv/versions/3.10.18/lib/python3.10/site-packages (from beautifulsoup4->nbconvert->jupyter->granite-tsfm@ git+https://github.com/ibm-granite/granite-tsfm.git@v0.2.22->granite-tsfm[notebooks]@ git+https://github.com/ibm-granite/granite-tsfm.git@v0.2.22) (2.7)\r\n",
      "Requirement already satisfied: executing>=1.2.0 in /home/ayumi/.pyenv/versions/3.10.18/lib/python3.10/site-packages (from stack_data->ipython>=6.1.0->ipywidgets->granite-tsfm@ git+https://github.com/ibm-granite/granite-tsfm.git@v0.2.22->granite-tsfm[notebooks]@ git+https://github.com/ibm-granite/granite-tsfm.git@v0.2.22) (2.2.0)\r\n",
      "Requirement already satisfied: asttokens>=2.1.0 in /home/ayumi/.pyenv/versions/3.10.18/lib/python3.10/site-packages (from stack_data->ipython>=6.1.0->ipywidgets->granite-tsfm@ git+https://github.com/ibm-granite/granite-tsfm.git@v0.2.22->granite-tsfm[notebooks]@ git+https://github.com/ibm-granite/granite-tsfm.git@v0.2.22) (3.0.0)\r\n",
      "Requirement already satisfied: pure-eval in /home/ayumi/.pyenv/versions/3.10.18/lib/python3.10/site-packages (from stack_data->ipython>=6.1.0->ipywidgets->granite-tsfm@ git+https://github.com/ibm-granite/granite-tsfm.git@v0.2.22->granite-tsfm[notebooks]@ git+https://github.com/ibm-granite/granite-tsfm.git@v0.2.22) (0.2.3)\r\n",
      "Requirement already satisfied: mpmath<1.4,>=1.1.0 in /home/ayumi/.pyenv/versions/3.10.18/lib/python3.10/site-packages (from sympy->torch->transformers[torch]>=4.38.0->granite-tsfm@ git+https://github.com/ibm-granite/granite-tsfm.git@v0.2.22->granite-tsfm[notebooks]@ git+https://github.com/ibm-granite/granite-tsfm.git@v0.2.22) (1.3.0)\r\n",
      "Requirement already satisfied: sniffio>=1.1 in /home/ayumi/.pyenv/versions/3.10.18/lib/python3.10/site-packages (from anyio->httpx>=0.25.0->jupyterlab->jupyter->granite-tsfm@ git+https://github.com/ibm-granite/granite-tsfm.git@v0.2.22->granite-tsfm[notebooks]@ git+https://github.com/ibm-granite/granite-tsfm.git@v0.2.22) (1.3.1)\r\n",
      "Requirement already satisfied: argon2-cffi-bindings in /home/ayumi/.pyenv/versions/3.10.18/lib/python3.10/site-packages (from argon2-cffi>=21.1->jupyter-server<3,>=2.4.0->jupyterlab->jupyter->granite-tsfm@ git+https://github.com/ibm-granite/granite-tsfm.git@v0.2.22->granite-tsfm[notebooks]@ git+https://github.com/ibm-granite/granite-tsfm.git@v0.2.22) (21.2.0)\r\n",
      "Requirement already satisfied: jsonschema-specifications>=2023.03.6 in /home/ayumi/.pyenv/versions/3.10.18/lib/python3.10/site-packages (from jsonschema>=4.18.0->jupyterlab-server<3,>=2.27.1->jupyterlab->jupyter->granite-tsfm@ git+https://github.com/ibm-granite/granite-tsfm.git@v0.2.22->granite-tsfm[notebooks]@ git+https://github.com/ibm-granite/granite-tsfm.git@v0.2.22) (2025.4.1)\r\n",
      "Requirement already satisfied: referencing>=0.28.4 in /home/ayumi/.pyenv/versions/3.10.18/lib/python3.10/site-packages (from jsonschema>=4.18.0->jupyterlab-server<3,>=2.27.1->jupyterlab->jupyter->granite-tsfm@ git+https://github.com/ibm-granite/granite-tsfm.git@v0.2.22->granite-tsfm[notebooks]@ git+https://github.com/ibm-granite/granite-tsfm.git@v0.2.22) (0.36.2)\r\n",
      "Requirement already satisfied: rpds-py>=0.7.1 in /home/ayumi/.pyenv/versions/3.10.18/lib/python3.10/site-packages (from jsonschema>=4.18.0->jupyterlab-server<3,>=2.27.1->jupyterlab->jupyter->granite-tsfm@ git+https://github.com/ibm-granite/granite-tsfm.git@v0.2.22->granite-tsfm[notebooks]@ git+https://github.com/ibm-granite/granite-tsfm.git@v0.2.22) (0.25.1)\r\n",
      "Requirement already satisfied: python-json-logger>=2.0.4 in /home/ayumi/.pyenv/versions/3.10.18/lib/python3.10/site-packages (from jupyter-events>=0.11.0->jupyter-server<3,>=2.4.0->jupyterlab->jupyter->granite-tsfm@ git+https://github.com/ibm-granite/granite-tsfm.git@v0.2.22->granite-tsfm[notebooks]@ git+https://github.com/ibm-granite/granite-tsfm.git@v0.2.22) (3.3.0)\r\n",
      "Requirement already satisfied: rfc3339-validator in /home/ayumi/.pyenv/versions/3.10.18/lib/python3.10/site-packages (from jupyter-events>=0.11.0->jupyter-server<3,>=2.4.0->jupyterlab->jupyter->granite-tsfm@ git+https://github.com/ibm-granite/granite-tsfm.git@v0.2.22->granite-tsfm[notebooks]@ git+https://github.com/ibm-granite/granite-tsfm.git@v0.2.22) (0.1.4)\r\n",
      "Requirement already satisfied: rfc3986-validator>=0.1.1 in /home/ayumi/.pyenv/versions/3.10.18/lib/python3.10/site-packages (from jupyter-events>=0.11.0->jupyter-server<3,>=2.4.0->jupyterlab->jupyter->granite-tsfm@ git+https://github.com/ibm-granite/granite-tsfm.git@v0.2.22->granite-tsfm[notebooks]@ git+https://github.com/ibm-granite/granite-tsfm.git@v0.2.22) (0.1.1)\r\n",
      "Requirement already satisfied: fqdn in /home/ayumi/.pyenv/versions/3.10.18/lib/python3.10/site-packages (from jsonschema[format-nongpl]>=4.18.0->jupyter-events>=0.11.0->jupyter-server<3,>=2.4.0->jupyterlab->jupyter->granite-tsfm@ git+https://github.com/ibm-granite/granite-tsfm.git@v0.2.22->granite-tsfm[notebooks]@ git+https://github.com/ibm-granite/granite-tsfm.git@v0.2.22) (1.5.1)\r\n",
      "Requirement already satisfied: isoduration in /home/ayumi/.pyenv/versions/3.10.18/lib/python3.10/site-packages (from jsonschema[format-nongpl]>=4.18.0->jupyter-events>=0.11.0->jupyter-server<3,>=2.4.0->jupyterlab->jupyter->granite-tsfm@ git+https://github.com/ibm-granite/granite-tsfm.git@v0.2.22->granite-tsfm[notebooks]@ git+https://github.com/ibm-granite/granite-tsfm.git@v0.2.22) (20.11.0)\r\n",
      "Requirement already satisfied: jsonpointer>1.13 in /home/ayumi/.pyenv/versions/3.10.18/lib/python3.10/site-packages (from jsonschema[format-nongpl]>=4.18.0->jupyter-events>=0.11.0->jupyter-server<3,>=2.4.0->jupyterlab->jupyter->granite-tsfm@ git+https://github.com/ibm-granite/granite-tsfm.git@v0.2.22->granite-tsfm[notebooks]@ git+https://github.com/ibm-granite/granite-tsfm.git@v0.2.22) (3.0.0)\r\n",
      "Requirement already satisfied: uri-template in /home/ayumi/.pyenv/versions/3.10.18/lib/python3.10/site-packages (from jsonschema[format-nongpl]>=4.18.0->jupyter-events>=0.11.0->jupyter-server<3,>=2.4.0->jupyterlab->jupyter->granite-tsfm@ git+https://github.com/ibm-granite/granite-tsfm.git@v0.2.22->granite-tsfm[notebooks]@ git+https://github.com/ibm-granite/granite-tsfm.git@v0.2.22) (1.3.0)\r\n",
      "Requirement already satisfied: webcolors>=24.6.0 in /home/ayumi/.pyenv/versions/3.10.18/lib/python3.10/site-packages (from jsonschema[format-nongpl]>=4.18.0->jupyter-events>=0.11.0->jupyter-server<3,>=2.4.0->jupyterlab->jupyter->granite-tsfm@ git+https://github.com/ibm-granite/granite-tsfm.git@v0.2.22->granite-tsfm[notebooks]@ git+https://github.com/ibm-granite/granite-tsfm.git@v0.2.22) (24.11.1)\r\n",
      "Requirement already satisfied: cffi>=1.0.1 in /home/ayumi/.pyenv/versions/3.10.18/lib/python3.10/site-packages (from argon2-cffi-bindings->argon2-cffi>=21.1->jupyter-server<3,>=2.4.0->jupyterlab->jupyter->granite-tsfm@ git+https://github.com/ibm-granite/granite-tsfm.git@v0.2.22->granite-tsfm[notebooks]@ git+https://github.com/ibm-granite/granite-tsfm.git@v0.2.22) (1.17.1)\r\n",
      "Requirement already satisfied: pycparser in /home/ayumi/.pyenv/versions/3.10.18/lib/python3.10/site-packages (from cffi>=1.0.1->argon2-cffi-bindings->argon2-cffi>=21.1->jupyter-server<3,>=2.4.0->jupyterlab->jupyter->granite-tsfm@ git+https://github.com/ibm-granite/granite-tsfm.git@v0.2.22->granite-tsfm[notebooks]@ git+https://github.com/ibm-granite/granite-tsfm.git@v0.2.22) (2.22)\r\n",
      "Requirement already satisfied: arrow>=0.15.0 in /home/ayumi/.pyenv/versions/3.10.18/lib/python3.10/site-packages (from isoduration->jsonschema[format-nongpl]>=4.18.0->jupyter-events>=0.11.0->jupyter-server<3,>=2.4.0->jupyterlab->jupyter->granite-tsfm@ git+https://github.com/ibm-granite/granite-tsfm.git@v0.2.22->granite-tsfm[notebooks]@ git+https://github.com/ibm-granite/granite-tsfm.git@v0.2.22) (1.3.0)\r\n",
      "Requirement already satisfied: types-python-dateutil>=2.8.10 in /home/ayumi/.pyenv/versions/3.10.18/lib/python3.10/site-packages (from arrow>=0.15.0->isoduration->jsonschema[format-nongpl]>=4.18.0->jupyter-events>=0.11.0->jupyter-server<3,>=2.4.0->jupyterlab->jupyter->granite-tsfm@ git+https://github.com/ibm-granite/granite-tsfm.git@v0.2.22->granite-tsfm[notebooks]@ git+https://github.com/ibm-granite/granite-tsfm.git@v0.2.22) (2.9.0.20250516)\r\n",
      "\r\n",
      "\u001B[1m[\u001B[0m\u001B[34;49mnotice\u001B[0m\u001B[1;39;49m]\u001B[0m\u001B[39;49m A new release of pip is available: \u001B[0m\u001B[31;49m24.3.1\u001B[0m\u001B[39;49m -> \u001B[0m\u001B[32;49m25.1.1\u001B[0m\r\n",
      "\u001B[1m[\u001B[0m\u001B[34;49mnotice\u001B[0m\u001B[1;39;49m]\u001B[0m\u001B[39;49m To update, run: \u001B[0m\u001B[32;49mpip install --upgrade pip\u001B[0m\r\n"
     ]
    }
   ],
   "execution_count": 4
  },
  {
   "metadata": {
    "collapsed": true,
    "ExecuteTime": {
     "end_time": "2025-06-23T07:04:17.819505Z",
     "start_time": "2025-06-23T06:50:44.847897Z"
    }
   },
   "cell_type": "code",
   "source": [
    "import pandas as pd\n",
    "import numpy as np\n",
    "from TSB_AD.model_wrapper import run_Unsupervise_AD\n",
    "from TSB_AD.evaluation.metrics import get_metrics\n",
    "\n",
    "# Specify Anomaly Detector to use and data directory\n",
    "AD_Name = 'TTM_ZS'   # It can be replaced with any anomaly detector available in TSB-AD\n",
    "data_direc = 'Datasets/TSB-AD-M/115_PSM_id_1_Facility_tr_50000_1st_129872.csv'\n",
    "\n",
    "# Loading DataIForest\n",
    "df = pd.read_csv(data_direc).iloc[120001:140000].dropna() \n",
    "data = df.iloc[:, 0:-1].values.astype(float)\n",
    "label = df['Label'].astype(int).to_numpy()\n",
    "\n",
    "# Applying Anomaly Detector\n",
    "output = run_Unsupervise_AD(AD_Name, data)\n",
    "\n",
    "# Choosing anomaly score \n",
    "#score_type = \"timestamp\" #\"timestamp\", \"feature\", \"time-feature\"\n",
    "\n",
    "#if score_type == \"timestamp\":\n",
    "#    score = output.decision_function(data)\n",
    "#elif score_type == \"feature\":\n",
    "#    score = output.feature_importance().mean(axis=1)\n",
    "#elif score_type == \"time-feature\":\n",
    "#    score = output.time_feature().mean(axis=(1, 2))\n",
    "#else:\n",
    "#    raise ValueError(\"Invalid score_type. Choose 'timestamp', 'feature', or 'time-feature'.\")\n",
    "\n",
    "#Evaluation\n",
    "evaluation_result = get_metrics(output, label)"
   ],
   "id": "initial_id",
   "outputs": [
    {
     "name": "stderr",
     "output_type": "stream",
     "text": [
      "INFO:p-3479:t-8613240576:get_model.py:get_model:Loading model from: ibm-granite/granite-timeseries-ttm-r2\n"
     ]
    },
    {
     "name": "stdout",
     "output_type": "stream",
     "text": [
      "[Zero] Reconstructing DataFrame\n",
      "[Zero] Initializing preprocessor\n",
      "[Zero] Loading model\n"
     ]
    },
    {
     "name": "stderr",
     "output_type": "stream",
     "text": [
      "/Users/ayumikatsuya/Documents/TSB-AD/.venv/lib/python3.10/site-packages/huggingface_hub/file_download.py:943: FutureWarning: `resume_download` is deprecated and will be removed in version 1.0.0. Downloads always resume when possible. If you want to force a new download, use `force_download=True`.\n",
      "  warnings.warn(\n",
      "INFO:p-3479:t-8613240576:get_model.py:get_model:Model loaded successfully from ibm-granite/granite-timeseries-ttm-r2, revision = main.\n",
      "INFO:p-3479:t-8613240576:get_model.py:get_model:[TTM] context_length = 512, prediction_length = 96\n"
     ]
    },
    {
     "name": "stdout",
     "output_type": "stream",
     "text": [
      "[Zero] Creating datasets\n",
      "[Zero] Training\n"
     ]
    },
    {
     "name": "stderr",
     "output_type": "stream",
     "text": [
      "/Users/ayumikatsuya/Documents/TSB-AD/.venv/lib/python3.10/site-packages/accelerate/accelerator.py:457: FutureWarning: Passing the following arguments to `Accelerator` is deprecated and will be removed in version 1.0 of Accelerate: dict_keys(['dispatch_batches', 'split_batches', 'even_batches', 'use_seedable_sampler']). Please pass an `accelerate.DataLoaderConfiguration` instead: \n",
      "dataloader_config = DataLoaderConfiguration(dispatch_batches=None, split_batches=False, even_batches=True, use_seedable_sampler=True)\n",
      "  warnings.warn(\n"
     ]
    },
    {
     "name": "stdout",
     "output_type": "stream",
     "text": [
      "++++++++++++++++++++ Test MSE zero-shot ++++++++++++++++++++\n"
     ]
    },
    {
     "data": {
      "text/plain": [
       "<IPython.core.display.HTML object>"
      ],
      "text/html": []
     },
     "metadata": {},
     "output_type": "display_data"
    },
    {
     "name": "stdout",
     "output_type": "stream",
     "text": [
      "{'eval_loss': 0.24712394177913666, 'eval_runtime': 29.0809, 'eval_samples_per_second': 65.507, 'eval_steps_per_second': 65.507}\n",
      "++++++++++++++++++++++++++++++++++++++++++++++++++++++++++++\n",
      "[Zero] Predicting\n",
      "[Zero] Extracting targets\n",
      "[Zero] Calculating mean squared error\n",
      "[Zero] Padding complete\n"
     ]
    }
   ],
   "execution_count": 1
  },
  {
   "metadata": {
    "ExecuteTime": {
     "end_time": "2025-06-23T07:04:38.034894Z",
     "start_time": "2025-06-23T07:04:38.030753Z"
    }
   },
   "cell_type": "code",
   "source": "print(evaluation_result)",
   "id": "4a4cf15b5e969958",
   "outputs": [
    {
     "name": "stdout",
     "output_type": "stream",
     "text": [
      "{'AUC-PR': 0.05865293264663233, 'AUC-ROC': 0.4332837565069585, 'VUS-PR': np.float64(0.08075563842024386), 'VUS-ROC': np.float64(0.4398316586694003), 'Standard-F1': np.float64(0.11080567919762975), 'PA-F1': 0.0, 'Event-based-F1': np.float64(0.0), 'R-based-F1': 0, 'Affiliation-F': 0.032788598390654976}\n"
     ]
    }
   ],
   "execution_count": 2
  },
  {
   "metadata": {
    "ExecuteTime": {
     "end_time": "2025-06-23T05:58:34.804302Z",
     "start_time": "2025-06-23T05:44:36.088604Z"
    }
   },
   "cell_type": "code",
   "source": [
    "import pandas as pd\n",
    "from TSB_AD.model_wrapper import run_Semisupervise_AD\n",
    "from TSB_AD.evaluation.metrics import get_metrics\n",
    "\n",
    "# Specify Anomaly Detector to use and data directory\n",
    "AD_Name ='TTM_FT'\n",
    "data_direc = 'Datasets/TSB-AD-M/115_PSM_id_1_Facility_tr_50000_1st_129872.csv'\n",
    "\n",
    "# Load data\n",
    "df = pd.read_csv(data_direc).iloc[120001:140000].dropna() \n",
    "data = df.iloc[:, 0:-1].values.astype(float)\n",
    "label = df['Label'].astype(int).to_numpy()\n",
    "\n",
    "# Split into few-shot (train) and test sets\n",
    "fewshot_percent = 10\n",
    "n_fewshot = int(len(data) * fewshot_percent / 100)\n",
    "data_train = data[:n_fewshot]\n",
    "label_train = label[:n_fewshot]\n",
    "data_test = data[n_fewshot:]\n",
    "label_test = label[n_fewshot:]\n",
    "\n",
    "# Apply Semi-Supervised Anomaly Detector\n",
    "output = run_Semisupervise_AD(\n",
    "    AD_Name,\n",
    "    data_train,\n",
    "    data_test\n",
    ")\n",
    "\n",
    "# Evaluation on test set\n",
    "evaluation_result = get_metrics(output, label_test)\n",
    "print(evaluation_result)"
   ],
   "id": "abdf81ede8078513",
   "outputs": [
    {
     "name": "stderr",
     "output_type": "stream",
     "text": [
      "INFO:p-2545:t-8613240576:get_model.py:get_model:Loading model from: ibm-granite/granite-timeseries-ttm-r2\n"
     ]
    },
    {
     "name": "stdout",
     "output_type": "stream",
     "text": [
      "[TTM] Reconstructing DataFrame\n",
      "[TTM] Initializing preprocessor\n",
      "[TTM] Loading model\n"
     ]
    },
    {
     "name": "stderr",
     "output_type": "stream",
     "text": [
      "/Users/ayumikatsuya/Documents/TSB-AD/.venv/lib/python3.10/site-packages/huggingface_hub/file_download.py:943: FutureWarning: `resume_download` is deprecated and will be removed in version 1.0.0. Downloads always resume when possible. If you want to force a new download, use `force_download=True`.\n",
      "  warnings.warn(\n",
      "INFO:p-2545:t-8613240576:get_model.py:get_model:Model loaded successfully from ibm-granite/granite-timeseries-ttm-r2, revision = main.\n",
      "INFO:p-2545:t-8613240576:get_model.py:get_model:[TTM] context_length = 512, prediction_length = 96\n"
     ]
    },
    {
     "name": "stdout",
     "output_type": "stream",
     "text": [
      "[TTM] Creating datasets\n",
      "[TTM] Using provided learning rate: 0.001\n",
      "[TTM] Training\n"
     ]
    },
    {
     "name": "stderr",
     "output_type": "stream",
     "text": [
      "/Users/ayumikatsuya/Documents/TSB-AD/.venv/lib/python3.10/site-packages/accelerate/accelerator.py:457: FutureWarning: Passing the following arguments to `Accelerator` is deprecated and will be removed in version 1.0 of Accelerate: dict_keys(['dispatch_batches', 'split_batches', 'even_batches', 'use_seedable_sampler']). Please pass an `accelerate.DataLoaderConfiguration` instead: \n",
      "dataloader_config = DataLoaderConfiguration(dispatch_batches=None, split_batches=False, even_batches=True, use_seedable_sampler=True)\n",
      "  warnings.warn(\n",
      "INFO:p-2645:t-8613240576:config.py:<module>:PyTorch version 2.3.0 available.\n",
      "INFO:p-2647:t-8613240576:config.py:<module>:PyTorch version 2.3.0 available.\n",
      "INFO:p-2648:t-8613240576:config.py:<module>:PyTorch version 2.3.0 available.\n",
      "INFO:p-2651:t-8613240576:config.py:<module>:PyTorch version 2.3.0 available.\n",
      "INFO:p-2653:t-8613240576:config.py:<module>:PyTorch version 2.3.0 available.\n",
      "INFO:p-2654:t-8613240576:config.py:<module>:PyTorch version 2.3.0 available.\n",
      "INFO:p-2656:t-8613240576:config.py:<module>:PyTorch version 2.3.0 available.\n",
      "INFO:p-2659:t-8613240576:config.py:<module>:PyTorch version 2.3.0 available.\n"
     ]
    },
    {
     "data": {
      "text/plain": [
       "<IPython.core.display.HTML object>"
      ],
      "text/html": [
       "\n",
       "    <div>\n",
       "      \n",
       "      <progress value='1' max='1' style='width:300px; height:20px; vertical-align: middle;'></progress>\n",
       "      [1/1 00:59, Epoch 1/1]\n",
       "    </div>\n",
       "    <table border=\"1\" class=\"dataframe\">\n",
       "  <thead>\n",
       " <tr style=\"text-align: left;\">\n",
       "      <th>Epoch</th>\n",
       "      <th>Training Loss</th>\n",
       "      <th>Validation Loss</th>\n",
       "    </tr>\n",
       "  </thead>\n",
       "  <tbody>\n",
       "    <tr>\n",
       "      <td>1</td>\n",
       "      <td>0.423700</td>\n",
       "      <td>0.786385</td>\n",
       "    </tr>\n",
       "  </tbody>\n",
       "</table><p>"
      ]
     },
     "metadata": {},
     "output_type": "display_data"
    },
    {
     "name": "stderr",
     "output_type": "stream",
     "text": [
      "INFO:p-2666:t-8613240576:config.py:<module>:PyTorch version 2.3.0 available.\n",
      "INFO:p-2668:t-8613240576:config.py:<module>:PyTorch version 2.3.0 available.\n",
      "INFO:p-2670:t-8613240576:config.py:<module>:PyTorch version 2.3.0 available.\n",
      "INFO:p-2671:t-8613240576:config.py:<module>:PyTorch version 2.3.0 available.\n",
      "INFO:p-2673:t-8613240576:config.py:<module>:PyTorch version 2.3.0 available.\n",
      "INFO:p-2674:t-8613240576:config.py:<module>:PyTorch version 2.3.0 available.\n",
      "INFO:p-2677:t-8613240576:config.py:<module>:PyTorch version 2.3.0 available.\n",
      "INFO:p-2678:t-8613240576:config.py:<module>:PyTorch version 2.3.0 available.\n"
     ]
    },
    {
     "name": "stdout",
     "output_type": "stream",
     "text": [
      "[TrackingCallback] Mean Epoch Time = 23.33096694946289 seconds, Total Train Time = 82.56980299949646\n",
      "++++++++++++++++++++ Test loss after fine-tuning ++++++++++++++++++++\n"
     ]
    },
    {
     "name": "stderr",
     "output_type": "stream",
     "text": [
      "INFO:p-2698:t-8613240576:config.py:<module>:PyTorch version 2.3.0 available.\n",
      "INFO:p-2699:t-8613240576:config.py:<module>:PyTorch version 2.3.0 available.\n",
      "INFO:p-2701:t-8613240576:config.py:<module>:PyTorch version 2.3.0 available.\n",
      "INFO:p-2702:t-8613240576:config.py:<module>:PyTorch version 2.3.0 available.\n",
      "INFO:p-2703:t-8613240576:config.py:<module>:PyTorch version 2.3.0 available.\n",
      "INFO:p-2704:t-8613240576:config.py:<module>:PyTorch version 2.3.0 available.\n",
      "INFO:p-2705:t-8613240576:config.py:<module>:PyTorch version 2.3.0 available.\n",
      "INFO:p-2706:t-8613240576:config.py:<module>:PyTorch version 2.3.0 available.\n"
     ]
    },
    {
     "data": {
      "text/plain": [
       "<IPython.core.display.HTML object>"
      ],
      "text/html": []
     },
     "metadata": {},
     "output_type": "display_data"
    },
    {
     "name": "stdout",
     "output_type": "stream",
     "text": [
      "{'eval_loss': 0.5132123231887817, 'eval_runtime': 56.219, 'eval_samples_per_second': 1.868, 'eval_steps_per_second': 1.868, 'epoch': 1.0}\n",
      "++++++++++++++++++++++++++++++++++++++++++++++++++++++++++++\n",
      "[TTM] Predicting\n"
     ]
    },
    {
     "name": "stderr",
     "output_type": "stream",
     "text": [
      "INFO:p-2720:t-8613240576:config.py:<module>:PyTorch version 2.3.0 available.\n",
      "INFO:p-2721:t-8613240576:config.py:<module>:PyTorch version 2.3.0 available.\n",
      "INFO:p-2722:t-8613240576:config.py:<module>:PyTorch version 2.3.0 available.\n",
      "INFO:p-2724:t-8613240576:config.py:<module>:PyTorch version 2.3.0 available.\n",
      "INFO:p-2726:t-8613240576:config.py:<module>:PyTorch version 2.3.0 available.\n",
      "INFO:p-2727:t-8613240576:config.py:<module>:PyTorch version 2.3.0 available.\n",
      "INFO:p-2728:t-8613240576:config.py:<module>:PyTorch version 2.3.0 available.\n",
      "INFO:p-2729:t-8613240576:config.py:<module>:PyTorch version 2.3.0 available.\n"
     ]
    },
    {
     "name": "stdout",
     "output_type": "stream",
     "text": [
      "[TTM] Extracting targets\n",
      "[TTM] Calculating mean squared error\n",
      "[TTM] timestamp scores\n",
      "[TTM] feature scores\n",
      "[TTM] time-feature scores\n",
      "[TTM] Padding complete\n"
     ]
    },
    {
     "ename": "ValueError",
     "evalue": "Found input variables with inconsistent numbers of samples: [18000, 1999]",
     "output_type": "error",
     "traceback": [
      "\u001B[0;31m---------------------------------------------------------------------------\u001B[0m",
      "\u001B[0;31mValueError\u001B[0m                                Traceback (most recent call last)",
      "Cell \u001B[0;32mIn[1], line 30\u001B[0m\n\u001B[1;32m     23\u001B[0m output \u001B[38;5;241m=\u001B[39m run_Semisupervise_AD(\n\u001B[1;32m     24\u001B[0m     AD_Name,\n\u001B[1;32m     25\u001B[0m     data_train,\n\u001B[1;32m     26\u001B[0m     data_test\n\u001B[1;32m     27\u001B[0m )\n\u001B[1;32m     29\u001B[0m \u001B[38;5;66;03m# Evaluation on test set\u001B[39;00m\n\u001B[0;32m---> 30\u001B[0m evaluation_result \u001B[38;5;241m=\u001B[39m \u001B[43mget_metrics\u001B[49m\u001B[43m(\u001B[49m\u001B[43moutput\u001B[49m\u001B[43m,\u001B[49m\u001B[43m \u001B[49m\u001B[43mlabel_test\u001B[49m\u001B[43m)\u001B[49m\n\u001B[1;32m     31\u001B[0m \u001B[38;5;28mprint\u001B[39m(evaluation_result)\n",
      "File \u001B[0;32m~/Documents/TSB-AD/TSB_AD/evaluation/metrics.py:11\u001B[0m, in \u001B[0;36mget_metrics\u001B[0;34m(score, labels, slidingWindow, pred, version, thre)\u001B[0m\n\u001B[1;32m      9\u001B[0m grader \u001B[38;5;241m=\u001B[39m basic_metricor()\n\u001B[1;32m     10\u001B[0m \u001B[38;5;66;03m# AUC_ROC, Precision, Recall, PointF1, PointF1PA, Rrecall, ExistenceReward, OverlapReward, Rprecision, RF, Precision_at_k = grader.metric_new(labels, score, pred, plot_ROC=False)\u001B[39;00m\n\u001B[0;32m---> 11\u001B[0m AUC_ROC \u001B[38;5;241m=\u001B[39m \u001B[43mgrader\u001B[49m\u001B[38;5;241;43m.\u001B[39;49m\u001B[43mmetric_ROC\u001B[49m\u001B[43m(\u001B[49m\u001B[43mlabels\u001B[49m\u001B[43m,\u001B[49m\u001B[43m \u001B[49m\u001B[43mscore\u001B[49m\u001B[43m)\u001B[49m\n\u001B[1;32m     12\u001B[0m AUC_PR \u001B[38;5;241m=\u001B[39m grader\u001B[38;5;241m.\u001B[39mmetric_PR(labels, score)\n\u001B[1;32m     14\u001B[0m \u001B[38;5;66;03m# R_AUC_ROC, R_AUC_PR, _, _, _ = grader.RangeAUC(labels=labels, score=score, window=slidingWindow, plot_ROC=True)\u001B[39;00m\n",
      "File \u001B[0;32m~/Documents/TSB-AD/TSB_AD/evaluation/basic_metrics.py:211\u001B[0m, in \u001B[0;36mbasic_metricor.metric_ROC\u001B[0;34m(self, label, score)\u001B[0m\n\u001B[1;32m    210\u001B[0m \u001B[38;5;28;01mdef\u001B[39;00m\u001B[38;5;250m \u001B[39m\u001B[38;5;21mmetric_ROC\u001B[39m(\u001B[38;5;28mself\u001B[39m, label, score):\n\u001B[0;32m--> 211\u001B[0m     \u001B[38;5;28;01mreturn\u001B[39;00m \u001B[43mmetrics\u001B[49m\u001B[38;5;241;43m.\u001B[39;49m\u001B[43mroc_auc_score\u001B[49m\u001B[43m(\u001B[49m\u001B[43mlabel\u001B[49m\u001B[43m,\u001B[49m\u001B[43m \u001B[49m\u001B[43mscore\u001B[49m\u001B[43m)\u001B[49m\n",
      "File \u001B[0;32m~/Documents/TSB-AD/.venv/lib/python3.10/site-packages/sklearn/utils/_param_validation.py:218\u001B[0m, in \u001B[0;36mvalidate_params.<locals>.decorator.<locals>.wrapper\u001B[0;34m(*args, **kwargs)\u001B[0m\n\u001B[1;32m    212\u001B[0m \u001B[38;5;28;01mtry\u001B[39;00m:\n\u001B[1;32m    213\u001B[0m     \u001B[38;5;28;01mwith\u001B[39;00m config_context(\n\u001B[1;32m    214\u001B[0m         skip_parameter_validation\u001B[38;5;241m=\u001B[39m(\n\u001B[1;32m    215\u001B[0m             prefer_skip_nested_validation \u001B[38;5;129;01mor\u001B[39;00m global_skip_validation\n\u001B[1;32m    216\u001B[0m         )\n\u001B[1;32m    217\u001B[0m     ):\n\u001B[0;32m--> 218\u001B[0m         \u001B[38;5;28;01mreturn\u001B[39;00m \u001B[43mfunc\u001B[49m\u001B[43m(\u001B[49m\u001B[38;5;241;43m*\u001B[39;49m\u001B[43margs\u001B[49m\u001B[43m,\u001B[49m\u001B[43m \u001B[49m\u001B[38;5;241;43m*\u001B[39;49m\u001B[38;5;241;43m*\u001B[39;49m\u001B[43mkwargs\u001B[49m\u001B[43m)\u001B[49m\n\u001B[1;32m    219\u001B[0m \u001B[38;5;28;01mexcept\u001B[39;00m InvalidParameterError \u001B[38;5;28;01mas\u001B[39;00m e:\n\u001B[1;32m    220\u001B[0m     \u001B[38;5;66;03m# When the function is just a wrapper around an estimator, we allow\u001B[39;00m\n\u001B[1;32m    221\u001B[0m     \u001B[38;5;66;03m# the function to delegate validation to the estimator, but we replace\u001B[39;00m\n\u001B[1;32m    222\u001B[0m     \u001B[38;5;66;03m# the name of the estimator by the name of the function in the error\u001B[39;00m\n\u001B[1;32m    223\u001B[0m     \u001B[38;5;66;03m# message to avoid confusion.\u001B[39;00m\n\u001B[1;32m    224\u001B[0m     msg \u001B[38;5;241m=\u001B[39m re\u001B[38;5;241m.\u001B[39msub(\n\u001B[1;32m    225\u001B[0m         \u001B[38;5;124mr\u001B[39m\u001B[38;5;124m\"\u001B[39m\u001B[38;5;124mparameter of \u001B[39m\u001B[38;5;124m\\\u001B[39m\u001B[38;5;124mw+ must be\u001B[39m\u001B[38;5;124m\"\u001B[39m,\n\u001B[1;32m    226\u001B[0m         \u001B[38;5;124mf\u001B[39m\u001B[38;5;124m\"\u001B[39m\u001B[38;5;124mparameter of \u001B[39m\u001B[38;5;132;01m{\u001B[39;00mfunc\u001B[38;5;241m.\u001B[39m\u001B[38;5;18m__qualname__\u001B[39m\u001B[38;5;132;01m}\u001B[39;00m\u001B[38;5;124m must be\u001B[39m\u001B[38;5;124m\"\u001B[39m,\n\u001B[1;32m    227\u001B[0m         \u001B[38;5;28mstr\u001B[39m(e),\n\u001B[1;32m    228\u001B[0m     )\n",
      "File \u001B[0;32m~/Documents/TSB-AD/.venv/lib/python3.10/site-packages/sklearn/metrics/_ranking.py:686\u001B[0m, in \u001B[0;36mroc_auc_score\u001B[0;34m(y_true, y_score, average, sample_weight, max_fpr, multi_class, labels)\u001B[0m\n\u001B[1;32m    684\u001B[0m     labels \u001B[38;5;241m=\u001B[39m np\u001B[38;5;241m.\u001B[39munique(y_true)\n\u001B[1;32m    685\u001B[0m     y_true \u001B[38;5;241m=\u001B[39m label_binarize(y_true, classes\u001B[38;5;241m=\u001B[39mlabels)[:, \u001B[38;5;241m0\u001B[39m]\n\u001B[0;32m--> 686\u001B[0m     \u001B[38;5;28;01mreturn\u001B[39;00m \u001B[43m_average_binary_score\u001B[49m\u001B[43m(\u001B[49m\n\u001B[1;32m    687\u001B[0m \u001B[43m        \u001B[49m\u001B[43mpartial\u001B[49m\u001B[43m(\u001B[49m\u001B[43m_binary_roc_auc_score\u001B[49m\u001B[43m,\u001B[49m\u001B[43m \u001B[49m\u001B[43mmax_fpr\u001B[49m\u001B[38;5;241;43m=\u001B[39;49m\u001B[43mmax_fpr\u001B[49m\u001B[43m)\u001B[49m\u001B[43m,\u001B[49m\n\u001B[1;32m    688\u001B[0m \u001B[43m        \u001B[49m\u001B[43my_true\u001B[49m\u001B[43m,\u001B[49m\n\u001B[1;32m    689\u001B[0m \u001B[43m        \u001B[49m\u001B[43my_score\u001B[49m\u001B[43m,\u001B[49m\n\u001B[1;32m    690\u001B[0m \u001B[43m        \u001B[49m\u001B[43maverage\u001B[49m\u001B[43m,\u001B[49m\n\u001B[1;32m    691\u001B[0m \u001B[43m        \u001B[49m\u001B[43msample_weight\u001B[49m\u001B[38;5;241;43m=\u001B[39;49m\u001B[43msample_weight\u001B[49m\u001B[43m,\u001B[49m\n\u001B[1;32m    692\u001B[0m \u001B[43m    \u001B[49m\u001B[43m)\u001B[49m\n\u001B[1;32m    693\u001B[0m \u001B[38;5;28;01melse\u001B[39;00m:  \u001B[38;5;66;03m# multilabel-indicator\u001B[39;00m\n\u001B[1;32m    694\u001B[0m     \u001B[38;5;28;01mreturn\u001B[39;00m _average_binary_score(\n\u001B[1;32m    695\u001B[0m         partial(_binary_roc_auc_score, max_fpr\u001B[38;5;241m=\u001B[39mmax_fpr),\n\u001B[1;32m    696\u001B[0m         y_true,\n\u001B[0;32m   (...)\u001B[0m\n\u001B[1;32m    699\u001B[0m         sample_weight\u001B[38;5;241m=\u001B[39msample_weight,\n\u001B[1;32m    700\u001B[0m     )\n",
      "File \u001B[0;32m~/Documents/TSB-AD/.venv/lib/python3.10/site-packages/sklearn/metrics/_base.py:69\u001B[0m, in \u001B[0;36m_average_binary_score\u001B[0;34m(binary_metric, y_true, y_score, average, sample_weight)\u001B[0m\n\u001B[1;32m     66\u001B[0m     \u001B[38;5;28;01mraise\u001B[39;00m \u001B[38;5;167;01mValueError\u001B[39;00m(\u001B[38;5;124m\"\u001B[39m\u001B[38;5;132;01m{0}\u001B[39;00m\u001B[38;5;124m format is not supported\u001B[39m\u001B[38;5;124m\"\u001B[39m\u001B[38;5;241m.\u001B[39mformat(y_type))\n\u001B[1;32m     68\u001B[0m \u001B[38;5;28;01mif\u001B[39;00m y_type \u001B[38;5;241m==\u001B[39m \u001B[38;5;124m\"\u001B[39m\u001B[38;5;124mbinary\u001B[39m\u001B[38;5;124m\"\u001B[39m:\n\u001B[0;32m---> 69\u001B[0m     \u001B[38;5;28;01mreturn\u001B[39;00m \u001B[43mbinary_metric\u001B[49m\u001B[43m(\u001B[49m\u001B[43my_true\u001B[49m\u001B[43m,\u001B[49m\u001B[43m \u001B[49m\u001B[43my_score\u001B[49m\u001B[43m,\u001B[49m\u001B[43m \u001B[49m\u001B[43msample_weight\u001B[49m\u001B[38;5;241;43m=\u001B[39;49m\u001B[43msample_weight\u001B[49m\u001B[43m)\u001B[49m\n\u001B[1;32m     71\u001B[0m check_consistent_length(y_true, y_score, sample_weight)\n\u001B[1;32m     72\u001B[0m y_true \u001B[38;5;241m=\u001B[39m check_array(y_true)\n",
      "File \u001B[0;32m~/Documents/TSB-AD/.venv/lib/python3.10/site-packages/sklearn/metrics/_ranking.py:433\u001B[0m, in \u001B[0;36m_binary_roc_auc_score\u001B[0;34m(y_true, y_score, sample_weight, max_fpr)\u001B[0m\n\u001B[1;32m    424\u001B[0m     warnings\u001B[38;5;241m.\u001B[39mwarn(\n\u001B[1;32m    425\u001B[0m         (\n\u001B[1;32m    426\u001B[0m             \u001B[38;5;124m\"\u001B[39m\u001B[38;5;124mOnly one class is present in y_true. ROC AUC score \u001B[39m\u001B[38;5;124m\"\u001B[39m\n\u001B[0;32m   (...)\u001B[0m\n\u001B[1;32m    429\u001B[0m         UndefinedMetricWarning,\n\u001B[1;32m    430\u001B[0m     )\n\u001B[1;32m    431\u001B[0m     \u001B[38;5;28;01mreturn\u001B[39;00m np\u001B[38;5;241m.\u001B[39mnan\n\u001B[0;32m--> 433\u001B[0m fpr, tpr, _ \u001B[38;5;241m=\u001B[39m \u001B[43mroc_curve\u001B[49m\u001B[43m(\u001B[49m\u001B[43my_true\u001B[49m\u001B[43m,\u001B[49m\u001B[43m \u001B[49m\u001B[43my_score\u001B[49m\u001B[43m,\u001B[49m\u001B[43m \u001B[49m\u001B[43msample_weight\u001B[49m\u001B[38;5;241;43m=\u001B[39;49m\u001B[43msample_weight\u001B[49m\u001B[43m)\u001B[49m\n\u001B[1;32m    434\u001B[0m \u001B[38;5;28;01mif\u001B[39;00m max_fpr \u001B[38;5;129;01mis\u001B[39;00m \u001B[38;5;28;01mNone\u001B[39;00m \u001B[38;5;129;01mor\u001B[39;00m max_fpr \u001B[38;5;241m==\u001B[39m \u001B[38;5;241m1\u001B[39m:\n\u001B[1;32m    435\u001B[0m     \u001B[38;5;28;01mreturn\u001B[39;00m auc(fpr, tpr)\n",
      "File \u001B[0;32m~/Documents/TSB-AD/.venv/lib/python3.10/site-packages/sklearn/utils/_param_validation.py:191\u001B[0m, in \u001B[0;36mvalidate_params.<locals>.decorator.<locals>.wrapper\u001B[0;34m(*args, **kwargs)\u001B[0m\n\u001B[1;32m    189\u001B[0m global_skip_validation \u001B[38;5;241m=\u001B[39m get_config()[\u001B[38;5;124m\"\u001B[39m\u001B[38;5;124mskip_parameter_validation\u001B[39m\u001B[38;5;124m\"\u001B[39m]\n\u001B[1;32m    190\u001B[0m \u001B[38;5;28;01mif\u001B[39;00m global_skip_validation:\n\u001B[0;32m--> 191\u001B[0m     \u001B[38;5;28;01mreturn\u001B[39;00m \u001B[43mfunc\u001B[49m\u001B[43m(\u001B[49m\u001B[38;5;241;43m*\u001B[39;49m\u001B[43margs\u001B[49m\u001B[43m,\u001B[49m\u001B[43m \u001B[49m\u001B[38;5;241;43m*\u001B[39;49m\u001B[38;5;241;43m*\u001B[39;49m\u001B[43mkwargs\u001B[49m\u001B[43m)\u001B[49m\n\u001B[1;32m    193\u001B[0m func_sig \u001B[38;5;241m=\u001B[39m signature(func)\n\u001B[1;32m    195\u001B[0m \u001B[38;5;66;03m# Map *args/**kwargs to the function signature\u001B[39;00m\n",
      "File \u001B[0;32m~/Documents/TSB-AD/.venv/lib/python3.10/site-packages/sklearn/metrics/_ranking.py:1163\u001B[0m, in \u001B[0;36mroc_curve\u001B[0;34m(y_true, y_score, pos_label, sample_weight, drop_intermediate)\u001B[0m\n\u001B[1;32m   1059\u001B[0m \u001B[38;5;129m@validate_params\u001B[39m(\n\u001B[1;32m   1060\u001B[0m     {\n\u001B[1;32m   1061\u001B[0m         \u001B[38;5;124m\"\u001B[39m\u001B[38;5;124my_true\u001B[39m\u001B[38;5;124m\"\u001B[39m: [\u001B[38;5;124m\"\u001B[39m\u001B[38;5;124marray-like\u001B[39m\u001B[38;5;124m\"\u001B[39m],\n\u001B[0;32m   (...)\u001B[0m\n\u001B[1;32m   1070\u001B[0m     y_true, y_score, \u001B[38;5;241m*\u001B[39m, pos_label\u001B[38;5;241m=\u001B[39m\u001B[38;5;28;01mNone\u001B[39;00m, sample_weight\u001B[38;5;241m=\u001B[39m\u001B[38;5;28;01mNone\u001B[39;00m, drop_intermediate\u001B[38;5;241m=\u001B[39m\u001B[38;5;28;01mTrue\u001B[39;00m\n\u001B[1;32m   1071\u001B[0m ):\n\u001B[1;32m   1072\u001B[0m \u001B[38;5;250m    \u001B[39m\u001B[38;5;124;03m\"\"\"Compute Receiver operating characteristic (ROC).\u001B[39;00m\n\u001B[1;32m   1073\u001B[0m \n\u001B[1;32m   1074\u001B[0m \u001B[38;5;124;03m    Note: this implementation is restricted to the binary classification task.\u001B[39;00m\n\u001B[0;32m   (...)\u001B[0m\n\u001B[1;32m   1161\u001B[0m \u001B[38;5;124;03m    array([ inf, 0.8 , 0.4 , 0.35, 0.1 ])\u001B[39;00m\n\u001B[1;32m   1162\u001B[0m \u001B[38;5;124;03m    \"\"\"\u001B[39;00m\n\u001B[0;32m-> 1163\u001B[0m     fps, tps, thresholds \u001B[38;5;241m=\u001B[39m \u001B[43m_binary_clf_curve\u001B[49m\u001B[43m(\u001B[49m\n\u001B[1;32m   1164\u001B[0m \u001B[43m        \u001B[49m\u001B[43my_true\u001B[49m\u001B[43m,\u001B[49m\u001B[43m \u001B[49m\u001B[43my_score\u001B[49m\u001B[43m,\u001B[49m\u001B[43m \u001B[49m\u001B[43mpos_label\u001B[49m\u001B[38;5;241;43m=\u001B[39;49m\u001B[43mpos_label\u001B[49m\u001B[43m,\u001B[49m\u001B[43m \u001B[49m\u001B[43msample_weight\u001B[49m\u001B[38;5;241;43m=\u001B[39;49m\u001B[43msample_weight\u001B[49m\n\u001B[1;32m   1165\u001B[0m \u001B[43m    \u001B[49m\u001B[43m)\u001B[49m\n\u001B[1;32m   1167\u001B[0m     \u001B[38;5;66;03m# Attempt to drop thresholds corresponding to points in between and\u001B[39;00m\n\u001B[1;32m   1168\u001B[0m     \u001B[38;5;66;03m# collinear with other points. These are always suboptimal and do not\u001B[39;00m\n\u001B[1;32m   1169\u001B[0m     \u001B[38;5;66;03m# appear on a plotted ROC curve (and thus do not affect the AUC).\u001B[39;00m\n\u001B[0;32m   (...)\u001B[0m\n\u001B[1;32m   1174\u001B[0m     \u001B[38;5;66;03m# but does not drop more complicated cases like fps = [1, 3, 7],\u001B[39;00m\n\u001B[1;32m   1175\u001B[0m     \u001B[38;5;66;03m# tps = [1, 2, 4]; there is no harm in keeping too many thresholds.\u001B[39;00m\n\u001B[1;32m   1176\u001B[0m     \u001B[38;5;28;01mif\u001B[39;00m drop_intermediate \u001B[38;5;129;01mand\u001B[39;00m \u001B[38;5;28mlen\u001B[39m(fps) \u001B[38;5;241m>\u001B[39m \u001B[38;5;241m2\u001B[39m:\n",
      "File \u001B[0;32m~/Documents/TSB-AD/.venv/lib/python3.10/site-packages/sklearn/metrics/_ranking.py:865\u001B[0m, in \u001B[0;36m_binary_clf_curve\u001B[0;34m(y_true, y_score, pos_label, sample_weight)\u001B[0m\n\u001B[1;32m    862\u001B[0m \u001B[38;5;28;01mif\u001B[39;00m \u001B[38;5;129;01mnot\u001B[39;00m (y_type \u001B[38;5;241m==\u001B[39m \u001B[38;5;124m\"\u001B[39m\u001B[38;5;124mbinary\u001B[39m\u001B[38;5;124m\"\u001B[39m \u001B[38;5;129;01mor\u001B[39;00m (y_type \u001B[38;5;241m==\u001B[39m \u001B[38;5;124m\"\u001B[39m\u001B[38;5;124mmulticlass\u001B[39m\u001B[38;5;124m\"\u001B[39m \u001B[38;5;129;01mand\u001B[39;00m pos_label \u001B[38;5;129;01mis\u001B[39;00m \u001B[38;5;129;01mnot\u001B[39;00m \u001B[38;5;28;01mNone\u001B[39;00m)):\n\u001B[1;32m    863\u001B[0m     \u001B[38;5;28;01mraise\u001B[39;00m \u001B[38;5;167;01mValueError\u001B[39;00m(\u001B[38;5;124m\"\u001B[39m\u001B[38;5;132;01m{0}\u001B[39;00m\u001B[38;5;124m format is not supported\u001B[39m\u001B[38;5;124m\"\u001B[39m\u001B[38;5;241m.\u001B[39mformat(y_type))\n\u001B[0;32m--> 865\u001B[0m \u001B[43mcheck_consistent_length\u001B[49m\u001B[43m(\u001B[49m\u001B[43my_true\u001B[49m\u001B[43m,\u001B[49m\u001B[43m \u001B[49m\u001B[43my_score\u001B[49m\u001B[43m,\u001B[49m\u001B[43m \u001B[49m\u001B[43msample_weight\u001B[49m\u001B[43m)\u001B[49m\n\u001B[1;32m    866\u001B[0m y_true \u001B[38;5;241m=\u001B[39m column_or_1d(y_true)\n\u001B[1;32m    867\u001B[0m y_score \u001B[38;5;241m=\u001B[39m column_or_1d(y_score)\n",
      "File \u001B[0;32m~/Documents/TSB-AD/.venv/lib/python3.10/site-packages/sklearn/utils/validation.py:473\u001B[0m, in \u001B[0;36mcheck_consistent_length\u001B[0;34m(*arrays)\u001B[0m\n\u001B[1;32m    471\u001B[0m lengths \u001B[38;5;241m=\u001B[39m [_num_samples(X) \u001B[38;5;28;01mfor\u001B[39;00m X \u001B[38;5;129;01min\u001B[39;00m arrays \u001B[38;5;28;01mif\u001B[39;00m X \u001B[38;5;129;01mis\u001B[39;00m \u001B[38;5;129;01mnot\u001B[39;00m \u001B[38;5;28;01mNone\u001B[39;00m]\n\u001B[1;32m    472\u001B[0m \u001B[38;5;28;01mif\u001B[39;00m \u001B[38;5;28mlen\u001B[39m(\u001B[38;5;28mset\u001B[39m(lengths)) \u001B[38;5;241m>\u001B[39m \u001B[38;5;241m1\u001B[39m:\n\u001B[0;32m--> 473\u001B[0m     \u001B[38;5;28;01mraise\u001B[39;00m \u001B[38;5;167;01mValueError\u001B[39;00m(\n\u001B[1;32m    474\u001B[0m         \u001B[38;5;124m\"\u001B[39m\u001B[38;5;124mFound input variables with inconsistent numbers of samples: \u001B[39m\u001B[38;5;132;01m%r\u001B[39;00m\u001B[38;5;124m\"\u001B[39m\n\u001B[1;32m    475\u001B[0m         \u001B[38;5;241m%\u001B[39m [\u001B[38;5;28mint\u001B[39m(l) \u001B[38;5;28;01mfor\u001B[39;00m l \u001B[38;5;129;01min\u001B[39;00m lengths]\n\u001B[1;32m    476\u001B[0m     )\n",
      "\u001B[0;31mValueError\u001B[0m: Found input variables with inconsistent numbers of samples: [18000, 1999]"
     ]
    }
   ],
   "execution_count": 1
  },
  {
   "metadata": {
    "ExecuteTime": {
     "end_time": "2025-06-19T02:18:26.694645Z",
     "start_time": "2025-06-19T02:18:25.883857Z"
    }
   },
   "cell_type": "code",
   "source": [
    "import torch\n",
    "print(\"PyTorch version:\", torch.__version__)\n",
    "print(\"CUDA available:\", torch.cuda.is_available())\n",
    "print(\"CUDA version:\", torch.version.cuda)\n",
    "print(\"cuDNN version:\", torch.backends.cudnn.version())"
   ],
   "id": "51918ab3cd6385e2",
   "outputs": [
    {
     "name": "stdout",
     "output_type": "stream",
     "text": [
      "PyTorch version: 2.3.0\n",
      "CUDA available: False\n",
      "CUDA version: None\n",
      "cuDNN version: None\n"
     ]
    }
   ],
   "execution_count": 1
  },
  {
   "metadata": {
    "ExecuteTime": {
     "end_time": "2025-06-18T14:29:04.188516Z",
     "start_time": "2025-06-18T14:29:04.128510Z"
    }
   },
   "cell_type": "code",
   "source": [
    "import torch\n",
    "try:\n",
    "    print(\"CUDA available:\", torch.cuda.is_available())\n",
    "    print(\"Device count:\", torch.cuda.device_count())\n",
    "    print(\"Device name:\", torch.cuda.get_device_name(0))\n",
    "except Exception as e:\n",
    "    print(\"CUDA error:\", e)"
   ],
   "id": "57d0086b044ecfe7",
   "outputs": [
    {
     "name": "stdout",
     "output_type": "stream",
     "text": [
      "CUDA available: True\n",
      "Device count: 1\n",
      "Device name: NVIDIA RTX 2000 Ada Generation Laptop GPU\n"
     ]
    }
   ],
   "execution_count": 2
  },
  {
   "metadata": {},
   "cell_type": "code",
   "outputs": [],
   "execution_count": null,
   "source": "",
   "id": "60b6d29be9f2924f"
  },
  {
   "metadata": {},
   "cell_type": "code",
   "outputs": [],
   "execution_count": null,
   "source": "",
   "id": "201316ec077804a6"
  }
 ],
 "metadata": {
  "kernelspec": {
   "display_name": "Python 3",
   "language": "python",
   "name": "python3"
  },
  "language_info": {
   "codemirror_mode": {
    "name": "ipython",
    "version": 2
   },
   "file_extension": ".py",
   "mimetype": "text/x-python",
   "name": "python",
   "nbconvert_exporter": "python",
   "pygments_lexer": "ipython2",
   "version": "2.7.6"
  }
 },
 "nbformat": 4,
 "nbformat_minor": 5
}
